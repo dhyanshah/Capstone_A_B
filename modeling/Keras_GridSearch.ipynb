{
 "cells": [
  {
   "cell_type": "code",
   "execution_count": 25,
   "metadata": {},
   "outputs": [],
   "source": [
    "import pandas as pd\n",
    "import numpy as np\n",
    "\n",
    "\n",
    "import xgboost as xgb\n",
    "import lightgbm as lgb\n",
    "import tensorflow as tf\n",
    "import tensorflow.keras as keras \n",
    "\n",
    "from keras.utils.np_utils import to_categorical\n",
    "from keras.models import Sequential\n",
    "from keras.layers import Dense, Dropout, Flatten, Conv2D, MaxPooling2D, Activation\n",
    "from keras.optimizers import Adam\n",
    "from keras.wrappers.scikit_learn import KerasClassifier\n",
    "\n",
    "from keras.constraints import maxnorm\n",
    "\n",
    "from sklearn.decomposition import PCA\n",
    "from sklearn.preprocessing import StandardScaler\n",
    "from sklearn.model_selection import RepeatedStratifiedKFold\n",
    "from sklearn.model_selection import train_test_split\n",
    "from sklearn.metrics import accuracy_score\n",
    "from sklearn.metrics import log_loss\n",
    "from sklearn.metrics import fbeta_score, make_scorer\n",
    "from sklearn import svm\n",
    "from sklearn.pipeline import Pipeline\n",
    "from sklearn.preprocessing import LabelEncoder\n",
    "\n",
    "from sklearn.ensemble import RandomForestClassifier\n",
    "\n",
    "from sklearn.model_selection import RandomizedSearchCV\n",
    "from sklearn.model_selection import GridSearchCV\n",
    "\n",
    "\n",
    "%matplotlib inline\n",
    "import matplotlib.pyplot as plt\n",
    "import seaborn as sns; sns.set()"
   ]
  },
  {
   "cell_type": "code",
   "execution_count": 26,
   "metadata": {},
   "outputs": [],
   "source": [
    "train_df = pd.read_csv(\"music_scaled_train_pca_75.csv\", header=0)\n",
    "test_df = pd.read_csv(\"music_scaled_test_pca_25.csv\", header=0)"
   ]
  },
  {
   "cell_type": "code",
   "execution_count": 69,
   "metadata": {},
   "outputs": [],
   "source": [
    "X_train_df = train_df.drop(columns=['genre'])\n",
    "X_test_df = test_df.drop(columns=['genre'])\n",
    "y_train_df = train_df['genre']\n",
    "y_test_df = test_df['genre']"
   ]
  },
  {
   "cell_type": "code",
   "execution_count": 87,
   "metadata": {},
   "outputs": [
    {
     "data": {
      "text/plain": [
       "121"
      ]
     },
     "execution_count": 87,
     "metadata": {},
     "output_type": "execute_result"
    }
   ],
   "source": [
    "label_num = train_df.groupby('genre')['genre'].count().count()\n",
    "label_num"
   ]
  },
  {
   "cell_type": "code",
   "execution_count": 61,
   "metadata": {},
   "outputs": [
    {
     "data": {
      "text/plain": [
       "121"
      ]
     },
     "execution_count": 61,
     "metadata": {},
     "output_type": "execute_result"
    }
   ],
   "source": [
    "test_df.groupby('genre')['genre'].count().count()"
   ]
  },
  {
   "cell_type": "code",
   "execution_count": 44,
   "metadata": {},
   "outputs": [],
   "source": [
    "#functions\n",
    "\n",
    "def loss_scorer(y_true, y_pred, eps=1e-15, normalize=True, sample_weight=None, labels=None):\n",
    "    return log_loss(y_true, y_pred, eps, normalize, sample_weight, labels=__LABELS__)\n",
    "\n",
    "def search_pipeline(X_train_data, X_test_data, y_train_data, y_test_data, \n",
    "                       model, param_grid, cv=10, scoring_fit='neg_mean_squared_error',\n",
    "                       do_probabilities = False, search_mode = 'GridSearchCV', n_iterations = 0):\n",
    "    fitted_model = None\n",
    "    \n",
    "    if(search_mode == 'GridSearchCV'):\n",
    "        gs = GridSearchCV(\n",
    "            estimator=model,\n",
    "            param_grid=param_grid, \n",
    "            cv=cv, \n",
    "            n_jobs=-1, \n",
    "            scoring=scoring_fit,\n",
    "            verbose=2\n",
    "        )\n",
    "        fitted_model = gs.fit(X_train_data, y_train_data)\n",
    "\n",
    "    elif (search_mode == 'RandomizedSearchCV'):\n",
    "        rs = RandomizedSearchCV(\n",
    "            estimator=model,\n",
    "            param_distributions=param_grid, \n",
    "            cv=cv,\n",
    "            n_iter=n_iterations,\n",
    "            n_jobs=-1, \n",
    "            scoring=scoring_fit,\n",
    "            verbose=2\n",
    "        )\n",
    "        fitted_model = rs.fit(X_train_data, y_train_data)\n",
    "    \n",
    "    \n",
    "    if(fitted_model != None):\n",
    "        if do_probabilities:\n",
    "            pred = fitted_model.predict_proba(X_test_data)\n",
    "        else:\n",
    "            pred = fitted_model.predict(X_test_data)\n",
    "            \n",
    "        return fitted_model, pred"
   ]
  },
  {
   "cell_type": "code",
   "execution_count": 109,
   "metadata": {},
   "outputs": [],
   "source": [
    "# Deep Learning model base\n",
    "# Function to create model, required for KerasClassifier\n",
    "def create_model(\n",
    "    activation='relu',\n",
    "    dropout_rate=0.0,\n",
    "    init_mode='uniform',\n",
    "    weight_constraint=0,\n",
    "    optimizer='adam',\n",
    "    lr=0.01,\n",
    "    momentum=0):\n",
    "    # create model\n",
    "    model = Sequential()\n",
    "    model.add(Dense(1028, input_dim=input_dim, \n",
    "                    kernel_initializer=init_mode,\n",
    "                    activation=activation, \n",
    "                    kernel_constraint=maxnorm(weight_constraint)))\n",
    "    model.add(Dense(512, activation=activation))\n",
    "    model.add(Dense(256, activation=activation))\n",
    "    model.add(Dense(128, activation=activation))\n",
    "    model.add(Dropout(dropout_rate))\n",
    "    model.add(Dense(label_num, \n",
    "                    kernel_initializer=init_mode, \n",
    "                    activation=activation))\n",
    "    # Compile model\n",
    "    model.compile(loss='sparse_categorical_crossentropy', \n",
    "                  optimizer=optimizer, \n",
    "                  metrics=['accuracy'])\n",
    "    return model\n",
    "\n",
    "# fix random seed for reproducibility\n",
    "seed = 7\n",
    "\n",
    "\n",
    "#gridsearch area\n",
    "activation = ['relu', 'tanh', 'sigmoid', 'hard_sigmoid', 'linear', 'softmax']\n",
    "momentum = [0.0, 0.2, 0.4, 0.6, 0.8, 0.9]\n",
    "dropout_rate = [0.001, 0.01, 0.1, 0.2, 0.3]\n",
    "weight_constraint = [1, 2, 3, 4, 5]\n",
    "neurons = [1, 5, 10, 15, 20, 25, 30]\n",
    "init_mode = ['uniform', 'lecun_uniform', 'normal', 'zero', 'glorot_normal', 'glorot_uniform', 'he_normal', 'he_uniform']\n",
    "optimizer = ['SGD', 'RMSprop', 'Adagrad', 'Adadelta', 'Adam', 'Adamax', 'Nadam']\n",
    "\n",
    "epochs = [1, 10, 50, 100]\n",
    "batch_size = [128, 512, 1024, 2048, 4096]\n",
    "#param_grid = dict(epochs=epochs, batch_size=batch_size)\n",
    "\n",
    "#reduce or expand this based on need and runtime\n",
    "param_grid = dict(epochs=epochs\n",
    "                  , batch_size=batch_size\n",
    "                  , activation=activation\n",
    "                  , dropout_rate=dropout_rate\n",
    "                  , weight_constraint=weight_constraint,\n",
    "                  , init_mode=init_mode\n",
    "                  , optimizer=optimizer\n",
    "                 )"
   ]
  },
  {
   "cell_type": "code",
   "execution_count": 110,
   "metadata": {},
   "outputs": [],
   "source": [
    "#Encode labels since tensorflow expects integers\n",
    "encoder = LabelEncoder()\n",
    "y = encoder.fit_transform(y_train_df)\n",
    "\n",
    "#create global variable for this\n",
    "#this isnt good practice but whatever\n",
    "global __LABELS__\n",
    "__LABELS__ = list(set(y))"
   ]
  },
  {
   "cell_type": "code",
   "execution_count": null,
   "metadata": {},
   "outputs": [
    {
     "name": "stdout",
     "output_type": "stream",
     "text": [
      "Fitting 9 folds for each of 56 candidates, totalling 504 fits\n"
     ]
    },
    {
     "name": "stderr",
     "output_type": "stream",
     "text": [
      "[Parallel(n_jobs=-1)]: Using backend LokyBackend with 32 concurrent workers.\n",
      "[Parallel(n_jobs=-1)]: Done  98 tasks      | elapsed: 10.6min\n"
     ]
    }
   ],
   "source": [
    "# spliting of dataset into train and test dataset\n",
    "X_train, X_test, y_train, y_test = train_test_split(X_train_df\n",
    "                                                    , y\n",
    "                                                    , test_size=0.2\n",
    "                                                    , stratify=y)\n",
    "\n",
    "#use RepeatedStratifiedKFold to roughly ensure that each \n",
    "#fold is representative of all strata of the data\n",
    "cv = RepeatedStratifiedKFold(n_splits=3, n_repeats=3)\n",
    "\n",
    "# create Keras model\n",
    "input_dim = X_train.shape[1]\n",
    "model = KerasClassifier(build_fn=create_model)\n",
    "\n",
    "model, pred = search_pipeline(X_train\n",
    "                              , X_test\n",
    "                              , y_train\n",
    "                              , y_test\n",
    "                              ,model\n",
    "                              ,param_grid\n",
    "                              ,cv=cv\n",
    "                              ,scoring_fit=make_scorer(loss_scorer, \n",
    "                                                      greater_is_better=False, \n",
    "                                                      needs_proba=True)\n",
    "                              ,search_mode = 'RandomizedSearchCV'\n",
    "                              ,n_iterations = 5\n",
    "                             )\n",
    "\n",
    "# summarize results\n",
    "print(\"Best: %f using %s\" % (model.best_score_, model.best_params_))\n",
    "means = model.cv_results_['mean_test_score']\n",
    "stds = model.cv_results_['std_test_score']\n",
    "params = model.cv_results_['params']\n",
    "for mean, stdev, param in zip(means, stds, params):\n",
    "    print(\"%f (%f) with: %r\" % (mean, stdev, param))"
   ]
  }
 ],
 "metadata": {
  "kernelspec": {
   "display_name": "Python 3",
   "language": "python",
   "name": "python3"
  },
  "language_info": {
   "codemirror_mode": {
    "name": "ipython",
    "version": 3
   },
   "file_extension": ".py",
   "mimetype": "text/x-python",
   "name": "python",
   "nbconvert_exporter": "python",
   "pygments_lexer": "ipython3",
   "version": "3.7.3"
  }
 },
 "nbformat": 4,
 "nbformat_minor": 4
}
