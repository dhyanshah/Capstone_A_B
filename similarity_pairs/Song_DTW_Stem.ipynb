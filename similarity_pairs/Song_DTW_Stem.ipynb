{
 "cells": [
  {
   "cell_type": "code",
   "execution_count": 1,
   "metadata": {},
   "outputs": [
    {
     "name": "stderr",
     "output_type": "stream",
     "text": [
      "\n",
      "Bad key \"text.kerning_factor\" on line 4 in\n",
      "/opt/tljh/user/lib/python3.7/site-packages/matplotlib/mpl-data/stylelib/_classic_test_patch.mplstyle.\n",
      "You probably need to get an updated matplotlibrc file from\n",
      "https://github.com/matplotlib/matplotlib/blob/v3.1.3/matplotlibrc.template\n",
      "or from the matplotlib source distribution\n"
     ]
    }
   ],
   "source": [
    "import os\n",
    "from os import listdir\n",
    "from os import path\n",
    "from os.path import isfile, join, getsize\n",
    "import re\n",
    "import pandas as pd\n",
    "\n",
    "import json\n",
    "import io\n",
    "import glob\n",
    "import matplotlib.pyplot as plt\n",
    "import seaborn as sns\n",
    "import numpy as np\n",
    "#need this for some stupid reason to import essentia\n",
    "import sys\n",
    "sys.path.append(\"/usr/local/lib/python3.8/site-packages\")\n",
    "import essentia\n",
    "import essentia.standard as es\n"
   ]
  },
  {
   "cell_type": "code",
   "execution_count": 2,
   "metadata": {},
   "outputs": [],
   "source": [
    "import boto3\n",
    "import tempfile"
   ]
  },
  {
   "cell_type": "code",
   "execution_count": 3,
   "metadata": {},
   "outputs": [],
   "source": [
    "#Load some data\n",
    "s3 = boto3.resource('s3', region_name='us-east-1')\n",
    "bucket = s3.Bucket('pkls')\n",
    "\n",
    "#open the essentia file. This downloads the file locally to the instance\n",
    "#so that it doesnt have to fit directly into memory\n",
    "fname = 'cover80_song_pair_data.pkl'\n",
    "if os.path.isfile(fname) == False:\n",
    "    %sc\n",
    "    !wget 'https://pkls.s3.amazonaws.com/cover80_song_pair_data.pkl'"
   ]
  },
  {
   "cell_type": "code",
   "execution_count": 4,
   "metadata": {},
   "outputs": [],
   "source": [
    "#traindf = pd.read_pickle('https://pkls.s3.amazonaws.com/cover80_song_pair_data.pkl') ## Cover_80 Songs\n",
    "#testdf = pd.read_pickle('https://pkls.s3.amazonaws.com/plagerism_song_pair_data.pkl') ## Susp. Plagiarism 48 pairs"
   ]
  },
  {
   "cell_type": "code",
   "execution_count": 5,
   "metadata": {},
   "outputs": [],
   "source": [
    "stem_tr_df = pd.read_pickle('https://pkls.s3.amazonaws.com/cover80_song_pair_stem_data.pkl ') ## Cover_80 Songs Stem"
   ]
  },
  {
   "cell_type": "code",
   "execution_count": 6,
   "metadata": {},
   "outputs": [],
   "source": [
    "stem_ts_df = pd.read_pickle('https://pkls.s3.amazonaws.com/plagerism_song_pair_stem_data.pkl') ## Susp. Plagiarism 48 pairs"
   ]
  },
  {
   "cell_type": "code",
   "execution_count": 10,
   "metadata": {},
   "outputs": [],
   "source": [
    "### Cover 80 ####\n",
    "\n",
    "    # stem_tr_df ### 77 rows × 36 columns\n",
    "\n",
    "### Plagiarism 46 ###\n",
    "\n",
    "    # stem_ts_df ### 45 x 36 columns"
   ]
  },
  {
   "cell_type": "markdown",
   "metadata": {},
   "source": [
    "### Dataframe Preview - ### Cover 80 - Stem ####"
   ]
  },
  {
   "cell_type": "code",
   "execution_count": 11,
   "metadata": {},
   "outputs": [
    {
     "data": {
      "text/html": [
       "<div>\n",
       "<style scoped>\n",
       "    .dataframe tbody tr th:only-of-type {\n",
       "        vertical-align: middle;\n",
       "    }\n",
       "\n",
       "    .dataframe tbody tr th {\n",
       "        vertical-align: top;\n",
       "    }\n",
       "\n",
       "    .dataframe thead th {\n",
       "        text-align: right;\n",
       "    }\n",
       "</style>\n",
       "<table border=\"1\" class=\"dataframe\">\n",
       "  <thead>\n",
       "    <tr style=\"text-align: right;\">\n",
       "      <th></th>\n",
       "      <th>pair</th>\n",
       "      <th>song_1</th>\n",
       "      <th>song_2</th>\n",
       "      <th>MFCC_1_bass</th>\n",
       "      <th>MFCC_1_drums</th>\n",
       "      <th>MFCC_1_vocals</th>\n",
       "      <th>MFCC_1_other</th>\n",
       "      <th>GFCC_1_bass</th>\n",
       "      <th>GFCC_1_drums</th>\n",
       "      <th>GFCC_1_vocals</th>\n",
       "      <th>...</th>\n",
       "      <th>HPCP_2_other</th>\n",
       "      <th>sim_matrix_bass</th>\n",
       "      <th>sim_matrix_drums</th>\n",
       "      <th>sim_matrix_vocals</th>\n",
       "      <th>sim_matrix_other</th>\n",
       "      <th>sim_distance_bass</th>\n",
       "      <th>sim_distance_drums</th>\n",
       "      <th>sim_distance_vocals</th>\n",
       "      <th>sim_distance_other</th>\n",
       "      <th>sim_distance_argmin</th>\n",
       "    </tr>\n",
       "  </thead>\n",
       "  <tbody>\n",
       "    <tr>\n",
       "      <th>0</th>\n",
       "      <td>A_Whiter_Shade_Of_Pale</td>\n",
       "      <td>annie_lennox+Medusa+03-A_Whiter_Shade_Of_Pale</td>\n",
       "      <td>procol_harum+Greatest_Hits+2-A_Whiter_Shade_Of...</td>\n",
       "      <td>[[0.0, 0.0, 0.0, 0.0, 0.0, 0.0, 0.0, 0.0, 0.0,...</td>\n",
       "      <td>[[0.0, 0.0, 0.0, 0.0, 0.0, 0.0, 0.0, 0.0, 0.0,...</td>\n",
       "      <td>[[0.0, 0.0, 0.0, 0.0, 0.0, 0.0, 0.0, 0.0, 0.0,...</td>\n",
       "      <td>[[0.0, 0.0, 0.0, 0.0, 0.0, 0.0, 0.0, 0.0, 0.0,...</td>\n",
       "      <td>[[0.0, 0.0, 0.0, 0.0, 0.0, 0.0, 0.0, 0.0, 0.0,...</td>\n",
       "      <td>[[0.0, 0.0, 0.0, 0.0, 0.0, 0.0, 0.0, 0.0, 0.0,...</td>\n",
       "      <td>[[0.0, 0.0, 0.0, 0.0, 0.0, 0.0, 0.0, 0.0, 0.0,...</td>\n",
       "      <td>...</td>\n",
       "      <td>[[0.0, 0.0, 0.0, 0.0, 0.0, 0.0, 0.0, 0.0, 0.0,...</td>\n",
       "      <td>[[0.0, 0.0, 0.0, 0.0, 0.0, 0.0, 0.0, 0.0, 0.0,...</td>\n",
       "      <td>[[0.0, 0.0, 0.0, 0.0, 0.0, 0.0, 0.0, 0.0, 0.0,...</td>\n",
       "      <td>[[0.0, 0.0, 0.0, 0.0, 0.0, 0.0, 0.0, 0.0, 0.0,...</td>\n",
       "      <td>[[0.0, 0.0, 0.0, 0.0, 0.0, 0.0, 0.0, 0.0, 0.0,...</td>\n",
       "      <td>0.044063</td>\n",
       "      <td>0.037751</td>\n",
       "      <td>0.035935</td>\n",
       "      <td>0.022592</td>\n",
       "      <td>0.022592</td>\n",
       "    </tr>\n",
       "  </tbody>\n",
       "</table>\n",
       "<p>1 rows × 36 columns</p>\n",
       "</div>"
      ],
      "text/plain": [
       "                     pair                                         song_1  \\\n",
       "0  A_Whiter_Shade_Of_Pale  annie_lennox+Medusa+03-A_Whiter_Shade_Of_Pale   \n",
       "\n",
       "                                              song_2  \\\n",
       "0  procol_harum+Greatest_Hits+2-A_Whiter_Shade_Of...   \n",
       "\n",
       "                                         MFCC_1_bass  \\\n",
       "0  [[0.0, 0.0, 0.0, 0.0, 0.0, 0.0, 0.0, 0.0, 0.0,...   \n",
       "\n",
       "                                        MFCC_1_drums  \\\n",
       "0  [[0.0, 0.0, 0.0, 0.0, 0.0, 0.0, 0.0, 0.0, 0.0,...   \n",
       "\n",
       "                                       MFCC_1_vocals  \\\n",
       "0  [[0.0, 0.0, 0.0, 0.0, 0.0, 0.0, 0.0, 0.0, 0.0,...   \n",
       "\n",
       "                                        MFCC_1_other  \\\n",
       "0  [[0.0, 0.0, 0.0, 0.0, 0.0, 0.0, 0.0, 0.0, 0.0,...   \n",
       "\n",
       "                                         GFCC_1_bass  \\\n",
       "0  [[0.0, 0.0, 0.0, 0.0, 0.0, 0.0, 0.0, 0.0, 0.0,...   \n",
       "\n",
       "                                        GFCC_1_drums  \\\n",
       "0  [[0.0, 0.0, 0.0, 0.0, 0.0, 0.0, 0.0, 0.0, 0.0,...   \n",
       "\n",
       "                                       GFCC_1_vocals  ...  \\\n",
       "0  [[0.0, 0.0, 0.0, 0.0, 0.0, 0.0, 0.0, 0.0, 0.0,...  ...   \n",
       "\n",
       "                                        HPCP_2_other  \\\n",
       "0  [[0.0, 0.0, 0.0, 0.0, 0.0, 0.0, 0.0, 0.0, 0.0,...   \n",
       "\n",
       "                                     sim_matrix_bass  \\\n",
       "0  [[0.0, 0.0, 0.0, 0.0, 0.0, 0.0, 0.0, 0.0, 0.0,...   \n",
       "\n",
       "                                    sim_matrix_drums  \\\n",
       "0  [[0.0, 0.0, 0.0, 0.0, 0.0, 0.0, 0.0, 0.0, 0.0,...   \n",
       "\n",
       "                                   sim_matrix_vocals  \\\n",
       "0  [[0.0, 0.0, 0.0, 0.0, 0.0, 0.0, 0.0, 0.0, 0.0,...   \n",
       "\n",
       "                                    sim_matrix_other sim_distance_bass  \\\n",
       "0  [[0.0, 0.0, 0.0, 0.0, 0.0, 0.0, 0.0, 0.0, 0.0,...          0.044063   \n",
       "\n",
       "  sim_distance_drums sim_distance_vocals sim_distance_other  \\\n",
       "0           0.037751            0.035935           0.022592   \n",
       "\n",
       "  sim_distance_argmin  \n",
       "0            0.022592  \n",
       "\n",
       "[1 rows x 36 columns]"
      ]
     },
     "execution_count": 11,
     "metadata": {},
     "output_type": "execute_result"
    }
   ],
   "source": [
    "stem_tr_df = stem_tr_df[stem_tr_df['pair'] != 'All_Along_The_Watchtower']\n",
    "stem_tr_df = stem_tr_df[stem_tr_df['pair'] != 'Let_It_Be']\n",
    "stem_tr_df = stem_tr_df[stem_tr_df['pair'] != 'Take_Me_To_The_River']\n",
    "#stem_tr_df\n",
    "stem_tr_df.head(1) ## stemming for Cover 80"
   ]
  },
  {
   "cell_type": "markdown",
   "metadata": {},
   "source": [
    "### Dataframe Preview - ### Plagiarism 46 - Stem ####"
   ]
  },
  {
   "cell_type": "code",
   "execution_count": 15,
   "metadata": {},
   "outputs": [
    {
     "data": {
      "text/html": [
       "<div>\n",
       "<style scoped>\n",
       "    .dataframe tbody tr th:only-of-type {\n",
       "        vertical-align: middle;\n",
       "    }\n",
       "\n",
       "    .dataframe tbody tr th {\n",
       "        vertical-align: top;\n",
       "    }\n",
       "\n",
       "    .dataframe thead th {\n",
       "        text-align: right;\n",
       "    }\n",
       "</style>\n",
       "<table border=\"1\" class=\"dataframe\">\n",
       "  <thead>\n",
       "    <tr style=\"text-align: right;\">\n",
       "      <th></th>\n",
       "      <th>pair</th>\n",
       "      <th>song_1</th>\n",
       "      <th>song_2</th>\n",
       "      <th>MFCC_1_bass</th>\n",
       "      <th>MFCC_1_drums</th>\n",
       "      <th>MFCC_1_vocals</th>\n",
       "      <th>MFCC_1_other</th>\n",
       "      <th>GFCC_1_bass</th>\n",
       "      <th>GFCC_1_drums</th>\n",
       "      <th>GFCC_1_vocals</th>\n",
       "      <th>...</th>\n",
       "      <th>HPCP_2_other</th>\n",
       "      <th>sim_matrix_bass</th>\n",
       "      <th>sim_matrix_drums</th>\n",
       "      <th>sim_matrix_vocals</th>\n",
       "      <th>sim_matrix_other</th>\n",
       "      <th>sim_distance_bass</th>\n",
       "      <th>sim_distance_drums</th>\n",
       "      <th>sim_distance_vocals</th>\n",
       "      <th>sim_distance_other</th>\n",
       "      <th>sim_distance_argmin</th>\n",
       "    </tr>\n",
       "  </thead>\n",
       "  <tbody>\n",
       "    <tr>\n",
       "      <th>0</th>\n",
       "      <td>1</td>\n",
       "      <td>1.Juice WRLD - Lucid Dreams_Cpy</td>\n",
       "      <td>1.yellowcard-holly-wood-died_Org</td>\n",
       "      <td>[[1.441698e-11, 2.6813463e-20, 0.0, 0.0, 0.0, ...</td>\n",
       "      <td>[[2.1095098e-05, 1.87994e-12, 0.0, 1.2482786e-...</td>\n",
       "      <td>[[3.5787045e-06, 7.3024994e-14, 1.6972452e-13,...</td>\n",
       "      <td>[[2.3845529e-05, 2.4495484e-12, 2.3903596e-10,...</td>\n",
       "      <td>[[1.1341816e-09, 2.1096323e-18, 0.0, 0.0, 0.0,...</td>\n",
       "      <td>[[0.0016602164, 1.1362626e-10, 0.0, 1.0038605e...</td>\n",
       "      <td>[[0.00028141937, 6.0297847e-12, 1.39602765e-11...</td>\n",
       "      <td>...</td>\n",
       "      <td>[[0.0, 0.0, 0.0, 0.0, 0.0, 1.0, 0.0, 0.0, 0.0,...</td>\n",
       "      <td>[[0.0, 0.0, 0.0, 0.0, 0.0, 0.0, 0.0, 0.0, 0.0,...</td>\n",
       "      <td>[[0.0, 0.0, 0.0, 0.0, 0.0, 0.0, 0.0, 0.0, 0.0,...</td>\n",
       "      <td>[[0.0, 0.0, 0.0, 0.0, 0.0, 0.0, 0.0, 0.0, 0.0,...</td>\n",
       "      <td>[[0.0, 0.0, 0.0, 0.0, 0.0, 0.0, 0.0, 0.0, 0.0,...</td>\n",
       "      <td>0.051645</td>\n",
       "      <td>0.037107</td>\n",
       "      <td>0.050598</td>\n",
       "      <td>0.050831</td>\n",
       "      <td>0.037107</td>\n",
       "    </tr>\n",
       "  </tbody>\n",
       "</table>\n",
       "<p>1 rows × 36 columns</p>\n",
       "</div>"
      ],
      "text/plain": [
       "  pair                           song_1                            song_2  \\\n",
       "0    1  1.Juice WRLD - Lucid Dreams_Cpy  1.yellowcard-holly-wood-died_Org   \n",
       "\n",
       "                                         MFCC_1_bass  \\\n",
       "0  [[1.441698e-11, 2.6813463e-20, 0.0, 0.0, 0.0, ...   \n",
       "\n",
       "                                        MFCC_1_drums  \\\n",
       "0  [[2.1095098e-05, 1.87994e-12, 0.0, 1.2482786e-...   \n",
       "\n",
       "                                       MFCC_1_vocals  \\\n",
       "0  [[3.5787045e-06, 7.3024994e-14, 1.6972452e-13,...   \n",
       "\n",
       "                                        MFCC_1_other  \\\n",
       "0  [[2.3845529e-05, 2.4495484e-12, 2.3903596e-10,...   \n",
       "\n",
       "                                         GFCC_1_bass  \\\n",
       "0  [[1.1341816e-09, 2.1096323e-18, 0.0, 0.0, 0.0,...   \n",
       "\n",
       "                                        GFCC_1_drums  \\\n",
       "0  [[0.0016602164, 1.1362626e-10, 0.0, 1.0038605e...   \n",
       "\n",
       "                                       GFCC_1_vocals  ...  \\\n",
       "0  [[0.00028141937, 6.0297847e-12, 1.39602765e-11...  ...   \n",
       "\n",
       "                                        HPCP_2_other  \\\n",
       "0  [[0.0, 0.0, 0.0, 0.0, 0.0, 1.0, 0.0, 0.0, 0.0,...   \n",
       "\n",
       "                                     sim_matrix_bass  \\\n",
       "0  [[0.0, 0.0, 0.0, 0.0, 0.0, 0.0, 0.0, 0.0, 0.0,...   \n",
       "\n",
       "                                    sim_matrix_drums  \\\n",
       "0  [[0.0, 0.0, 0.0, 0.0, 0.0, 0.0, 0.0, 0.0, 0.0,...   \n",
       "\n",
       "                                   sim_matrix_vocals  \\\n",
       "0  [[0.0, 0.0, 0.0, 0.0, 0.0, 0.0, 0.0, 0.0, 0.0,...   \n",
       "\n",
       "                                    sim_matrix_other sim_distance_bass  \\\n",
       "0  [[0.0, 0.0, 0.0, 0.0, 0.0, 0.0, 0.0, 0.0, 0.0,...          0.051645   \n",
       "\n",
       "  sim_distance_drums sim_distance_vocals sim_distance_other  \\\n",
       "0           0.037107            0.050598           0.050831   \n",
       "\n",
       "  sim_distance_argmin  \n",
       "0            0.037107  \n",
       "\n",
       "[1 rows x 36 columns]"
      ]
     },
     "execution_count": 15,
     "metadata": {},
     "output_type": "execute_result"
    }
   ],
   "source": [
    "stem_ts_df = stem_ts_df.drop([stem_ts_df.index[29]])\n",
    "stem_ts_df.head(1) ## stemming for Suspected 50\n",
    "#stem_ts_df"
   ]
  },
  {
   "cell_type": "markdown",
   "metadata": {},
   "source": [
    "### Cover 80 Stem distributions"
   ]
  },
  {
   "cell_type": "code",
   "execution_count": 36,
   "metadata": {},
   "outputs": [],
   "source": [
    "stem_tr_mfcc1_bass = np.array(stem_tr_df['MFCC_1_bass']) ## Cover_80\n",
    "stem_tr_mfcc1_drums = np.array(stem_tr_df['MFCC_1_drums']) ## Cover_80\n",
    "stem_tr_mfcc1_vocals = np.array(stem_tr_df['MFCC_1_vocals']) ## Cover_80\n",
    "stem_tr_mfcc1_other = np.array(stem_tr_df['MFCC_1_other']) ## Cover_80\n",
    "\n",
    "stem_tr_gfcc1_bass = np.array(stem_tr_df['GFCC_1_bass']) ## Cover_80\n",
    "stem_tr_gfcc1_drums = np.array(stem_tr_df['GFCC_1_drums']) ## Cover_80\n",
    "stem_tr_gfcc1_vocals = np.array(stem_tr_df['GFCC_1_vocals']) ## Cover_80\n",
    "stem_tr_gfcc1_other = np.array(stem_tr_df['GFCC_1_other']) ## Cover_80\n",
    "\n",
    "stem_tr_hpcp1_bass = np.array(stem_tr_df['HPCP_1_bass']) ## Cover_80\n",
    "stem_tr_hpcp1_drums = np.array(stem_tr_df['HPCP_1_drums']) ## Cover_80\n",
    "stem_tr_hpcp1_vocals = np.array(stem_tr_df['HPCP_1_vocals']) ## Cover_80\n",
    "stem_tr_hpcp1_other = np.array(stem_tr_df['HPCP_1_other']) ## Cover_80\n",
    "\n",
    "stem_tr_mfcc2_bass = np.array(stem_tr_df['MFCC_2_bass']) ## Cover_80\n",
    "stem_tr_mfcc2_drums = np.array(stem_tr_df['MFCC_2_drums']) ## Cover_80\n",
    "stem_tr_mfcc2_vocals = np.array(stem_tr_df['MFCC_2_vocals']) ## Cover_80\n",
    "stem_tr_mfcc2_other = np.array(stem_tr_df['MFCC_2_other']) ## Cover_80\n",
    "\n",
    "stem_tr_gfcc2_bass = np.array(stem_tr_df['GFCC_2_bass']) ## Cover_80\n",
    "stem_tr_gfcc2_drums = np.array(stem_tr_df['GFCC_2_drums']) ## Cover_80\n",
    "stem_tr_gfcc2_vocals = np.array(stem_tr_df['GFCC_2_vocals']) ## Cover_80\n",
    "stem_tr_gfcc2_other = np.array(stem_tr_df['GFCC_2_other']) ## Cover_80\n",
    "\n",
    "stem_tr_hpcp2_bass = np.array(stem_tr_df['HPCP_2_bass']) ## Cover_80\n",
    "stem_tr_hpcp2_drums = np.array(stem_tr_df['HPCP_2_drums']) ## Cover_80\n",
    "stem_tr_hpcp2_vocals = np.array(stem_tr_df['HPCP_2_vocals']) ## Cover_80\n",
    "stem_tr_hpcp2_other = np.array(stem_tr_df['HPCP_2_other']) ## Cover_80\n",
    "\n",
    "stem_tr_sim_mat_bass = np.array(stem_tr_df['sim_matrix_bass']) ## Cover_80\n",
    "stem_tr_sim_mat_drums = np.array(stem_tr_df['sim_matrix_drums']) ## Cover_80\n",
    "stem_tr_sim_mat_vocals = np.array(stem_tr_df['sim_matrix_vocals']) ## Cover_80\n",
    "stem_tr_sim_mat_other = np.array(stem_tr_df['sim_matrix_other']) ## Cover_80\n",
    "\n",
    "\n",
    "stem_tr_sim_dist_bass = np.array(stem_tr_df['sim_distance_bass']) ## Cover_80\n",
    "stem_tr_sim_dist_drums = np.array(stem_tr_df['sim_distance_drums']) ## Cover_80\n",
    "stem_tr_sim_dist_vocals = np.array(stem_tr_df['sim_distance_vocals']) ## Cover_80\n",
    "stem_tr_sim_dist_other = np.array(stem_tr_df['sim_distance_other']) ## Cover_80\n",
    "\n",
    "stem_tr_sim_dist_argmin = np.array(stem_tr_df['sim_distance_argmin']) ## Cover_80\n",
    "\n",
    "\n",
    "#len(stem_tr)"
   ]
  },
  {
   "cell_type": "markdown",
   "metadata": {},
   "source": [
    "### Suspected 50 Stem distributions"
   ]
  },
  {
   "cell_type": "code",
   "execution_count": 58,
   "metadata": {},
   "outputs": [],
   "source": [
    "stem_ts_mfcc1_bass = np.array(stem_ts_df['MFCC_1_bass']) ## Suspected 50\n",
    "stem_ts_mfcc1_drums = np.array(stem_ts_df['MFCC_1_drums']) ## Suspected 50\n",
    "stem_ts_mfcc1_vocals = np.array(stem_ts_df['MFCC_1_vocals']) ## Suspected 50\n",
    "stem_ts_mfcc1_other = np.array(stem_ts_df['MFCC_1_other']) ## Suspected 50\n",
    "\n",
    "stem_ts_gfcc1_bass = np.array(stem_ts_df['GFCC_1_bass']) ## Suspected 50\n",
    "stem_ts_gfcc1_drums = np.array(stem_ts_df['GFCC_1_drums']) ## Suspected 50\n",
    "stem_ts_gfcc1_vocals = np.array(stem_ts_df['GFCC_1_vocals']) ## Suspected 50\n",
    "stem_ts_gfcc1_other = np.array(stem_ts_df['GFCC_1_other']) ## Suspected 50\n",
    "\n",
    "stem_ts_hpcp1_bass = np.array(stem_ts_df['HPCP_1_bass']) ## Suspected 50\n",
    "stem_ts_hpcp1_drums = np.array(stem_ts_df['HPCP_1_drums']) ## Suspected 50\n",
    "stem_ts_hpcp1_vocals = np.array(stem_ts_df['HPCP_1_vocals']) ## Suspected 50\n",
    "stem_ts_hpcp1_other = np.array(stem_ts_df['HPCP_1_other']) ## Suspected 50\n",
    "\n",
    "stem_ts_mfcc2_bass = np.array(stem_ts_df['MFCC_2_bass']) ## Suspected 50\n",
    "stem_ts_mfcc2_drums = np.array(stem_ts_df['MFCC_2_drums']) ## Suspected 50\n",
    "stem_ts_mfcc2_vocals = np.array(stem_ts_df['MFCC_2_vocals']) ## Suspected 50\n",
    "stem_ts_mfcc2_other = np.array(stem_ts_df['MFCC_2_other']) ## Suspected 50\n",
    "\n",
    "stem_ts_gfcc2_bass = np.array(stem_ts_df['GFCC_2_bass']) ## Suspected 50\n",
    "stem_ts_gfcc2_drums = np.array(stem_ts_df['GFCC_2_drums']) ## Suspected 50\n",
    "stem_ts_gfcc2_vocals = np.array(stem_ts_df['GFCC_2_vocals']) ## Suspected 50\n",
    "stem_ts_gfcc2_other = np.array(stem_ts_df['GFCC_2_other']) ## Suspected 50\n",
    "\n",
    "stem_ts_hpcp2_bass = np.array(stem_ts_df['HPCP_2_bass']) ## Suspected 50\n",
    "stem_ts_hpcp2_drums = np.array(stem_ts_df['HPCP_2_drums']) ## Suspected 50\n",
    "stem_ts_hpcp2_vocals = np.array(stem_ts_df['HPCP_2_vocals']) ## Suspected 50\n",
    "stem_ts_hpcp2_other = np.array(stem_ts_df['HPCP_2_other']) ## Suspected 50\n",
    "\n",
    "stem_ts_sim_mat_bass = np.array(stem_ts_df['sim_matrix_bass']) ## Suspected 50\n",
    "stem_ts_sim_mat_drums = np.array(stem_ts_df['sim_matrix_drums']) ## Suspected 50\n",
    "stem_ts_sim_mat_vocals = np.array(stem_ts_df['sim_matrix_vocals']) ## Suspected 50\n",
    "stem_ts_sim_mat_other = np.array(stem_ts_df['sim_matrix_other']) ## Suspected 50\n",
    "\n",
    "\n",
    "stem_ts_sim_dist_bass = np.array(stem_ts_df['sim_distance_bass']) ## Suspected 50\n",
    "stem_ts_sim_dist_drums = np.array(stem_ts_df['sim_distance_drums']) ## Suspected 50\n",
    "stem_ts_sim_dist_vocals = np.array(stem_ts_df['sim_distance_vocals']) ## Suspected 50\n",
    "stem_ts_sim_dist_other = np.array(stem_ts_df['sim_distance_other']) ## Suspected 50\n",
    "\n",
    "stem_ts_sim_dist_argmin = np.array(stem_ts_df['sim_distance_argmin']) ## Suspected 50"
   ]
  },
  {
   "cell_type": "markdown",
   "metadata": {},
   "source": [
    "## Cover 80 MFCC & GFCC distributions"
   ]
  },
  {
   "cell_type": "markdown",
   "metadata": {},
   "source": [
    "#### MFCC 1 & 2"
   ]
  },
  {
   "cell_type": "code",
   "execution_count": 151,
   "metadata": {},
   "outputs": [],
   "source": [
    "def  set_the_mean(feat, val) : \n",
    "    A = np.array([])\n",
    "    for x in range(0, val) : \n",
    "        A = np.append(A, np.mean(feat[x]))\n",
    "    return(A)"
   ]
  },
  {
   "cell_type": "code",
   "execution_count": 152,
   "metadata": {},
   "outputs": [],
   "source": [
    "MFCC1_bass_tr_1_5 = set_the_mean(stem_tr_mfcc1_bass[0:5],5)  # first 5 song MFCC\n",
    "MFCC1_bass_tr_1_20 = set_the_mean(stem_tr_mfcc1_bass[0:20],20) # first 20 song MFCC\n",
    "MFCC1_bass_tr_1_35 = set_the_mean(stem_tr_mfcc1_bass[0:35],35) # first 35 song MFCC\n",
    "MFCC1_bass_tr_1_50 = set_the_mean(stem_tr_mfcc1_bass[0:50],50) # first 50 song MFCC\n",
    "MFCC1_bass_tr_1_77 = set_the_mean(stem_tr_mfcc1_bass[0:77],77) # first 77 song MFCC\n",
    "\n",
    "MFCC1_drums_tr_1_5 = set_the_mean(stem_tr_mfcc1_drums[0:5],5)  # first 5 song MFCC\n",
    "MFCC1_drums_tr_1_20 = set_the_mean(stem_tr_mfcc1_drums[0:20],20) # first 20 song MFCC\n",
    "MFCC1_drums_tr_1_35 = set_the_mean(stem_tr_mfcc1_drums[0:35],35) # first 35 song MFCC\n",
    "MFCC1_drums_tr_1_50 = set_the_mean(stem_tr_mfcc1_drums[0:50],50) # first 50 song MFCC\n",
    "MFCC1_drums_tr_1_77 = set_the_mean(stem_tr_mfcc1_drums[0:77],77) # first 77 song MFCC\n",
    "\n",
    "MFCC1_vocals_tr_1_5 = set_the_mean(stem_tr_mfcc1_vocals[0:5],5)  # first 5 song MFCC\n",
    "MFCC1_vocals_tr_1_20 = set_the_mean(stem_tr_mfcc1_vocals[0:20],20) # first 20 song MFCC\n",
    "MFCC1_vocals_tr_1_35 = set_the_mean(stem_tr_mfcc1_vocals[0:35],35) # first 35 song MFCC\n",
    "MFCC1_vocals_tr_1_50 = set_the_mean(stem_tr_mfcc1_vocals[0:50],50) # first 50 song MFCC\n",
    "MFCC1_vocals_tr_1_77 = set_the_mean(stem_tr_mfcc1_vocals[0:77],77) # first 77 song MFCC\n",
    "\n",
    "MFCC1_other_tr_1_5 = set_the_mean(stem_tr_mfcc1_other[0:5],5)  # first 5 song MFCC\n",
    "MFCC1_other_tr_1_20 = set_the_mean(stem_tr_mfcc1_other[0:20],20) # first 20 song MFCC\n",
    "MFCC1_other_tr_1_35 = set_the_mean(stem_tr_mfcc1_other[0:35],35) # first 35 song MFCC\n",
    "MFCC1_other_tr_1_50 = set_the_mean(stem_tr_mfcc1_other[0:50],50) # first 50 song MFCC\n",
    "MFCC1_other_tr_1_77 = set_the_mean(stem_tr_mfcc1_other[0:77],77) # first 77 song MFCC\n",
    "\n",
    "\n",
    "MFCC2_bass_tr_1_5 = set_the_mean(stem_tr_mfcc2_bass[0:5],5)  # first 5 song MFCC\n",
    "MFCC2_bass_tr_1_20 = set_the_mean(stem_tr_mfcc2_bass[0:20],20) # first 20 song MFCC\n",
    "MFCC2_bass_tr_1_35 = set_the_mean(stem_tr_mfcc2_bass[0:35],35) # first 35 song MFCC\n",
    "MFCC2_bass_tr_1_50 = set_the_mean(stem_tr_mfcc2_bass[0:50],50) # first 50 song MFCC\n",
    "MFCC2_bass_tr_1_77 = set_the_mean(stem_tr_mfcc2_bass[0:77],77) # first 77 song MFCC\n",
    "\n",
    "MFCC2_drums_tr_1_5 = set_the_mean(stem_tr_mfcc2_drums[0:5],5)  # first 5 song MFCC\n",
    "MFCC2_drums_tr_1_20 = set_the_mean(stem_tr_mfcc2_drums[0:20],20) # first 20 song MFCC\n",
    "MFCC2_drums_tr_1_35 = set_the_mean(stem_tr_mfcc2_drums[0:35],35) # first 35 song MFCC\n",
    "MFCC2_drums_tr_1_50 = set_the_mean(stem_tr_mfcc2_drums[0:50],50) # first 50 song MFCC\n",
    "MFCC2_drums_tr_1_77 = set_the_mean(stem_tr_mfcc2_drums[0:77],77) # first 77 song MFCC\n",
    "\n",
    "MFCC2_vocals_tr_1_5 = set_the_mean(stem_tr_mfcc2_vocals[0:5],5)  # first 5 song MFCC\n",
    "MFCC2_vocals_tr_1_20 = set_the_mean(stem_tr_mfcc2_vocals[0:20],20) # first 20 song MFCC\n",
    "MFCC2_vocals_tr_1_35 = set_the_mean(stem_tr_mfcc2_vocals[0:35],35) # first 35 song MFCC\n",
    "MFCC2_vocals_tr_1_50 = set_the_mean(stem_tr_mfcc2_vocals[0:50],50) # first 50 song MFCC\n",
    "MFCC2_vocals_tr_1_77 = set_the_mean(stem_tr_mfcc2_vocals[0:77],77) # first 77 song MFCC\n",
    "\n",
    "MFCC2_other_tr_1_5 = set_the_mean(stem_tr_mfcc2_other[0:5],5)  # first 5 song MFCC\n",
    "MFCC2_other_tr_1_20 = set_the_mean(stem_tr_mfcc2_other[0:20],20) # first 20 song MFCC\n",
    "MFCC2_other_tr_1_35 = set_the_mean(stem_tr_mfcc2_other[0:35],35) # first 35 song MFCC\n",
    "MFCC2_other_tr_1_50 = set_the_mean(stem_tr_mfcc2_other[0:50],50) # first 50 song MFCC\n",
    "MFCC2_other_tr_1_77 = set_the_mean(stem_tr_mfcc2_other[0:77],77) # first 77 song MFCC"
   ]
  },
  {
   "cell_type": "markdown",
   "metadata": {},
   "source": [
    "#### GFCC 1 & 2"
   ]
  },
  {
   "cell_type": "code",
   "execution_count": 153,
   "metadata": {},
   "outputs": [],
   "source": [
    "GFCC1_bass_tr_1_5 = set_the_mean(stem_tr_gfcc1_bass[0:5],5)  # first 5 song GFCC\n",
    "GFCC1_bass_tr_1_20 = set_the_mean(stem_tr_gfcc1_bass[0:20],20) # first 20 song GFCC\n",
    "GFCC1_bass_tr_1_35 = set_the_mean(stem_tr_gfcc1_bass[0:35],35) # first 35 song GFCC\n",
    "GFCC1_bass_tr_1_50 = set_the_mean(stem_tr_gfcc1_bass[0:50],50) # first 50 song GFCC\n",
    "GFCC1_bass_tr_1_77 = set_the_mean(stem_tr_gfcc1_bass[0:77],77) # first 77 song GFCC\n",
    "\n",
    "GFCC1_drums_tr_1_5 = set_the_mean(stem_tr_gfcc1_drums[0:5],5)  # first 5 song GFCC\n",
    "GFCC1_drums_tr_1_20 = set_the_mean(stem_tr_gfcc1_drums[0:20],20) # first 20 song GFCC\n",
    "GFCC1_drums_tr_1_35 = set_the_mean(stem_tr_gfcc1_drums[0:35],35) # first 35 song GFCC\n",
    "GFCC1_drums_tr_1_50 = set_the_mean(stem_tr_gfcc1_drums[0:50],50) # first 50 song GFCC\n",
    "GFCC1_drums_tr_1_77 = set_the_mean(stem_tr_gfcc1_drums[0:77],77) # first 77 song GFCC\n",
    "\n",
    "GFCC1_vocals_tr_1_5 = set_the_mean(stem_tr_gfcc1_vocals[0:5],5)  # first 5 song GFCC\n",
    "GFCC1_vocals_tr_1_20 = set_the_mean(stem_tr_gfcc1_vocals[0:20],20) # first 20 song GFCC\n",
    "GFCC1_vocals_tr_1_35 = set_the_mean(stem_tr_gfcc1_vocals[0:35],35) # first 35 song GFCC\n",
    "GFCC1_vocals_tr_1_50 = set_the_mean(stem_tr_gfcc1_vocals[0:50],50) # first 50 song GFCC\n",
    "GFCC1_vocals_tr_1_77 = set_the_mean(stem_tr_gfcc1_vocals[0:77],77) # first 77 song GFCC\n",
    "\n",
    "GFCC1_other_tr_1_5 = set_the_mean(stem_tr_gfcc1_other[0:5],5)  # first 5 song GFCC\n",
    "GFCC1_other_tr_1_20 = set_the_mean(stem_tr_gfcc1_other[0:20],20) # first 20 song GFCC\n",
    "GFCC1_other_tr_1_35 = set_the_mean(stem_tr_gfcc1_other[0:35],35) # first 35 song GFCC\n",
    "GFCC1_other_tr_1_50 = set_the_mean(stem_tr_gfcc1_other[0:50],50) # first 50 song GFCC\n",
    "GFCC1_other_tr_1_77 = set_the_mean(stem_tr_gfcc1_other[0:77],77) # first 77 song GFCC\n",
    "\n",
    "\n",
    "GFCC2_bass_tr_1_5 = set_the_mean(stem_tr_gfcc2_bass[0:5],5)  # first 5 song GFCC\n",
    "GFCC2_bass_tr_1_20 = set_the_mean(stem_tr_gfcc2_bass[0:20],20) # first 20 song GFCC\n",
    "GFCC2_bass_tr_1_35 = set_the_mean(stem_tr_gfcc2_bass[0:35],35) # first 35 song GFCC\n",
    "GFCC2_bass_tr_1_50 = set_the_mean(stem_tr_gfcc2_bass[0:50],50) # first 50 song GFCC\n",
    "GFCC2_bass_tr_1_77 = set_the_mean(stem_tr_gfcc2_bass[0:77],77) # first 77 song GFCC\n",
    "\n",
    "GFCC2_drums_tr_1_5 = set_the_mean(stem_tr_gfcc2_drums[0:5],5)  # first 5 song GFCC\n",
    "GFCC2_drums_tr_1_20 = set_the_mean(stem_tr_gfcc2_drums[0:20],20) # first 20 song GFCC\n",
    "GFCC2_drums_tr_1_35 = set_the_mean(stem_tr_gfcc2_drums[0:35],35) # first 35 song GFCC\n",
    "GFCC2_drums_tr_1_50 = set_the_mean(stem_tr_gfcc2_drums[0:50],50) # first 50 song GFCC\n",
    "GFCC2_drums_tr_1_77 = set_the_mean(stem_tr_gfcc2_drums[0:77],77) # first 77 song GFCC\n",
    "\n",
    "GFCC2_vocals_tr_1_5 = set_the_mean(stem_tr_gfcc2_vocals[0:5],5)  # first 5 song GFCC\n",
    "GFCC2_vocals_tr_1_20 = set_the_mean(stem_tr_gfcc2_vocals[0:20],20) # first 20 song GFCC\n",
    "GFCC2_vocals_tr_1_35 = set_the_mean(stem_tr_gfcc2_vocals[0:35],35) # first 35 song GFCC\n",
    "GFCC2_vocals_tr_1_50 = set_the_mean(stem_tr_gfcc2_vocals[0:50],50) # first 50 song GFCC\n",
    "GFCC2_vocals_tr_1_77 = set_the_mean(stem_tr_gfcc2_vocals[0:77],77) # first 77 song GFCC\n",
    "\n",
    "GFCC2_other_tr_1_5 = set_the_mean(stem_tr_gfcc2_other[0:5],5)  # first 5 song GFCC\n",
    "GFCC2_other_tr_1_20 = set_the_mean(stem_tr_gfcc2_other[0:20],20) # first 20 song GFCC\n",
    "GFCC2_other_tr_1_35 = set_the_mean(stem_tr_gfcc2_other[0:35],35) # first 35 song GFCC\n",
    "GFCC2_other_tr_1_50 = set_the_mean(stem_tr_gfcc2_other[0:50],50) # first 50 song GFCC\n",
    "GFCC2_other_tr_1_77 = set_the_mean(stem_tr_gfcc2_other[0:77],77) # first 77 song GFCC\n"
   ]
  },
  {
   "cell_type": "markdown",
   "metadata": {},
   "source": [
    "#### HPCP 1 & 2"
   ]
  },
  {
   "cell_type": "code",
   "execution_count": 154,
   "metadata": {},
   "outputs": [],
   "source": [
    "HPCP1_bass_tr_1_5 = set_the_mean(stem_tr_hpcp1_bass[0:5],5)  # first 5 song HPCP\n",
    "HPCP1_bass_tr_1_20 = set_the_mean(stem_tr_hpcp1_bass[0:20],20) # first 20 song HPCP\n",
    "HPCP1_bass_tr_1_35 = set_the_mean(stem_tr_hpcp1_bass[0:35],35) # first 35 song HPCP\n",
    "HPCP1_bass_tr_1_50 = set_the_mean(stem_tr_hpcp1_bass[0:50],50) # first 50 song HPCP\n",
    "HPCP1_bass_tr_1_77 = set_the_mean(stem_tr_hpcp1_bass[0:77],77) # first 77 song HPCP\n",
    "\n",
    "HPCP1_drums_tr_1_5 = set_the_mean(stem_tr_hpcp1_drums[0:5],5)  # first 5 song HPCP\n",
    "HPCP1_drums_tr_1_20 = set_the_mean(stem_tr_hpcp1_drums[0:20],20) # first 20 song HPCP\n",
    "HPCP1_drums_tr_1_35 = set_the_mean(stem_tr_hpcp1_drums[0:35],35) # first 35 song HPCP\n",
    "HPCP1_drums_tr_1_50 = set_the_mean(stem_tr_hpcp1_drums[0:50],50) # first 50 song HPCP\n",
    "HPCP1_drums_tr_1_77 = set_the_mean(stem_tr_hpcp1_drums[0:77],77) # first 77 song HPCP\n",
    "\n",
    "HPCP1_vocals_tr_1_5 = set_the_mean(stem_tr_hpcp1_vocals[0:5],5)  # first 5 song HPCP\n",
    "HPCP1_vocals_tr_1_20 = set_the_mean(stem_tr_hpcp1_vocals[0:20],20) # first 20 song HPCP\n",
    "HPCP1_vocals_tr_1_35 = set_the_mean(stem_tr_hpcp1_vocals[0:35],35) # first 35 song HPCP\n",
    "HPCP1_vocals_tr_1_50 = set_the_mean(stem_tr_hpcp1_vocals[0:50],50) # first 50 song HPCP\n",
    "HPCP1_vocals_tr_1_77 = set_the_mean(stem_tr_hpcp1_vocals[0:77],77) # first 77 song HPCP\n",
    "\n",
    "HPCP1_other_tr_1_5 = set_the_mean(stem_tr_hpcp1_other[0:5],5)  # first 5 song HPCP\n",
    "HPCP1_other_tr_1_20 = set_the_mean(stem_tr_hpcp1_other[0:20],20) # first 20 song HPCP\n",
    "HPCP1_other_tr_1_35 = set_the_mean(stem_tr_hpcp1_other[0:35],35) # first 35 song HPCP\n",
    "HPCP1_other_tr_1_50 = set_the_mean(stem_tr_hpcp1_other[0:50],50) # first 50 song HPCP\n",
    "HPCP1_other_tr_1_77 = set_the_mean(stem_tr_hpcp1_other[0:77],77) # first 77 song HPCP\n",
    "\n",
    "HPCP2_bass_tr_1_5 = set_the_mean(stem_tr_hpcp2_bass[0:5],5)  # first 5 song HPCP\n",
    "HPCP2_bass_tr_1_20 = set_the_mean(stem_tr_hpcp2_bass[0:20],20) # first 20 song HPCP\n",
    "HPCP2_bass_tr_1_35 = set_the_mean(stem_tr_hpcp2_bass[0:35],35) # first 35 song HPCP\n",
    "HPCP2_bass_tr_1_50 = set_the_mean(stem_tr_hpcp2_bass[0:50],50) # first 50 song HPCP\n",
    "HPCP2_bass_tr_1_77 = set_the_mean(stem_tr_hpcp2_bass[0:77],77) # first 77 song HPCP\n",
    "\n",
    "HPCP2_drums_tr_1_5 = set_the_mean(stem_tr_hpcp2_drums[0:5],5)  # first 5 song HPCP\n",
    "HPCP2_drums_tr_1_20 = set_the_mean(stem_tr_hpcp2_drums[0:20],20) # first 20 song HPCP\n",
    "HPCP2_drums_tr_1_35 = set_the_mean(stem_tr_hpcp2_drums[0:35],35) # first 35 song HPCP\n",
    "HPCP2_drums_tr_1_50 = set_the_mean(stem_tr_hpcp2_drums[0:50],50) # first 50 song HPCP\n",
    "HPCP2_drums_tr_1_77 = set_the_mean(stem_tr_hpcp2_drums[0:77],77) # first 77 song HPCP\n",
    "\n",
    "HPCP2_vocals_tr_1_5 = set_the_mean(stem_tr_hpcp2_vocals[0:5],5)  # first 5 song HPCP\n",
    "HPCP2_vocals_tr_1_20 = set_the_mean(stem_tr_hpcp2_vocals[0:20],20) # first 20 song HPCP\n",
    "HPCP2_vocals_tr_1_35 = set_the_mean(stem_tr_hpcp2_vocals[0:35],35) # first 35 song HPCP\n",
    "HPCP2_vocals_tr_1_50 = set_the_mean(stem_tr_hpcp2_vocals[0:50],50) # first 50 song HPCP\n",
    "HPCP2_vocals_tr_1_77 = set_the_mean(stem_tr_hpcp2_vocals[0:77],77) # first 77 song HPCP\n",
    "\n",
    "HPCP2_other_tr_1_5 = set_the_mean(stem_tr_hpcp2_other[0:5],5)  # first 5 song HPCP\n",
    "HPCP2_other_tr_1_20 = set_the_mean(stem_tr_hpcp2_other[0:20],20) # first 20 song HPCP\n",
    "HPCP2_other_tr_1_35 = set_the_mean(stem_tr_hpcp2_other[0:35],35) # first 35 song HPCP\n",
    "HPCP2_other_tr_1_50 = set_the_mean(stem_tr_hpcp2_other[0:50],50) # first 50 song HPCP\n",
    "HPCP2_other_tr_1_77 = set_the_mean(stem_tr_hpcp2_other[0:77],77) # first 77 song HPCP"
   ]
  },
  {
   "cell_type": "markdown",
   "metadata": {},
   "source": [
    "#### sim_mat 1 "
   ]
  },
  {
   "cell_type": "code",
   "execution_count": 167,
   "metadata": {},
   "outputs": [],
   "source": [
    "sim_mat_bass_tr_1_5 = set_the_mean(stem_tr_sim_mat_bass[0:5],5) # first 5 song sim_matrix\n",
    "sim_mat_bass_tr_1_20 = set_the_mean(stem_tr_sim_mat_bass[0:20],20) # first 20 song sim_matrix\n",
    "sim_mat_bass_tr_1_35 = set_the_mean(stem_tr_sim_mat_bass[0:35],35) # first 35 song sim_matrix\n",
    "sim_mat_bass_tr_1_50 = set_the_mean(stem_tr_sim_mat_bass[0:55],55) # first 50 song sim_matrix\n",
    "sim_mat_bass_tr_1_77 = set_the_mean(stem_tr_sim_mat_bass[0:77],77) # first 77 song sim_matrix\n",
    "\n",
    "sim_mat_drums_tr_1_5 = set_the_mean(stem_tr_sim_mat_drums[0:5],5) # first 5 song sim_matrix\n",
    "sim_mat_drums_tr_1_20 = set_the_mean(stem_tr_sim_mat_drums[0:20],20) # first 20 song sim_matrix\n",
    "sim_mat_drums_tr_1_35 = set_the_mean(stem_tr_sim_mat_drums[0:35],35) # first 35 song sim_matrix\n",
    "sim_mat_drums_tr_1_50 = set_the_mean(stem_tr_sim_mat_drums[0:55],55) # first 50 song sim_matrix\n",
    "sim_mat_drums_tr_1_77 = set_the_mean(stem_tr_sim_mat_drums[0:77],77) # first 77 song sim_matrix\n",
    "\n",
    "sim_mat_vocals_tr_1_5 = set_the_mean(stem_tr_sim_mat_vocals[0:5],5) # first 5 song sim_matrix\n",
    "sim_mat_vocals_tr_1_20 = set_the_mean(stem_tr_sim_mat_vocals[0:20],20) # first 20 song sim_matrix\n",
    "sim_mat_vocals_tr_1_35 = set_the_mean(stem_tr_sim_mat_vocals[0:35],35) # first 35 song sim_matrix\n",
    "sim_mat_vocals_tr_1_50 = set_the_mean(stem_tr_sim_mat_vocals[0:55],55) # first 50 song sim_matrix\n",
    "sim_mat_vocals_tr_1_77 = set_the_mean(stem_tr_sim_mat_vocals[0:77],77) # first 77 song sim_matrix\n",
    "\n",
    "sim_mat_other_tr_1_5 = set_the_mean(stem_tr_sim_mat_other[0:5],5) # first 5 song sim_matrix\n",
    "sim_mat_other_tr_1_20 = set_the_mean(stem_tr_sim_mat_other[0:20],20) # first 20 song sim_matrix\n",
    "sim_mat_other_tr_1_35 = set_the_mean(stem_tr_sim_mat_other[0:35],35) # first 35 song sim_matrix\n",
    "sim_mat_other_tr_1_50 = set_the_mean(stem_tr_sim_mat_other[0:55],55) # first 50 song sim_matrix\n",
    "sim_mat_other_tr_1_77 = set_the_mean(stem_tr_sim_mat_other[0:77],77) # first 77 song sim_matrix"
   ]
  },
  {
   "cell_type": "markdown",
   "metadata": {},
   "source": [
    "#### sim_dist 1"
   ]
  },
  {
   "cell_type": "code",
   "execution_count": 166,
   "metadata": {},
   "outputs": [],
   "source": [
    "sim_dist_bass_tr_1_5 = np.array(stem_tr_sim_dist_bass[0:5]) # first 5 song sim_dist\n",
    "sim_dist_bass_tr_1_20 = np.array(stem_tr_sim_dist_bass[0:20]) # first 20 song sim_dist\n",
    "sim_dist_bass_tr_1_35 = np.array(stem_tr_sim_dist_bass[0:35]) # first 35 song sim_dist\n",
    "sim_dist_bass_tr_1_50 = np.array(stem_tr_sim_dist_bass[0:50]) # first 50 song sim_dist\n",
    "sim_dist_bass_tr_1_77 = np.array(stem_tr_sim_dist_bass[0:77]) # first 77 song sim_dist\n",
    "\n",
    "sim_dist_drums_tr_1_5 = np.array(stem_tr_sim_dist_drums[0:5]) # first 5 song sim_dist\n",
    "sim_dist_drums_tr_1_20 = np.array(stem_tr_sim_dist_drums[0:20]) # first 20 song sim_dist\n",
    "sim_dist_drums_tr_1_35 = np.array(stem_tr_sim_dist_drums[0:35]) # first 35 song sim_dist\n",
    "sim_dist_drums_tr_1_50 = np.array(stem_tr_sim_dist_drums[0:50]) # first 50 song sim_dist\n",
    "sim_dist_drums_tr_1_77 = np.array(stem_tr_sim_dist_drums[0:77]) # first 77 song sim_dist\n",
    "\n",
    "sim_dist_vocals_tr_1_5 = np.array(stem_tr_sim_dist_vocals[0:5]) # first 5 song sim_dist\n",
    "sim_dist_vocals_tr_1_20 = np.array(stem_tr_sim_dist_vocals[0:20]) # first 20 song sim_dist\n",
    "sim_dist_vocals_tr_1_35 = np.array(stem_tr_sim_dist_vocals[0:35]) # first 35 song sim_dist\n",
    "sim_dist_vocals_tr_1_50 = np.array(stem_tr_sim_dist_vocals[0:50]) # first 50 song sim_dist\n",
    "sim_dist_vocals_tr_1_77 = np.array(stem_tr_sim_dist_vocals[0:77]) # first 77 song sim_dist\n",
    "\n",
    "sim_dist_other_tr_1_5 = np.array(stem_tr_sim_dist_other[0:5]) # first 5 song sim_dist\n",
    "sim_dist_other_tr_1_20 = np.array(stem_tr_sim_dist_other[0:20]) # first 20 song sim_dist\n",
    "sim_dist_other_tr_1_35 = np.array(stem_tr_sim_dist_other[0:35]) # first 35 song sim_dist\n",
    "sim_dist_other_tr_1_50 = np.array(stem_tr_sim_dist_other[0:50]) # first 50 song sim_dist\n",
    "sim_dist_other_tr_1_77 = np.array(stem_tr_sim_dist_other[0:77]) # first 77 song sim_dist"
   ]
  },
  {
   "cell_type": "markdown",
   "metadata": {},
   "source": [
    "#### sim_argmin"
   ]
  },
  {
   "cell_type": "code",
   "execution_count": 169,
   "metadata": {},
   "outputs": [],
   "source": [
    "sim_dist_argmin_tr_1_5 = np.array(stem_tr_sim_dist_argmin[0:5]) # first 5 song sim_dist\n",
    "sim_dist_argmin_tr_1_20 = np.array(stem_tr_sim_dist_argmin[0:20]) # first 20 song sim_dist\n",
    "sim_dist_argmin_tr_1_35 = np.array(stem_tr_sim_dist_argmin[0:35]) # first 35 song sim_dist\n",
    "sim_dist_argmin_tr_1_50 = np.array(stem_tr_sim_dist_argmin[0:50]) # first 50 song sim_dist\n",
    "sim_dist_argmin_tr_1_77 = np.array(stem_tr_sim_dist_argmin[0:77]) # first 77 song sim_dist"
   ]
  },
  {
   "cell_type": "markdown",
   "metadata": {},
   "source": [
    "## Plegiarism 45 MFCC & GFCC distributions"
   ]
  },
  {
   "cell_type": "code",
   "execution_count": 170,
   "metadata": {},
   "outputs": [],
   "source": [
    "MFCC1_bass_ts_1_5 = set_the_mean(stem_ts_mfcc1_bass[0:5],5)  # first 5 song MFCC\n",
    "MFCC1_bass_ts_1_20 = set_the_mean(stem_ts_mfcc1_bass[0:20],20) # first 20 song MFCC\n",
    "MFCC1_bass_ts_1_35 = set_the_mean(stem_ts_mfcc1_bass[0:35],35) # first 35 song MFCC\n",
    "MFCC1_bass_ts_1_45 = set_the_mean(stem_ts_mfcc1_bass[0:45],45) # first 45 song MFCC\n",
    "\n",
    "MFCC1_drums_tr_1_5 = set_the_mean(stem_ts_mfcc1_drums[0:5],5)  # first 5 song MFCC\n",
    "MFCC1_drums_tr_1_20 = set_the_mean(stem_ts_mfcc1_drums[0:20],20) # first 20 song MFCC\n",
    "MFCC1_drums_tr_1_35 = set_the_mean(stem_ts_mfcc1_drums[0:35],35) # first 35 song MFCC\n",
    "MFCC1_drums_tr_1_45 = set_the_mean(stem_ts_mfcc1_drums[0:45],45) # first 45 song MFCC\n",
    "\n",
    "MFCC1_vocals_ts_1_5 = set_the_mean(stem_ts_mfcc1_vocals[0:5],5)  # first 5 song MFCC\n",
    "MFCC1_vocals_ts_1_20 = set_the_mean(stem_ts_mfcc1_vocals[0:20],20) # first 20 song MFCC\n",
    "MFCC1_vocals_ts_1_35 = set_the_mean(stem_ts_mfcc1_vocals[0:35],35) # first 35 song MFCC\n",
    "MFCC1_vocals_ts_1_45 = set_the_mean(stem_ts_mfcc1_vocals[0:45],45) # first 45 song MFCC\n",
    "\n",
    "MFCC1_other_ts_1_5 = set_the_mean(stem_ts_mfcc1_other[0:5],5)  # first 5 song MFCC\n",
    "MFCC1_other_ts_1_20 = set_the_mean(stem_ts_mfcc1_other[0:20],20) # first 20 song MFCC\n",
    "MFCC1_other_ts_1_35 = set_the_mean(stem_ts_mfcc1_other[0:35],35) # first 35 song MFCC\n",
    "MFCC1_other_ts_1_45 = set_the_mean(stem_ts_mfcc1_other[0:45],45) # first 45 song MFCC\n",
    "\n",
    "\n",
    "\n",
    "MFCC2_bass_ts_1_5 = set_the_mean(stem_ts_mfcc2_bass[0:5],5)  # first 5 song MFCC\n",
    "MFCC2_bass_ts_1_20 = set_the_mean(stem_ts_mfcc2_bass[0:20],20) # first 20 song MFCC\n",
    "MFCC2_bass_ts_1_35 = set_the_mean(stem_ts_mfcc2_bass[0:35],35) # first 35 song MFCC\n",
    "MFCC2_bass_ts_1_45 = set_the_mean(stem_ts_mfcc2_bass[0:45],45) # first 45 song MFCC\n",
    "\n",
    "MFCC2_drums_tr_1_5 = set_the_mean(stem_ts_mfcc2_drums[0:5],5)  # first 5 song MFCC\n",
    "MFCC2_drums_tr_1_20 = set_the_mean(stem_ts_mfcc2_drums[0:20],20) # first 20 song MFCC\n",
    "MFCC2_drums_tr_1_35 = set_the_mean(stem_ts_mfcc2_drums[0:35],35) # first 35 song MFCC\n",
    "MFCC2_drums_tr_1_45 = set_the_mean(stem_ts_mfcc2_drums[0:45],45) # first 45 song MFCC\n",
    "\n",
    "MFCC2_vocals_ts_1_5 = set_the_mean(stem_ts_mfcc2_vocals[0:5],5)  # first 5 song MFCC\n",
    "MFCC2_vocals_ts_1_20 = set_the_mean(stem_ts_mfcc2_vocals[0:20],20) # first 20 song MFCC\n",
    "MFCC2_vocals_ts_1_35 = set_the_mean(stem_ts_mfcc2_vocals[0:35],35) # first 35 song MFCC\n",
    "MFCC2_vocals_ts_1_45 = set_the_mean(stem_ts_mfcc2_vocals[0:45],45) # first 45 song MFCC\n",
    "\n",
    "MFCC2_other_ts_1_5 = set_the_mean(stem_ts_mfcc2_other[0:5],5)  # first 5 song MFCC\n",
    "MFCC2_other_ts_1_20 = set_the_mean(stem_ts_mfcc2_other[0:20],20) # first 20 song MFCC\n",
    "MFCC2_other_ts_1_35 = set_the_mean(stem_ts_mfcc2_other[0:35],35) # first 35 song MFCC\n",
    "MFCC2_other_ts_1_45 = set_the_mean(stem_ts_mfcc2_other[0:45],45) # first 45 song MFCC"
   ]
  },
  {
   "cell_type": "code",
   "execution_count": 171,
   "metadata": {},
   "outputs": [],
   "source": [
    "GFCC1_bass_ts_1_5 = set_the_mean(stem_ts_gfcc1_bass[0:5],5)  # first 5 song GFCC\n",
    "GFCC1_bass_ts_1_20 = set_the_mean(stem_ts_gfcc1_bass[0:20],20) # first 20 song GFCC\n",
    "GFCC1_bass_ts_1_35 = set_the_mean(stem_ts_gfcc1_bass[0:35],35) # first 35 song GFCC\n",
    "GFCC1_bass_ts_1_45 = set_the_mean(stem_ts_gfcc1_bass[0:45],45) # first 45 song GFCC\n",
    "\n",
    "GFCC1_drums_tr_1_5 = set_the_mean(stem_ts_gfcc1_drums[0:5],5)  # first 5 song GFCC\n",
    "GFCC1_drums_tr_1_20 = set_the_mean(stem_ts_gfcc1_drums[0:20],20) # first 20 song GFCC\n",
    "GFCC1_drums_tr_1_35 = set_the_mean(stem_ts_gfcc1_drums[0:35],35) # first 35 song GFCC\n",
    "GFCC1_drums_tr_1_45 = set_the_mean(stem_ts_gfcc1_drums[0:45],45) # first 45 song GFCC\n",
    "\n",
    "GFCC1_vocals_ts_1_5 = set_the_mean(stem_ts_gfcc1_vocals[0:5],5)  # first 5 song GFCC\n",
    "GFCC1_vocals_ts_1_20 = set_the_mean(stem_ts_gfcc1_vocals[0:20],20) # first 20 song GFCC\n",
    "GFCC1_vocals_ts_1_35 = set_the_mean(stem_ts_gfcc1_vocals[0:35],35) # first 35 song GFCC\n",
    "GFCC1_vocals_ts_1_45 = set_the_mean(stem_ts_gfcc1_vocals[0:45],45) # first 45 song GFCC\n",
    "\n",
    "GFCC1_other_ts_1_5 = set_the_mean(stem_ts_gfcc1_other[0:5],5)  # first 5 song GFCC\n",
    "GFCC1_other_ts_1_20 = set_the_mean(stem_ts_gfcc1_other[0:20],20) # first 20 song GFCC\n",
    "GFCC1_other_ts_1_35 = set_the_mean(stem_ts_gfcc1_other[0:35],35) # first 35 song GFCC\n",
    "GFCC1_other_ts_1_45 = set_the_mean(stem_ts_gfcc1_other[0:45],45) # first 45 song GFCC\n",
    "\n",
    "\n",
    "GFCC2_bass_ts_1_5 = set_the_mean(stem_ts_gfcc2_bass[0:5],5)  # first 5 song GFCC\n",
    "GFCC2_bass_ts_1_20 = set_the_mean(stem_ts_gfcc2_bass[0:20],20) # first 20 song GFCC\n",
    "GFCC2_bass_ts_1_35 = set_the_mean(stem_ts_gfcc2_bass[0:35],35) # first 35 song GFCC\n",
    "GFCC2_bass_ts_1_45 = set_the_mean(stem_ts_gfcc2_bass[0:45],45) # first 45 song GFCC\n",
    "\n",
    "GFCC2_drums_tr_1_5 = set_the_mean(stem_ts_gfcc2_drums[0:5],5)  # first 5 song GFCC\n",
    "GFCC2_drums_tr_1_20 = set_the_mean(stem_ts_gfcc2_drums[0:20],20) # first 20 song GFCC\n",
    "GFCC2_drums_tr_1_35 = set_the_mean(stem_ts_gfcc2_drums[0:35],35) # first 35 song GFCC\n",
    "GFCC2_drums_tr_1_45 = set_the_mean(stem_ts_gfcc2_drums[0:45],45) # first 45 song GFCC\n",
    "\n",
    "GFCC2_vocals_ts_1_5 = set_the_mean(stem_ts_gfcc2_vocals[0:5],5)  # first 5 song GFCC\n",
    "GFCC2_vocals_ts_1_20 = set_the_mean(stem_ts_gfcc2_vocals[0:20],20) # first 20 song GFCC\n",
    "GFCC2_vocals_ts_1_35 = set_the_mean(stem_ts_gfcc2_vocals[0:35],35) # first 35 song GFCC\n",
    "GFCC2_vocals_ts_1_45 = set_the_mean(stem_ts_gfcc2_vocals[0:45],45) # first 45 song GFCC\n",
    "\n",
    "GFCC2_other_ts_1_5 = set_the_mean(stem_ts_gfcc2_other[0:5],5)  # first 5 song GFCC\n",
    "GFCC2_other_ts_1_20 = set_the_mean(stem_ts_gfcc2_other[0:20],20) # first 20 song GFCC\n",
    "GFCC2_other_ts_1_35 = set_the_mean(stem_ts_gfcc2_other[0:35],35) # first 35 song GFCC\n",
    "GFCC2_other_ts_1_45 = set_the_mean(stem_ts_gfcc2_other[0:45],45) # first 45 song GFCC"
   ]
  },
  {
   "cell_type": "code",
   "execution_count": null,
   "metadata": {},
   "outputs": [],
   "source": [
    "GFCC2_bass_ts_1_5 = set_the_mean(stem_ts_gfcc2_bass[0:5],5)  # first 5 song GFCC\n",
    "GFCC2_bass_ts_1_20 = set_the_mean(stem_ts_gfcc2_bass[0:20],20) # first 20 song GFCC\n",
    "GFCC2_bass_ts_1_35 = set_the_mean(stem_ts_gfcc2_bass[0:35],35) # first 35 song GFCC\n",
    "GFCC2_bass_ts_1_45 = set_the_mean(stem_ts_gfcc2_bass[0:45],45) # first 45 song GFCC"
   ]
  },
  {
   "cell_type": "code",
   "execution_count": null,
   "metadata": {},
   "outputs": [],
   "source": []
  },
  {
   "cell_type": "code",
   "execution_count": 55,
   "metadata": {},
   "outputs": [],
   "source": [
    "HPCP1_bass_ts_1_5 = np.array(stem_ts_hpcp1_bass[0:5]) # first 5 song HPCP\n",
    "HPCP1_bass_ts_1_20 = np.array(stem_ts_hpcp1_bass[0:20]) # first 20 song HPCP\n",
    "HPCP1_bass_ts_1_35 = np.array(stem_ts_hpcp1_bass[0:35]) # first 35 song HPCP\n",
    "HPCP1_bass_ts_1_45 = np.array(stem_ts_hpcp1_bass[0:45]) # first 45 song HPCP\n",
    "\n",
    "HPCP1_drums_ts_1_5 = np.array(stem_ts_hpcp1_drums[0:5]) # first 5 song HPCP\n",
    "HPCP1_drums_ts_1_20 = np.array(stem_ts_hpcp1_drums[0:20]) # first 20 song HPCP\n",
    "HPCP1_drums_ts_1_35 = np.array(stem_ts_hpcp1_drums[0:35]) # first 35 song HPCP\n",
    "HPCP1_drums_ts_1_45 = np.array(stem_ts_hpcp1_drums[0:45]) # first 45 song HPCP\n",
    "\n",
    "HPCP1_vocals_ts_1_5 = np.array(stem_ts_hpcp1_vocals[0:5]) # first 5 song HPCP\n",
    "HPCP1_vocals_ts_1_20 = np.array(stem_ts_hpcp1_vocals[0:20]) # first 5 song HPCP\n",
    "HPCP1_vocals_ts_1_35 = np.array(stem_ts_hpcp1_vocals[0:35]) # first 5 song HPCP\n",
    "HPCP1_vocals_ts_1_45 = np.array(stem_ts_hpcp1_vocals[0:45]) # first 5 song HPCP\n",
    "\n",
    "HPCP1_other_ts_1_5 = np.array(stem_ts_hpcp1_other[0:5]) # first 5 song HPCP\n",
    "HPCP1_other_ts_1_20 = np.array(stem_ts_hpcp1_other[0:20]) # first 20 song HPCP\n",
    "HPCP1_other_ts_1_35 = np.array(stem_ts_hpcp1_other[0:35]) # first 35 song HPCP\n",
    "HPCP1_other_ts_1_45 = np.array(stem_ts_hpcp1_other[0:45]) # first 45 song HPCP\n",
    "\n",
    "\n",
    "HPCP2_bass_ts_1_5 = np.array(stem_ts_hpcp2_bass[0:5]) # first 5 song HPCP\n",
    "HPCP2_bass_ts_1_20 = np.array(stem_ts_hpcp2_bass[0:20]) # first 20 song HPCP\n",
    "HPCP2_bass_ts_1_35 = np.array(stem_ts_hpcp2_bass[0:35]) # first 35 song HPCP\n",
    "HPCP2_bass_ts_1_45 = np.array(stem_ts_hpcp2_bass[0:45]) # first 45 song HPCP\n",
    "\n",
    "HPCP2_drums_ts_1_5 = np.array(stem_ts_hpcp2_drums[0:5]) # first 5 song HPCP\n",
    "HPCP2_drums_ts_1_20 = np.array(stem_ts_hpcp2_drums[0:20]) # first 20 song HPCP\n",
    "HPCP2_drums_ts_1_35 = np.array(stem_ts_hpcp2_drums[0:35]) # first 35 song HPCP\n",
    "HPCP2_drums_ts_1_45 = np.array(stem_ts_hpcp2_drums[0:45]) # first 45 song HPCP\n",
    "\n",
    "HPCP2_vocals_ts_1_5 = np.array(stem_ts_hpcp2_vocals[0:5]) # first 5 song HPCP\n",
    "HPCP2_vocals_ts_1_20 = np.array(stem_ts_hpcp2_vocals[0:20]) # first 5 song HPCP\n",
    "HPCP2_vocals_ts_1_35 = np.array(stem_ts_hpcp2_vocals[0:35]) # first 5 song HPCP\n",
    "HPCP2_vocals_ts_1_45 = np.array(stem_ts_hpcp2_vocals[0:45]) # first 5 song HPCP\n",
    "\n",
    "HPCP2_other_ts_1_5 = np.array(stem_ts_hpcp2_other[0:5]) # first 5 song HPCP\n",
    "HPCP2_other_ts_1_20 = np.array(stem_ts_hpcp2_other[0:20]) # first 20 song HPCP\n",
    "HPCP2_other_ts_1_35 = np.array(stem_ts_hpcp2_other[0:35]) # first 35 song HPCP\n",
    "HPCP2_other_ts_1_45 = np.array(stem_ts_hpcp2_other[0:45]) # first 45 song HPCP"
   ]
  },
  {
   "cell_type": "code",
   "execution_count": 56,
   "metadata": {},
   "outputs": [],
   "source": [
    "sim_mat_bass_ts_1_5 = np.array(stem_ts_sim_mat_bass[0:5]) # first 5 song sim_matrix\n",
    "sim_mat_bass_ts_1_20 = np.array(stem_ts_sim_mat_bass[0:20]) # first 20 song sim_matrix\n",
    "sim_mat_bass_ts_1_35 = np.array(stem_ts_sim_mat_bass[0:35]) # first 35 song sim_matrix\n",
    "sim_mat_bass_ts_1_45 = np.array(stem_ts_sim_mat_bass[0:45]) # first 40 song sim_matrix\n",
    "\n",
    "sim_mat_drums_ts_1_5 = np.array(stem_ts_sim_mat_drums[0:5]) # first 5 song sim_matrix\n",
    "sim_mat_drums_ts_1_20 = np.array(stem_ts_sim_mat_drums[0:20]) # first 20 song sim_matrix\n",
    "sim_mat_drums_ts_1_35 = np.array(stem_ts_sim_mat_drums[0:35]) # first 35 song sim_matrix\n",
    "sim_mat_drums_ts_1_45 = np.array(stem_ts_sim_mat_drums[0:45]) # first 45 song sim_matrix\n",
    "\n",
    "sim_mat_vocals_ts_1_5 = np.array(stem_ts_sim_mat_vocals[0:5]) # first 5 song sim_matrix\n",
    "sim_mat_vocals_ts_1_20 = np.array(stem_ts_sim_mat_vocals[0:20]) # first 20 song sim_matrix\n",
    "sim_mat_vocals_ts_1_35 = np.array(stem_ts_sim_mat_vocals[0:35]) # first 35 song sim_matrix\n",
    "sim_mat_vocals_ts_1_45 = np.array(stem_ts_sim_mat_vocals[0:45]) # first 45 song sim_matrix\n",
    "\n",
    "sim_mat_other_ts_1_5 = np.array(stem_ts_sim_mat_other[0:5]) # first 5 song sim_matrix\n",
    "sim_mat_other_ts_1_20 = np.array(stem_ts_sim_mat_other[0:20]) # first 20 song sim_matrix\n",
    "sim_mat_other_ts_1_35 = np.array(stem_ts_sim_mat_other[0:35]) # first 35 song sim_matrix\n",
    "sim_mat_other_ts_1_45 = np.array(stem_ts_sim_mat_other[0:45]) # first 45 song sim_matrix"
   ]
  },
  {
   "cell_type": "code",
   "execution_count": 59,
   "metadata": {},
   "outputs": [],
   "source": [
    "sim_dist_bass_ts_1_5 = np.array(stem_ts_sim_dist_bass[0:5]) # first 5 song sim_dist\n",
    "sim_dist_bass_ts_1_20 = np.array(stem_ts_sim_dist_bass[0:20]) # first 20 song sim_dist\n",
    "sim_dist_bass_ts_1_35 = np.array(stem_ts_sim_dist_bass[0:35]) # first 35 song sim_dist\n",
    "sim_dist_bass_ts_1_45 = np.array(stem_ts_sim_dist_bass[0:45]) # first 45 song sim_dist\n",
    "\n",
    "sim_dist_drums_ts_1_5 = np.array(stem_ts_sim_dist_drums[0:5]) # first 5 song sim_dist\n",
    "sim_dist_drums_ts_1_20 = np.array(stem_ts_sim_dist_drums[0:20]) # first 20 song sim_dist\n",
    "sim_dist_drums_ts_1_35 = np.array(stem_ts_sim_dist_drums[0:35]) # first 35 song sim_dist\n",
    "sim_dist_drums_ts_1_45 = np.array(stem_ts_sim_dist_drums[0:45]) # first 45 song sim_dist\n",
    "\n",
    "sim_dist_vocals_ts_1_5 = np.array(stem_ts_sim_dist_vocals[0:5]) # first 5 song sim_dist\n",
    "sim_dist_vocals_ts_1_20 = np.array(stem_ts_sim_dist_vocals[0:20]) # first 20 song sim_dist\n",
    "sim_dist_vocals_ts_1_35 = np.array(stem_ts_sim_dist_vocals[0:35]) # first 35 song sim_dist\n",
    "sim_dist_vocals_ts_1_45 = np.array(stem_ts_sim_dist_vocals[0:45]) # first 45 song sim_dist\n",
    "\n",
    "sim_dist_other_ts_1_5 = np.array(stem_ts_sim_dist_other[0:5]) # first 5 song sim_dist\n",
    "sim_dist_other_ts_1_20 = np.array(stem_ts_sim_dist_other[0:20]) # first 20 song sim_dist\n",
    "sim_dist_other_ts_1_35 = np.array(stem_ts_sim_dist_other[0:35]) # first 35 song sim_dist\n",
    "sim_dist_other_ts_1_50 = np.array(stem_ts_sim_dist_other[0:45]) # first 45 song sim_dist"
   ]
  },
  {
   "cell_type": "code",
   "execution_count": 60,
   "metadata": {},
   "outputs": [],
   "source": [
    "sim_dist_argmin_ts_1_5 = np.array(stem_ts_sim_dist_argmin[0:5]) # first 5 song sim_dist\n",
    "sim_dist_argmin_ts_1_20 = np.array(stem_ts_sim_dist_argmin[0:20]) # first 20 song sim_dist\n",
    "sim_dist_argmin_ts_1_35 = np.array(stem_ts_sim_dist_argmin[0:35]) # first 35 song sim_dist\n",
    "sim_dist_argmin_ts_1_45 = np.array(stem_ts_sim_dist_argmin[0:45]) # first 45 song sim_dist"
   ]
  },
  {
   "cell_type": "markdown",
   "metadata": {},
   "source": [
    "### DTW of Cover 80 - MFCC - distributions"
   ]
  },
  {
   "cell_type": "code",
   "execution_count": 97,
   "metadata": {},
   "outputs": [
    {
     "name": "stdout",
     "output_type": "stream",
     "text": [
      "Normalized distance between the two sounds: [0.006249191760000001]\n"
     ]
    }
   ],
   "source": [
    "## Compute the dynamic time warped distance between x and y\n",
    "from dtw import dtw\n",
    "from numpy.linalg import norm\n",
    "\n",
    "#### BASS####\n",
    "dist_mfcc_5, cost_mfcc_5, acc_cost_mfcc_5, path = dtw(MFCC1_bass_ts_1_5 .T, MFCC2_bass_ts_1_5 .T, dist=lambda x, y: norm(x - y, ord=None))\n",
    "#dist_mfcc_20, cost_mfcc_20, acc_cost_mfcc_20, path = dtw(MFCC1_bass_tr_1_20 .T, MFCC2_bass_tr_1_20 .T, dist=lambda x, y: norm(x - y, ord=1))\n",
    "#dist_mfcc_35, cost_mfcc_35, acc_cost_mfcc_35, path = dtw(MFCC1_bass_tr_1_35 .T, MFCC2_bass_tr_1_35 .T, dist=lambda x, y: norm(x - y, ord=1))\n",
    "#dist_mfcc_50, cost_mfcc_50, acc_cost_mfcc_50, path = dtw(MFCC1_bass_tr_1_50 .T, MFCC2_bass_tr_1_50 .T, dist=lambda x, y: norm(x - y, ord=1))\n",
    "#dist_mfcc_77, cost_mfcc_77, acc_cost_mfcc_77, path = dtw(MFCC1_bass_tr_1_77 .T, MFCC2_bass_tr_1_77 .T, dist=lambda x, y: norm(x - y, ord=1))\n",
    "print('Normalized distance between the two sounds:', [dist_mfcc_5])"
   ]
  },
  {
   "cell_type": "code",
   "execution_count": 409,
   "metadata": {},
   "outputs": [
    {
     "name": "stdout",
     "output_type": "stream",
     "text": [
      "Normalized distance between the two sounds: 0.12682560738176107\n",
      "pair cost.shape: (5, 5)\n",
      "Normalized distance between the two sounds: 0.6023316299542785\n",
      "pair cost.shape: (20, 20)\n",
      "Normalized distance between the two sounds: 1.2153753880411386\n",
      "pair cost.shape: (35, 35)\n",
      "Normalized distance between the two sounds: 1.7750299545004964\n",
      "pair cost.shape: (50, 50)\n",
      "Normalized distance between the two sounds: 2.5555509543046355\n",
      "pair cost.shape: (77, 77)\n"
     ]
    },
    {
     "data": {
      "text/plain": [
       "(-0.5, 76.5)"
      ]
     },
     "execution_count": 409,
     "metadata": {},
     "output_type": "execute_result"
    },
    {
     "data": {
      "image/png": "[encoded data removed]",
      "text/plain": [
       "<Figure size 432x288 with 1 Axes>"
      ]
     },
     "metadata": {
      "needs_background": "light"
     },
     "output_type": "display_data"
    }
   ],
   "source": [
    "## Compute the dynamic time warped distance between x and y\n",
    "from dtw import dtw\n",
    "from numpy.linalg import norm\n",
    "\n",
    "#### BASS####\n",
    "dist_mfcc_5, cost_mfcc_5, acc_cost_mfcc_5, path = dtw(MFCC1_bass_tr_1_5 .T, MFCC2_bass_tr_1_5 .T, dist=lambda x, y: norm(x - y, ord=1))\n",
    "dist_mfcc_20, cost_mfcc_20, acc_cost_mfcc_20, path = dtw(MFCC1_bass_tr_1_20 .T, MFCC2_bass_tr_1_20 .T, dist=lambda x, y: norm(x - y, ord=1))\n",
    "dist_mfcc_35, cost_mfcc_35, acc_cost_mfcc_35, path = dtw(MFCC1_bass_tr_1_35 .T, MFCC2_bass_tr_1_35 .T, dist=lambda x, y: norm(x - y, ord=1))\n",
    "dist_mfcc_50, cost_mfcc_50, acc_cost_mfcc_50, path = dtw(MFCC1_bass_tr_1_50 .T, MFCC2_bass_tr_1_50 .T, dist=lambda x, y: norm(x - y, ord=1))\n",
    "dist_mfcc_77, cost_mfcc_77, acc_cost_mfcc_77, path = dtw(MFCC1_bass_tr_1_77 .T, MFCC2_bass_tr_1_77 .T, dist=lambda x, y: norm(x - y, ord=1))\n",
    "print('Normalized distance between the two sounds:', [dist_mfcc_5, dist_mfcc_20, dist_mfcc_35, dist_mfcc_50, dist_mfcc_77])\n",
    "#print(\"pair cost.shape:\", cost.shape)\n",
    "\n",
    "#plt.imshow(cost.T, origin='lower', cmap=plt.cm.gray, interpolation='nearest')\n",
    "#plt.plot(path[0], path[1], 'w')\n",
    "#plt.xlim((-0.5, cost.shape[0]-0.5))\n",
    "#plt.ylim((-0.5, cost.shape[1]-0.5))\n",
    "#############################################################################################\n",
    "dist, cost, acc_cost, path = dtw(MFCC1_20.T, MFCC2_20.T, dist=lambda x, y: norm(x - y, ord=1))\n",
    "print('Normalized distance between the two sounds:', dist)\n",
    "print(\"pair cost.shape:\", cost.shape)\n",
    "\n",
    "plt.imshow(cost.T, origin='lower', cmap=plt.cm.gray, interpolation='nearest')\n",
    "plt.plot(path[0], path[1], 'w')\n",
    "plt.xlim((-0.5, cost.shape[0]-0.5))\n",
    "plt.ylim((-0.5, cost.shape[1]-0.5))\n",
    "#############################################################################################\n",
    "dist, cost, acc_cost, path = dtw(MFCC1_35.T, MFCC2_35.T, dist=lambda x, y: norm(x - y, ord=1))\n",
    "print('Normalized distance between the two sounds:', dist)\n",
    "print(\"pair cost.shape:\", cost.shape)\n",
    "\n",
    "plt.imshow(cost.T, origin='lower', cmap=plt.cm.gray, interpolation='nearest')\n",
    "plt.plot(path[0], path[1], 'w')\n",
    "plt.xlim((-0.5, cost.shape[0]-0.5))\n",
    "plt.ylim((-0.5, cost.shape[1]-0.5))\n",
    "#############################################################################################\n",
    "dist, cost, acc_cost, path = dtw(MFCC1_50.T, MFCC2_50.T, dist=lambda x, y: norm(x - y, ord=1))\n",
    "print('Normalized distance between the two sounds:', dist)\n",
    "print(\"pair cost.shape:\", cost.shape)\n",
    "\n",
    "plt.imshow(cost.T, origin='lower', cmap=plt.cm.gray, interpolation='nearest')\n",
    "plt.plot(path[0], path[1], 'w')\n",
    "plt.xlim((-0.5, cost.shape[0]-0.5))\n",
    "plt.ylim((-0.5, cost.shape[1]-0.5))\n",
    "\n",
    "#############################################################################################\n",
    "dist, cost, acc_cost, path = dtw(MFCC1_77.T, MFCC2_77.T, dist=lambda x, y: norm(x - y, ord=1))\n",
    "print('Normalized distance between the two sounds:', dist)\n",
    "print(\"pair cost.shape:\", cost.shape)\n",
    "\n",
    "plt.imshow(cost.T, origin='lower', cmap=plt.cm.gray, interpolation='nearest')\n",
    "plt.plot(path[0], path[1], 'w')\n",
    "plt.xlim((-0.5, cost.shape[0]-0.5))\n",
    "plt.ylim((-0.5, cost.shape[1]-0.5))"
   ]
  },
  {
   "cell_type": "markdown",
   "metadata": {},
   "source": [
    "### DTW of Cover 80 - GFCC - distributions"
   ]
  },
  {
   "cell_type": "code",
   "execution_count": 410,
   "metadata": {},
   "outputs": [
    {
     "name": "stdout",
     "output_type": "stream",
     "text": [
      "Normalized distance between the two sounds: 6263.847747802734\n",
      "pair cost.shape: (5, 5)\n",
      "Normalized distance between the two sounds: 31921.595153808594\n",
      "pair cost.shape: (20, 20)\n",
      "Normalized distance between the two sounds: 53775.867736816406\n",
      "pair cost.shape: (35, 35)\n",
      "Normalized distance between the two sounds: 82068.78729248047\n",
      "pair cost.shape: (50, 50)\n",
      "Normalized distance between the two sounds: 126670.44906616211\n",
      "pair cost.shape: (77, 77)\n"
     ]
    },
    {
     "data": {
      "text/plain": [
       "(-0.5, 76.5)"
      ]
     },
     "execution_count": 410,
     "metadata": {},
     "output_type": "execute_result"
    },
    {
     "data": {
      "image/png": "[encoded data removed]",
      "text/plain": [
       "<Figure size 432x288 with 1 Axes>"
      ]
     },
     "metadata": {
      "needs_background": "light"
     },
     "output_type": "display_data"
    }
   ],
   "source": [
    "## Compute the dynamic time warped distance between x and y\n",
    "from dtw import dtw\n",
    "from numpy.linalg import norm\n",
    "\n",
    "dist, cost, acc_cost, path = dtw(GFCC1_5.T, GFCC2_5.T, dist=lambda x, y: norm(x - y, ord=1))\n",
    "print('Normalized distance between the two sounds:', dist)\n",
    "print(\"pair cost.shape:\", cost.shape)\n",
    "\n",
    "plt.imshow(cost.T, origin='lower', cmap=plt.cm.gray, interpolation='nearest')\n",
    "plt.plot(path[0], path[1], 'w')\n",
    "plt.xlim((-0.5, cost.shape[0]-0.5))\n",
    "plt.ylim((-0.5, cost.shape[1]-0.5))\n",
    "#############################################################################################\n",
    "dist, cost, acc_cost, path = dtw(GFCC1_20.T, GFCC2_20.T, dist=lambda x, y: norm(x - y, ord=1))\n",
    "print('Normalized distance between the two sounds:', dist)\n",
    "print(\"pair cost.shape:\", cost.shape)\n",
    "\n",
    "plt.imshow(cost.T, origin='lower', cmap=plt.cm.gray, interpolation='nearest')\n",
    "plt.plot(path[0], path[1], 'w')\n",
    "plt.xlim((-0.5, cost.shape[0]-0.5))\n",
    "plt.ylim((-0.5, cost.shape[1]-0.5))\n",
    "#############################################################################################\n",
    "dist, cost, acc_cost, path = dtw(GFCC1_35.T, GFCC2_35.T, dist=lambda x, y: norm(x - y, ord=1))\n",
    "print('Normalized distance between the two sounds:', dist)\n",
    "print(\"pair cost.shape:\", cost.shape)\n",
    "\n",
    "plt.imshow(cost.T, origin='lower', cmap=plt.cm.gray, interpolation='nearest')\n",
    "plt.plot(path[0], path[1], 'w')\n",
    "plt.xlim((-0.5, cost.shape[0]-0.5))\n",
    "plt.ylim((-0.5, cost.shape[1]-0.5))\n",
    "#############################################################################################\n",
    "dist, cost, acc_cost, path = dtw(GFCC1_50.T, GFCC2_50.T, dist=lambda x, y: norm(x - y, ord=1))\n",
    "print('Normalized distance between the two sounds:', dist)\n",
    "print(\"pair cost.shape:\", cost.shape)\n",
    "\n",
    "plt.imshow(cost.T, origin='lower', cmap=plt.cm.gray, interpolation='nearest')\n",
    "plt.plot(path[0], path[1], 'w')\n",
    "plt.xlim((-0.5, cost.shape[0]-0.5))\n",
    "plt.ylim((-0.5, cost.shape[1]-0.5))\n",
    "\n",
    "#############################################################################################\n",
    "dist, cost, acc_cost, path = dtw(GFCC1_77.T, GFCC2_77.T, dist=lambda x, y: norm(x - y, ord=1))\n",
    "print('Normalized distance between the two sounds:', dist)\n",
    "print(\"pair cost.shape:\", cost.shape)\n",
    "\n",
    "plt.imshow(cost.T, origin='lower', cmap=plt.cm.gray, interpolation='nearest')\n",
    "plt.plot(path[0], path[1], 'w')\n",
    "plt.xlim((-0.5, cost.shape[0]-0.5))\n",
    "plt.ylim((-0.5, cost.shape[1]-0.5))"
   ]
  },
  {
   "cell_type": "markdown",
   "metadata": {},
   "source": [
    "### DTW of Cover 80 - MFCC & GFCC - distributions"
   ]
  },
  {
   "cell_type": "code",
   "execution_count": null,
   "metadata": {},
   "outputs": [],
   "source": [
    "\n"
   ]
  },
  {
   "cell_type": "markdown",
   "metadata": {},
   "source": [
    "## DTW for Plegiarism 45 songs - MFCC"
   ]
  },
  {
   "cell_type": "code",
   "execution_count": 427,
   "metadata": {},
   "outputs": [
    {
     "name": "stdout",
     "output_type": "stream",
     "text": [
      "Normalized distance between the two sounds: 0.12682560738176107\n",
      "pair cost.shape: (5, 5)\n",
      "Normalized distance between the two sounds: 0.6023316299542785\n",
      "pair cost.shape: (20, 20)\n",
      "Normalized distance between the two sounds: 1.2153753880411386\n",
      "pair cost.shape: (35, 35)\n",
      "Normalized distance between the two sounds: 1.6228154967539012\n",
      "pair cost.shape: (45, 45)\n"
     ]
    },
    {
     "data": {
      "text/plain": [
       "(-0.5, 44.5)"
      ]
     },
     "execution_count": 427,
     "metadata": {},
     "output_type": "execute_result"
    },
    {
     "data": {
      "image/png": "[encoded data removed]",
      "text/plain": [
       "<Figure size 432x288 with 1 Axes>"
      ]
     },
     "metadata": {
      "needs_background": "light"
     },
     "output_type": "display_data"
    }
   ],
   "source": [
    "## Compute the dynamic time warped distance between x and y\n",
    "from dtw import dtw\n",
    "from numpy.linalg import norm\n",
    "\n",
    "dist, cost, acc_cost, path = dtw(MFCC1c_5.T, MFCC2c_5.T, dist=lambda x, y: norm(x - y, ord=1))\n",
    "print('Normalized distance between the two sounds:', dist)\n",
    "print(\"pair cost.shape:\", cost.shape)\n",
    "\n",
    "plt.imshow(cost.T, origin='lower', cmap=plt.cm.gray, interpolation='nearest')\n",
    "plt.plot(path[0], path[1], 'w')\n",
    "plt.xlim((-0.5, cost.shape[0]-0.5))\n",
    "plt.ylim((-0.5, cost.shape[1]-0.5))\n",
    "#############################################################################################\n",
    "dist, cost, acc_cost, path = dtw(MFCC1c_20.T, MFCC2c_20.T, dist=lambda x, y: norm(x - y, ord=1))\n",
    "print('Normalized distance between the two sounds:', dist)\n",
    "print(\"pair cost.shape:\", cost.shape)\n",
    "\n",
    "plt.imshow(cost.T, origin='lower', cmap=plt.cm.gray, interpolation='nearest')\n",
    "plt.plot(path[0], path[1], 'w')\n",
    "plt.xlim((-0.5, cost.shape[0]-0.5))\n",
    "plt.ylim((-0.5, cost.shape[1]-0.5))\n",
    "#############################################################################################\n",
    "dist, cost, acc_cost, path = dtw(MFCC1c_35.T, MFCC2c_35.T, dist=lambda x, y: norm(x - y, ord=1))\n",
    "print('Normalized distance between the two sounds:', dist)\n",
    "print(\"pair cost.shape:\", cost.shape)\n",
    "\n",
    "plt.imshow(cost.T, origin='lower', cmap=plt.cm.gray, interpolation='nearest')\n",
    "plt.plot(path[0], path[1], 'w')\n",
    "plt.xlim((-0.5, cost.shape[0]-0.5))\n",
    "plt.ylim((-0.5, cost.shape[1]-0.5))\n",
    "#############################################################################################\n",
    "dist, cost, acc_cost, path = dtw(MFCC1c_45.T, MFCC2c_45.T, dist=lambda x, y: norm(x - y, ord=1))\n",
    "print('Normalized distance between the two sounds:', dist)\n",
    "print(\"pair cost.shape:\", cost.shape)\n",
    "\n",
    "plt.imshow(cost.T, origin='lower', cmap=plt.cm.gray, interpolation='nearest')\n",
    "plt.plot(path[0], path[1], 'w')\n",
    "plt.xlim((-0.5, cost.shape[0]-0.5))\n",
    "plt.ylim((-0.5, cost.shape[1]-0.5))\n",
    "\n"
   ]
  },
  {
   "cell_type": "markdown",
   "metadata": {},
   "source": [
    "## DTW for Plegiarism 45 songs - GFCC"
   ]
  },
  {
   "cell_type": "code",
   "execution_count": 428,
   "metadata": {},
   "outputs": [
    {
     "name": "stdout",
     "output_type": "stream",
     "text": [
      "Normalized distance between the two sounds: 6263.847747802734\n",
      "pair cost.shape: (5, 5)\n",
      "Normalized distance between the two sounds: 31921.595153808594\n",
      "pair cost.shape: (20, 20)\n",
      "Normalized distance between the two sounds: 53775.867736816406\n",
      "pair cost.shape: (35, 35)\n",
      "Normalized distance between the two sounds: 71095.0064086914\n",
      "pair cost.shape: (45, 45)\n"
     ]
    },
    {
     "data": {
      "text/plain": [
       "(-0.5, 44.5)"
      ]
     },
     "execution_count": 428,
     "metadata": {},
     "output_type": "execute_result"
    },
    {
     "data": {
      "image/png": "[encoded data removed]",
      "text/plain": [
       "<Figure size 432x288 with 1 Axes>"
      ]
     },
     "metadata": {
      "needs_background": "light"
     },
     "output_type": "display_data"
    }
   ],
   "source": [
    "## Compute the dynamic time warped distance between x and y\n",
    "from dtw import dtw\n",
    "from numpy.linalg import norm\n",
    "\n",
    "dist, cost, acc_cost, path = dtw(GFCC1c_5.T, GFCC2c_5.T, dist=lambda x, y: norm(x - y, ord=1))\n",
    "print('Normalized distance between the two sounds:', dist)\n",
    "print(\"pair cost.shape:\", cost.shape)\n",
    "\n",
    "plt.imshow(cost.T, origin='lower', cmap=plt.cm.gray, interpolation='nearest')\n",
    "plt.plot(path[0], path[1], 'w')\n",
    "plt.xlim((-0.5, cost.shape[0]-0.5))\n",
    "plt.ylim((-0.5, cost.shape[1]-0.5))\n",
    "#############################################################################################\n",
    "dist, cost, acc_cost, path = dtw(GFCC1c_20.T, GFCC2c_20.T, dist=lambda x, y: norm(x - y, ord=1))\n",
    "print('Normalized distance between the two sounds:', dist)\n",
    "print(\"pair cost.shape:\", cost.shape)\n",
    "\n",
    "plt.imshow(cost.T, origin='lower', cmap=plt.cm.gray, interpolation='nearest')\n",
    "plt.plot(path[0], path[1], 'w')\n",
    "plt.xlim((-0.5, cost.shape[0]-0.5))\n",
    "plt.ylim((-0.5, cost.shape[1]-0.5))\n",
    "#############################################################################################\n",
    "dist, cost, acc_cost, path = dtw(GFCC1c_35.T, GFCC2c_35.T, dist=lambda x, y: norm(x - y, ord=1))\n",
    "print('Normalized distance between the two sounds:', dist)\n",
    "print(\"pair cost.shape:\", cost.shape)\n",
    "\n",
    "plt.imshow(cost.T, origin='lower', cmap=plt.cm.gray, interpolation='nearest')\n",
    "plt.plot(path[0], path[1], 'w')\n",
    "plt.xlim((-0.5, cost.shape[0]-0.5))\n",
    "plt.ylim((-0.5, cost.shape[1]-0.5))\n",
    "#############################################################################################\n",
    "dist, cost, acc_cost, path = dtw(GFCC1c_45.T, GFCC2c_45.T, dist=lambda x, y: norm(x - y, ord=1))\n",
    "print('Normalized distance between the two sounds:', dist)\n",
    "print(\"pair cost.shape:\", cost.shape)\n",
    "\n",
    "plt.imshow(cost.T, origin='lower', cmap=plt.cm.gray, interpolation='nearest')\n",
    "plt.plot(path[0], path[1], 'w')\n",
    "plt.xlim((-0.5, cost.shape[0]-0.5))\n",
    "plt.ylim((-0.5, cost.shape[1]-0.5))\n",
    "\n"
   ]
  },
  {
   "cell_type": "markdown",
   "metadata": {},
   "source": [
    "### DTW of Plegiarism 45 songs - MFCC & GFCC - distributions"
   ]
  },
  {
   "cell_type": "code",
   "execution_count": null,
   "metadata": {},
   "outputs": [],
   "source": []
  },
  {
   "cell_type": "code",
   "execution_count": null,
   "metadata": {},
   "outputs": [],
   "source": []
  },
  {
   "cell_type": "code",
   "execution_count": null,
   "metadata": {},
   "outputs": [],
   "source": []
  },
  {
   "cell_type": "code",
   "execution_count": null,
   "metadata": {},
   "outputs": [],
   "source": []
  },
  {
   "cell_type": "code",
   "execution_count": null,
   "metadata": {},
   "outputs": [],
   "source": []
  },
  {
   "cell_type": "code",
   "execution_count": null,
   "metadata": {},
   "outputs": [],
   "source": []
  },
  {
   "cell_type": "code",
   "execution_count": null,
   "metadata": {},
   "outputs": [],
   "source": []
  },
  {
   "cell_type": "code",
   "execution_count": null,
   "metadata": {},
   "outputs": [],
   "source": []
  },
  {
   "cell_type": "code",
   "execution_count": 348,
   "metadata": {},
   "outputs": [],
   "source": [
    "mfcc1_c = np.array (testdf['MFCC_1']) ## Copy_45\n",
    "gfcc1_c = np.array (testdf['GFCC_1']) ## Copy_45\n",
    "hpcp1_c = np.array (testdf['HPCP_1']) ## Copy_45\n",
    "mfcc2_c = np.array (testdf['MFCC_2']) ## Copy_45\n",
    "gfcc2_c = np.array (testdf['GFCC_2']) ## Copy_45\n",
    "hpcp2_c = np.array (testdf['HPCP_2']) ## Copy_45\n",
    "sim_mat_c = np.array (testdf['sim_matrix']) ## Copy_45"
   ]
  },
  {
   "cell_type": "code",
   "execution_count": 317,
   "metadata": {},
   "outputs": [],
   "source": [
    "mfcc_0 = np.mean(mfcc1[0])\n",
    "gfcc_0 = np.mean(gfcc1[0])\n",
    "hpcp_0 = np.mean(hpcp1[0])\n",
    "mfcc_0_0 = np.mean(mfcc2[0])\n",
    "gfcc_0_0 = np.mean(gfcc2[0])\n",
    "hpcp_0_0 = np.mean(hpcp2[0])\n",
    "sim_mat_0 = np.mean(sim_mat[0])"
   ]
  },
  {
   "cell_type": "code",
   "execution_count": 318,
   "metadata": {},
   "outputs": [],
   "source": [
    "mfcc_1 = np.mean(mfcc1[1])\n",
    "gfcc_1 = np.mean(gfcc1[1])\n",
    "hpcp_1 = np.mean(hpcp1[1])\n",
    "mfcc_1_1 = np.mean(mfcc2[1])\n",
    "gfcc_1_1 = np.mean(gfcc2[1])\n",
    "hpcp_1_1 = np.mean(hpcp2[1])\n",
    "sim_mat_1 = np.mean(sim_mat[1])"
   ]
  },
  {
   "cell_type": "code",
   "execution_count": 319,
   "metadata": {},
   "outputs": [],
   "source": [
    "mfcc_2 = np.mean(mfcc1[2])\n",
    "gfcc_2 = np.mean(gfcc1[2])\n",
    "hpcp_2 = np.mean(hpcp1[2])\n",
    "mfcc_2_2 = np.mean(mfcc2[2])\n",
    "gfcc_2_2 = np.mean(gfcc2[2])\n",
    "hpcp_2_2 = np.mean(hpcp2[2])\n",
    "sim_mat_2 = np.mean(sim_mat[2])"
   ]
  },
  {
   "cell_type": "code",
   "execution_count": 320,
   "metadata": {},
   "outputs": [],
   "source": [
    "# Creating the dataframe  \n",
    "df_0 = pd.DataFrame({\"MFCC_1\":[mfcc_0], \n",
    "                   \"GFCC_1\":[gfcc_0],  \n",
    "                   \"HPCP_1\":[hpcp_0], \n",
    "                   \"MFCC_2\":[mfcc_0_0],\n",
    "                   \"GFCC_2\":[gfcc_0_0],\n",
    "                   \"HPCP_2\":[hpcp_0_0],\n",
    "                    \"sim_matrix\": [sim_mat_0]},)\n",
    "\n",
    "df_1 = pd.DataFrame({\"MFCC_1\":[mfcc_1], \n",
    "                   \"GFCC_1\":[gfcc_1],  \n",
    "                   \"HPCP_1\":[hpcp_1], \n",
    "                   \"MFCC_2\":[mfcc_1_1],\n",
    "                   \"GFCC_2\":[gfcc_1_1],\n",
    "                   \"HPCP_2\":[hpcp_1_1],\n",
    "                    \"sim_matrix\": [sim_mat_1]},)\n",
    "\n",
    "\n",
    "df_2 = pd.DataFrame({\"MFCC_1\":[mfcc_2], \n",
    "                   \"GFCC_1\":[gfcc_2],  \n",
    "                   \"HPCP_1\":[hpcp_2], \n",
    "                   \"MFCC_2\":[mfcc_2_2],\n",
    "                   \"GFCC_2\":[gfcc_2_2],\n",
    "                   \"HPCP_2\":[hpcp_2_2],\n",
    "                    \"sim_matrix\": [sim_mat_2]},)"
   ]
  },
  {
   "cell_type": "code",
   "execution_count": 341,
   "metadata": {},
   "outputs": [],
   "source": [
    "df = pd.concat([df_0, df_1, df_2], ignore_index=True, sort=False)"
   ]
  },
  {
   "cell_type": "code",
   "execution_count": 342,
   "metadata": {},
   "outputs": [
    {
     "data": {
      "text/html": [
       "<div>\n",
       "<style scoped>\n",
       "    .dataframe tbody tr th:only-of-type {\n",
       "        vertical-align: middle;\n",
       "    }\n",
       "\n",
       "    .dataframe tbody tr th {\n",
       "        vertical-align: top;\n",
       "    }\n",
       "\n",
       "    .dataframe thead th {\n",
       "        text-align: right;\n",
       "    }\n",
       "</style>\n",
       "<table border=\"1\" class=\"dataframe\">\n",
       "  <thead>\n",
       "    <tr style=\"text-align: right;\">\n",
       "      <th></th>\n",
       "      <th>MFCC_1</th>\n",
       "      <th>GFCC_1</th>\n",
       "      <th>HPCP_1</th>\n",
       "      <th>MFCC_2</th>\n",
       "      <th>GFCC_2</th>\n",
       "      <th>HPCP_2</th>\n",
       "      <th>sim_matrix</th>\n",
       "    </tr>\n",
       "  </thead>\n",
       "  <tbody>\n",
       "    <tr>\n",
       "      <th>0</th>\n",
       "      <td>0.001230</td>\n",
       "      <td>70.617264</td>\n",
       "      <td>0.236928</td>\n",
       "      <td>0.000820</td>\n",
       "      <td>53.866570</td>\n",
       "      <td>0.239422</td>\n",
       "      <td>924.811218</td>\n",
       "    </tr>\n",
       "    <tr>\n",
       "      <th>1</th>\n",
       "      <td>0.000465</td>\n",
       "      <td>40.270172</td>\n",
       "      <td>0.314610</td>\n",
       "      <td>0.003155</td>\n",
       "      <td>140.719757</td>\n",
       "      <td>0.321678</td>\n",
       "      <td>759.359375</td>\n",
       "    </tr>\n",
       "    <tr>\n",
       "      <th>2</th>\n",
       "      <td>0.000403</td>\n",
       "      <td>21.099199</td>\n",
       "      <td>0.330665</td>\n",
       "      <td>0.000453</td>\n",
       "      <td>43.406658</td>\n",
       "      <td>0.341384</td>\n",
       "      <td>1244.238037</td>\n",
       "    </tr>\n",
       "  </tbody>\n",
       "</table>\n",
       "</div>"
      ],
      "text/plain": [
       "     MFCC_1     GFCC_1    HPCP_1    MFCC_2      GFCC_2    HPCP_2   sim_matrix\n",
       "0  0.001230  70.617264  0.236928  0.000820   53.866570  0.239422   924.811218\n",
       "1  0.000465  40.270172  0.314610  0.003155  140.719757  0.321678   759.359375\n",
       "2  0.000403  21.099199  0.330665  0.000453   43.406658  0.341384  1244.238037"
      ]
     },
     "execution_count": 342,
     "metadata": {},
     "output_type": "execute_result"
    }
   ],
   "source": [
    "df"
   ]
  },
  {
   "cell_type": "markdown",
   "metadata": {},
   "source": [
    "### ANOVA "
   ]
  },
  {
   "cell_type": "markdown",
   "metadata": {},
   "source": [
    "## Null - test2t1 is equalt to train2t. i.e. p-value <= 0.05"
   ]
  },
  {
   "cell_type": "code",
   "execution_count": 115,
   "metadata": {},
   "outputs": [
    {
     "name": "stdout",
     "output_type": "stream",
     "text": [
      "23.27787426682977 3.8617587950504134e-06\n"
     ]
    }
   ],
   "source": [
    "# load packages\n",
    "import scipy.stats as stats\n",
    "# stats f_oneway functions takes the groups as input and returns F and P-value\n",
    "fvalue, pvalue = stats.f_oneway(train2t, test2t1)\n",
    "print(fvalue, pvalue)\n",
    "# 23.27787426682977 3.8617587950504134e-06\n",
    "\n"
   ]
  },
  {
   "cell_type": "code",
   "execution_count": null,
   "metadata": {},
   "outputs": [],
   "source": []
  },
  {
   "cell_type": "code",
   "execution_count": null,
   "metadata": {},
   "outputs": [],
   "source": []
  },
  {
   "cell_type": "code",
   "execution_count": null,
   "metadata": {},
   "outputs": [],
   "source": []
  },
  {
   "cell_type": "code",
   "execution_count": null,
   "metadata": {},
   "outputs": [],
   "source": []
  },
  {
   "cell_type": "code",
   "execution_count": null,
   "metadata": {},
   "outputs": [],
   "source": []
  },
  {
   "cell_type": "code",
   "execution_count": 17,
   "metadata": {},
   "outputs": [
    {
     "ename": "ImportError",
     "evalue": "cannot import name 'StandardScalerimport' from 'sklearn.preprocessing' (/opt/tljh/user/lib/python3.7/site-packages/sklearn/preprocessing/__init__.py)",
     "output_type": "error",
     "traceback": [
      "\u001b[0;31m---------------------------------------------------------------------------\u001b[0m",
      "\u001b[0;31mImportError\u001b[0m                               Traceback (most recent call last)",
      "\u001b[0;32m<ipython-input-17-9d44b2e07cda>\u001b[0m in \u001b[0;36m<module>\u001b[0;34m\u001b[0m\n\u001b[1;32m      1\u001b[0m \u001b[0;31m#import csvfrom sklearn.model_selection\u001b[0m\u001b[0;34m\u001b[0m\u001b[0;34m\u001b[0m\u001b[0;34m\u001b[0m\u001b[0m\n\u001b[1;32m      2\u001b[0m \u001b[0;31m#import train_test_split\u001b[0m\u001b[0;34m\u001b[0m\u001b[0;34m\u001b[0m\u001b[0;34m\u001b[0m\u001b[0m\n\u001b[0;32m----> 3\u001b[0;31m \u001b[0;32mfrom\u001b[0m \u001b[0msklearn\u001b[0m\u001b[0;34m.\u001b[0m\u001b[0mpreprocessing\u001b[0m \u001b[0;32mimport\u001b[0m \u001b[0mLabelEncoder\u001b[0m\u001b[0;34m,\u001b[0m \u001b[0mStandardScalerimport\u001b[0m\u001b[0;34m,\u001b[0m\u001b[0mkeras\u001b[0m\u001b[0;34m\u001b[0m\u001b[0;34m\u001b[0m\u001b[0m\n\u001b[0m",
      "\u001b[0;31mImportError\u001b[0m: cannot import name 'StandardScalerimport' from 'sklearn.preprocessing' (/opt/tljh/user/lib/python3.7/site-packages/sklearn/preprocessing/__init__.py)"
     ]
    }
   ],
   "source": [
    "#import csvfrom sklearn.model_selection \n",
    "#import train_test_split\n",
    "from sklearn.preprocessing import LabelEncoder, StandardScalerimport,keras"
   ]
  },
  {
   "cell_type": "code",
   "execution_count": 12,
   "metadata": {},
   "outputs": [
    {
     "ename": "NameError",
     "evalue": "name 'LabelEncoder' is not defined",
     "output_type": "error",
     "traceback": [
      "\u001b[0;31m---------------------------------------------------------------------------\u001b[0m",
      "\u001b[0;31mNameError\u001b[0m                                 Traceback (most recent call last)",
      "\u001b[0;32m<ipython-input-12-9f8b86cb913d>\u001b[0m in \u001b[0;36m<module>\u001b[0;34m\u001b[0m\n\u001b[1;32m      1\u001b[0m \u001b[0;31m#data = data.drop(['filename'],axis=1)#Encoding the Labels\u001b[0m\u001b[0;34m\u001b[0m\u001b[0;34m\u001b[0m\u001b[0;34m\u001b[0m\u001b[0m\n\u001b[1;32m      2\u001b[0m \u001b[0;31m#genre_list = data.iloc[:, -1]\u001b[0m\u001b[0;34m\u001b[0m\u001b[0;34m\u001b[0m\u001b[0;34m\u001b[0m\u001b[0m\n\u001b[0;32m----> 3\u001b[0;31m \u001b[0mencoder\u001b[0m \u001b[0;34m=\u001b[0m \u001b[0mLabelEncoder\u001b[0m\u001b[0;34m(\u001b[0m\u001b[0;34m)\u001b[0m\u001b[0;34m\u001b[0m\u001b[0;34m\u001b[0m\u001b[0m\n\u001b[0m\u001b[1;32m      4\u001b[0m \u001b[0my\u001b[0m \u001b[0;34m=\u001b[0m \u001b[0mencoder\u001b[0m\u001b[0;34m.\u001b[0m\u001b[0mfit_transform\u001b[0m\u001b[0;34m(\u001b[0m\u001b[0mgenre_list\u001b[0m\u001b[0;34m)\u001b[0m\u001b[0;31m#Scaling the Feature columns\u001b[0m\u001b[0;34m\u001b[0m\u001b[0;34m\u001b[0m\u001b[0m\n\u001b[1;32m      5\u001b[0m \u001b[0mscaler\u001b[0m \u001b[0;34m=\u001b[0m \u001b[0mStandardScaler\u001b[0m\u001b[0;34m(\u001b[0m\u001b[0;34m)\u001b[0m\u001b[0;34m\u001b[0m\u001b[0;34m\u001b[0m\u001b[0m\n",
      "\u001b[0;31mNameError\u001b[0m: name 'LabelEncoder' is not defined"
     ]
    }
   ],
   "source": [
    "#data = data.drop(['filename'],axis=1)#Encoding the Labels\n",
    "#genre_list = data.iloc[:, -1]\n",
    "encoder = LabelEncoder()\n",
    "y = encoder.fit_transform(genre_list)#Scaling the Feature columns\n",
    "scaler = StandardScaler()\n",
    "X = scaler.fit_transform(np.array(newdf.iloc[:, :-1], dtype = float))#Dividing data into training and Testing set\n",
    "X_train, X_test, y_train, y_test = train_test_split(X, y, test_size=0.2)"
   ]
  },
  {
   "cell_type": "code",
   "execution_count": null,
   "metadata": {},
   "outputs": [],
   "source": []
  }
 ],
 "metadata": {
  "kernelspec": {
   "display_name": "Python 3",
   "language": "python",
   "name": "python3"
  },
  "language_info": {
   "codemirror_mode": {
    "name": "ipython",
    "version": 3
   },
   "file_extension": ".py",
   "mimetype": "text/x-python",
   "name": "python",
   "nbconvert_exporter": "python",
   "pygments_lexer": "ipython3",
   "version": "3.7.3"
  }
 },
 "nbformat": 4,
 "nbformat_minor": 4
}
