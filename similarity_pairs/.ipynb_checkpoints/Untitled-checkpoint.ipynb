{
 "cells": [
  {
   "cell_type": "code",
   "execution_count": 2,
   "metadata": {},
   "outputs": [
    {
     "name": "stdout",
     "output_type": "stream",
     "text": [
      "\n",
      "Setup Succesfully Completed!\n"
     ]
    },
    {
     "data": {
      "text/html": [
       "<style  type=\"text/css\" >\n",
       "    #T_f3475e94_abf3_11ea_9065_acde48001122row10_col1 {\n",
       "            background-color:  lightgreen;\n",
       "        }</style><table id=\"T_f3475e94_abf3_11ea_9065_acde48001122\" ><thead>    <tr>        <th class=\"blank level0\" ></th>        <th class=\"col_heading level0 col0\" >Description</th>        <th class=\"col_heading level0 col1\" >Value</th>    </tr></thead><tbody>\n",
       "                <tr>\n",
       "                        <th id=\"T_f3475e94_abf3_11ea_9065_acde48001122level0_row0\" class=\"row_heading level0 row0\" >0</th>\n",
       "                        <td id=\"T_f3475e94_abf3_11ea_9065_acde48001122row0_col0\" class=\"data row0 col0\" >session_id </td>\n",
       "                        <td id=\"T_f3475e94_abf3_11ea_9065_acde48001122row0_col1\" class=\"data row0 col1\" >2327</td>\n",
       "            </tr>\n",
       "            <tr>\n",
       "                        <th id=\"T_f3475e94_abf3_11ea_9065_acde48001122level0_row1\" class=\"row_heading level0 row1\" >1</th>\n",
       "                        <td id=\"T_f3475e94_abf3_11ea_9065_acde48001122row1_col0\" class=\"data row1 col0\" >Original Data </td>\n",
       "                        <td id=\"T_f3475e94_abf3_11ea_9065_acde48001122row1_col1\" class=\"data row1 col1\" >(49, 6)</td>\n",
       "            </tr>\n",
       "            <tr>\n",
       "                        <th id=\"T_f3475e94_abf3_11ea_9065_acde48001122level0_row2\" class=\"row_heading level0 row2\" >2</th>\n",
       "                        <td id=\"T_f3475e94_abf3_11ea_9065_acde48001122row2_col0\" class=\"data row2 col0\" >Missing Values </td>\n",
       "                        <td id=\"T_f3475e94_abf3_11ea_9065_acde48001122row2_col1\" class=\"data row2 col1\" >False</td>\n",
       "            </tr>\n",
       "            <tr>\n",
       "                        <th id=\"T_f3475e94_abf3_11ea_9065_acde48001122level0_row3\" class=\"row_heading level0 row3\" >3</th>\n",
       "                        <td id=\"T_f3475e94_abf3_11ea_9065_acde48001122row3_col0\" class=\"data row3 col0\" >Numeric Features </td>\n",
       "                        <td id=\"T_f3475e94_abf3_11ea_9065_acde48001122row3_col1\" class=\"data row3 col1\" >4</td>\n",
       "            </tr>\n",
       "            <tr>\n",
       "                        <th id=\"T_f3475e94_abf3_11ea_9065_acde48001122level0_row4\" class=\"row_heading level0 row4\" >4</th>\n",
       "                        <td id=\"T_f3475e94_abf3_11ea_9065_acde48001122row4_col0\" class=\"data row4 col0\" >Categorical Features </td>\n",
       "                        <td id=\"T_f3475e94_abf3_11ea_9065_acde48001122row4_col1\" class=\"data row4 col1\" >2</td>\n",
       "            </tr>\n",
       "            <tr>\n",
       "                        <th id=\"T_f3475e94_abf3_11ea_9065_acde48001122level0_row5\" class=\"row_heading level0 row5\" >5</th>\n",
       "                        <td id=\"T_f3475e94_abf3_11ea_9065_acde48001122row5_col0\" class=\"data row5 col0\" >Ordinal Features </td>\n",
       "                        <td id=\"T_f3475e94_abf3_11ea_9065_acde48001122row5_col1\" class=\"data row5 col1\" >False</td>\n",
       "            </tr>\n",
       "            <tr>\n",
       "                        <th id=\"T_f3475e94_abf3_11ea_9065_acde48001122level0_row6\" class=\"row_heading level0 row6\" >6</th>\n",
       "                        <td id=\"T_f3475e94_abf3_11ea_9065_acde48001122row6_col0\" class=\"data row6 col0\" >High Cardinality Features </td>\n",
       "                        <td id=\"T_f3475e94_abf3_11ea_9065_acde48001122row6_col1\" class=\"data row6 col1\" >False</td>\n",
       "            </tr>\n",
       "            <tr>\n",
       "                        <th id=\"T_f3475e94_abf3_11ea_9065_acde48001122level0_row7\" class=\"row_heading level0 row7\" >7</th>\n",
       "                        <td id=\"T_f3475e94_abf3_11ea_9065_acde48001122row7_col0\" class=\"data row7 col0\" >Transformed Data </td>\n",
       "                        <td id=\"T_f3475e94_abf3_11ea_9065_acde48001122row7_col1\" class=\"data row7 col1\" >(49, 99)</td>\n",
       "            </tr>\n",
       "            <tr>\n",
       "                        <th id=\"T_f3475e94_abf3_11ea_9065_acde48001122level0_row8\" class=\"row_heading level0 row8\" >8</th>\n",
       "                        <td id=\"T_f3475e94_abf3_11ea_9065_acde48001122row8_col0\" class=\"data row8 col0\" >Numeric Imputer </td>\n",
       "                        <td id=\"T_f3475e94_abf3_11ea_9065_acde48001122row8_col1\" class=\"data row8 col1\" >mean</td>\n",
       "            </tr>\n",
       "            <tr>\n",
       "                        <th id=\"T_f3475e94_abf3_11ea_9065_acde48001122level0_row9\" class=\"row_heading level0 row9\" >9</th>\n",
       "                        <td id=\"T_f3475e94_abf3_11ea_9065_acde48001122row9_col0\" class=\"data row9 col0\" >Categorical Imputer </td>\n",
       "                        <td id=\"T_f3475e94_abf3_11ea_9065_acde48001122row9_col1\" class=\"data row9 col1\" >constant</td>\n",
       "            </tr>\n",
       "            <tr>\n",
       "                        <th id=\"T_f3475e94_abf3_11ea_9065_acde48001122level0_row10\" class=\"row_heading level0 row10\" >10</th>\n",
       "                        <td id=\"T_f3475e94_abf3_11ea_9065_acde48001122row10_col0\" class=\"data row10 col0\" >Normalize </td>\n",
       "                        <td id=\"T_f3475e94_abf3_11ea_9065_acde48001122row10_col1\" class=\"data row10 col1\" >True</td>\n",
       "            </tr>\n",
       "            <tr>\n",
       "                        <th id=\"T_f3475e94_abf3_11ea_9065_acde48001122level0_row11\" class=\"row_heading level0 row11\" >11</th>\n",
       "                        <td id=\"T_f3475e94_abf3_11ea_9065_acde48001122row11_col0\" class=\"data row11 col0\" >Normalize Method </td>\n",
       "                        <td id=\"T_f3475e94_abf3_11ea_9065_acde48001122row11_col1\" class=\"data row11 col1\" >zscore</td>\n",
       "            </tr>\n",
       "            <tr>\n",
       "                        <th id=\"T_f3475e94_abf3_11ea_9065_acde48001122level0_row12\" class=\"row_heading level0 row12\" >12</th>\n",
       "                        <td id=\"T_f3475e94_abf3_11ea_9065_acde48001122row12_col0\" class=\"data row12 col0\" >Transformation </td>\n",
       "                        <td id=\"T_f3475e94_abf3_11ea_9065_acde48001122row12_col1\" class=\"data row12 col1\" >False</td>\n",
       "            </tr>\n",
       "            <tr>\n",
       "                        <th id=\"T_f3475e94_abf3_11ea_9065_acde48001122level0_row13\" class=\"row_heading level0 row13\" >13</th>\n",
       "                        <td id=\"T_f3475e94_abf3_11ea_9065_acde48001122row13_col0\" class=\"data row13 col0\" >Transformation Method </td>\n",
       "                        <td id=\"T_f3475e94_abf3_11ea_9065_acde48001122row13_col1\" class=\"data row13 col1\" >None</td>\n",
       "            </tr>\n",
       "            <tr>\n",
       "                        <th id=\"T_f3475e94_abf3_11ea_9065_acde48001122level0_row14\" class=\"row_heading level0 row14\" >14</th>\n",
       "                        <td id=\"T_f3475e94_abf3_11ea_9065_acde48001122row14_col0\" class=\"data row14 col0\" >PCA </td>\n",
       "                        <td id=\"T_f3475e94_abf3_11ea_9065_acde48001122row14_col1\" class=\"data row14 col1\" >False</td>\n",
       "            </tr>\n",
       "            <tr>\n",
       "                        <th id=\"T_f3475e94_abf3_11ea_9065_acde48001122level0_row15\" class=\"row_heading level0 row15\" >15</th>\n",
       "                        <td id=\"T_f3475e94_abf3_11ea_9065_acde48001122row15_col0\" class=\"data row15 col0\" >PCA Method </td>\n",
       "                        <td id=\"T_f3475e94_abf3_11ea_9065_acde48001122row15_col1\" class=\"data row15 col1\" >None</td>\n",
       "            </tr>\n",
       "            <tr>\n",
       "                        <th id=\"T_f3475e94_abf3_11ea_9065_acde48001122level0_row16\" class=\"row_heading level0 row16\" >16</th>\n",
       "                        <td id=\"T_f3475e94_abf3_11ea_9065_acde48001122row16_col0\" class=\"data row16 col0\" >PCA components </td>\n",
       "                        <td id=\"T_f3475e94_abf3_11ea_9065_acde48001122row16_col1\" class=\"data row16 col1\" >None</td>\n",
       "            </tr>\n",
       "            <tr>\n",
       "                        <th id=\"T_f3475e94_abf3_11ea_9065_acde48001122level0_row17\" class=\"row_heading level0 row17\" >17</th>\n",
       "                        <td id=\"T_f3475e94_abf3_11ea_9065_acde48001122row17_col0\" class=\"data row17 col0\" >Ignore Low Variance </td>\n",
       "                        <td id=\"T_f3475e94_abf3_11ea_9065_acde48001122row17_col1\" class=\"data row17 col1\" >False</td>\n",
       "            </tr>\n",
       "            <tr>\n",
       "                        <th id=\"T_f3475e94_abf3_11ea_9065_acde48001122level0_row18\" class=\"row_heading level0 row18\" >18</th>\n",
       "                        <td id=\"T_f3475e94_abf3_11ea_9065_acde48001122row18_col0\" class=\"data row18 col0\" >Combine Rare Levels </td>\n",
       "                        <td id=\"T_f3475e94_abf3_11ea_9065_acde48001122row18_col1\" class=\"data row18 col1\" >False</td>\n",
       "            </tr>\n",
       "            <tr>\n",
       "                        <th id=\"T_f3475e94_abf3_11ea_9065_acde48001122level0_row19\" class=\"row_heading level0 row19\" >19</th>\n",
       "                        <td id=\"T_f3475e94_abf3_11ea_9065_acde48001122row19_col0\" class=\"data row19 col0\" >Rare Level Threshold </td>\n",
       "                        <td id=\"T_f3475e94_abf3_11ea_9065_acde48001122row19_col1\" class=\"data row19 col1\" >None</td>\n",
       "            </tr>\n",
       "            <tr>\n",
       "                        <th id=\"T_f3475e94_abf3_11ea_9065_acde48001122level0_row20\" class=\"row_heading level0 row20\" >20</th>\n",
       "                        <td id=\"T_f3475e94_abf3_11ea_9065_acde48001122row20_col0\" class=\"data row20 col0\" >Numeric Binning </td>\n",
       "                        <td id=\"T_f3475e94_abf3_11ea_9065_acde48001122row20_col1\" class=\"data row20 col1\" >False</td>\n",
       "            </tr>\n",
       "            <tr>\n",
       "                        <th id=\"T_f3475e94_abf3_11ea_9065_acde48001122level0_row21\" class=\"row_heading level0 row21\" >21</th>\n",
       "                        <td id=\"T_f3475e94_abf3_11ea_9065_acde48001122row21_col0\" class=\"data row21 col0\" >Remove Multicollinearity </td>\n",
       "                        <td id=\"T_f3475e94_abf3_11ea_9065_acde48001122row21_col1\" class=\"data row21 col1\" >False</td>\n",
       "            </tr>\n",
       "            <tr>\n",
       "                        <th id=\"T_f3475e94_abf3_11ea_9065_acde48001122level0_row22\" class=\"row_heading level0 row22\" >22</th>\n",
       "                        <td id=\"T_f3475e94_abf3_11ea_9065_acde48001122row22_col0\" class=\"data row22 col0\" >Multicollinearity Threshold </td>\n",
       "                        <td id=\"T_f3475e94_abf3_11ea_9065_acde48001122row22_col1\" class=\"data row22 col1\" >None</td>\n",
       "            </tr>\n",
       "            <tr>\n",
       "                        <th id=\"T_f3475e94_abf3_11ea_9065_acde48001122level0_row23\" class=\"row_heading level0 row23\" >23</th>\n",
       "                        <td id=\"T_f3475e94_abf3_11ea_9065_acde48001122row23_col0\" class=\"data row23 col0\" >Group Features </td>\n",
       "                        <td id=\"T_f3475e94_abf3_11ea_9065_acde48001122row23_col1\" class=\"data row23 col1\" >False</td>\n",
       "            </tr>\n",
       "    </tbody></table>"
      ],
      "text/plain": [
       "<pandas.io.formats.style.Styler at 0x7fbe508a7590>"
      ]
     },
     "metadata": {},
     "output_type": "display_data"
    }
   ],
   "source": [
    "# Importing dataset\n",
    "import pandas as pd\n",
    "from pycaret.clustering import *\n",
    "dataset = pd.read_csv('song_pair_similarity.csv')\n",
    "dataset.shape\n",
    "dataset = dataset.fillna(0)\n",
    "clf1 = setup(dataset, \n",
    "             normalize = True)"
   ]
  },
  {
   "cell_type": "code",
   "execution_count": 3,
   "metadata": {},
   "outputs": [
    {
     "data": {
      "text/html": [
       "<div>\n",
       "<style scoped>\n",
       "    .dataframe tbody tr th:only-of-type {\n",
       "        vertical-align: middle;\n",
       "    }\n",
       "\n",
       "    .dataframe tbody tr th {\n",
       "        vertical-align: top;\n",
       "    }\n",
       "\n",
       "    .dataframe thead th {\n",
       "        text-align: right;\n",
       "    }\n",
       "</style>\n",
       "<table border=\"1\" class=\"dataframe\">\n",
       "  <thead>\n",
       "    <tr style=\"text-align: right;\">\n",
       "      <th></th>\n",
       "      <th>pair</th>\n",
       "      <th>song_1</th>\n",
       "      <th>song_2</th>\n",
       "      <th>distance</th>\n",
       "      <th>song_1_distance_to_baseline</th>\n",
       "      <th>song_2_distance_to_baseline</th>\n",
       "      <th>Cluster</th>\n",
       "    </tr>\n",
       "  </thead>\n",
       "  <tbody>\n",
       "    <tr>\n",
       "      <td>0</td>\n",
       "      <td>1</td>\n",
       "      <td>1.Juice WRLD - Lucid Dreams_Cpy.mp3</td>\n",
       "      <td>1.yellowcard-holly-wood-died_Org.mp3</td>\n",
       "      <td>0.049629</td>\n",
       "      <td>0.110355</td>\n",
       "      <td>0.085593</td>\n",
       "      <td>Cluster 1</td>\n",
       "    </tr>\n",
       "    <tr>\n",
       "      <td>1</td>\n",
       "      <td>10</td>\n",
       "      <td>10.bruno-mars-uptown-funk_Cpy.mp3</td>\n",
       "      <td>10.the-gap-band-oops-up-side-your-head_Org.mp3</td>\n",
       "      <td>0.043613</td>\n",
       "      <td>0.097727</td>\n",
       "      <td>0.102543</td>\n",
       "      <td>Cluster 1</td>\n",
       "    </tr>\n",
       "    <tr>\n",
       "      <td>2</td>\n",
       "      <td>11</td>\n",
       "      <td>11.drake-who-do-you-love-feat_Cpy.mp3</td>\n",
       "      <td>11.rappin-4-tay-playaz-club_Org.mp3</td>\n",
       "      <td>0.044297</td>\n",
       "      <td>0.101904</td>\n",
       "      <td>0.065693</td>\n",
       "      <td>Cluster 1</td>\n",
       "    </tr>\n",
       "    <tr>\n",
       "      <td>3</td>\n",
       "      <td>12</td>\n",
       "      <td>12.the-doors-hello-i-love-you_Cpy.mp3</td>\n",
       "      <td>12.the-kinks-all-day-and-all-of-the-night_Org.mp3</td>\n",
       "      <td>0.052039</td>\n",
       "      <td>0.179089</td>\n",
       "      <td>0.133533</td>\n",
       "      <td>Cluster 1</td>\n",
       "    </tr>\n",
       "    <tr>\n",
       "      <td>4</td>\n",
       "      <td>13</td>\n",
       "      <td>13.marvin-gaye-got-to-give-it-up_Org.mp3</td>\n",
       "      <td>13.robin-thick-blurred-lines_Cpy.mp3</td>\n",
       "      <td>inf</td>\n",
       "      <td>inf</td>\n",
       "      <td>0.117734</td>\n",
       "      <td>Cluster 1</td>\n",
       "    </tr>\n",
       "    <tr>\n",
       "      <td>5</td>\n",
       "      <td>14</td>\n",
       "      <td>14.breakbot-baby-i-m-yours_Org.mp3</td>\n",
       "      <td>14.bruno-mars-treasure_Cpy.mp3</td>\n",
       "      <td>0.037541</td>\n",
       "      <td>0.103846</td>\n",
       "      <td>0.156336</td>\n",
       "      <td>Cluster 1</td>\n",
       "    </tr>\n",
       "    <tr>\n",
       "      <td>6</td>\n",
       "      <td>15</td>\n",
       "      <td>15.jake-holmes-dazed-and-confused_Org.mp3</td>\n",
       "      <td>15.led-zeppelin-1969-i-dazed-and-confused_Cpy.mp3</td>\n",
       "      <td>0.050295</td>\n",
       "      <td>0.181072</td>\n",
       "      <td>0.074698</td>\n",
       "      <td>Cluster 1</td>\n",
       "    </tr>\n",
       "    <tr>\n",
       "      <td>7</td>\n",
       "      <td>16</td>\n",
       "      <td>16.calvin-harris-calvin-harris-im-not-alone_Or...</td>\n",
       "      <td>16.chris-brown-yeah-3x_Cpy.mp3</td>\n",
       "      <td>inf</td>\n",
       "      <td>0.129748</td>\n",
       "      <td>inf</td>\n",
       "      <td>Cluster 1</td>\n",
       "    </tr>\n",
       "    <tr>\n",
       "      <td>8</td>\n",
       "      <td>17</td>\n",
       "      <td>17.guns-n-39-roses-riad-n-39-the-bedouins_Cpy.mp3</td>\n",
       "      <td>17.ulrich-schnauss-wherever-you-are_Org.mp3</td>\n",
       "      <td>0.072692</td>\n",
       "      <td>0.089057</td>\n",
       "      <td>0.080989</td>\n",
       "      <td>Cluster 1</td>\n",
       "    </tr>\n",
       "    <tr>\n",
       "      <td>9</td>\n",
       "      <td>18</td>\n",
       "      <td>18.coldplay-viva-la-vida_Cpy.mp3</td>\n",
       "      <td>18.joe-satriani-if-i-could-fly_Org.mp3</td>\n",
       "      <td>0.055675</td>\n",
       "      <td>0.121355</td>\n",
       "      <td>0.095285</td>\n",
       "      <td>Cluster 1</td>\n",
       "    </tr>\n",
       "    <tr>\n",
       "      <td>10</td>\n",
       "      <td>19</td>\n",
       "      <td>19.adam-freeland-mancry_Org.mp3</td>\n",
       "      <td>19.the-black-eyed-peas-party-all-the-time_Cpy.mp3</td>\n",
       "      <td>0.040693</td>\n",
       "      <td>0.264290</td>\n",
       "      <td>0.205086</td>\n",
       "      <td>Cluster 1</td>\n",
       "    </tr>\n",
       "    <tr>\n",
       "      <td>11</td>\n",
       "      <td>2</td>\n",
       "      <td>2.lana-del-rey-get-free_Cpy.mp3</td>\n",
       "      <td>2.radioheard-creep_Org.mp3</td>\n",
       "      <td>0.032623</td>\n",
       "      <td>0.141631</td>\n",
       "      <td>0.109931</td>\n",
       "      <td>Cluster 1</td>\n",
       "    </tr>\n",
       "    <tr>\n",
       "      <td>12</td>\n",
       "      <td>20</td>\n",
       "      <td>20.avril-lavin-girlfriend_Cpy.mp3</td>\n",
       "      <td>20.the-rubinoos-i-wanna-be-your-boyfriend_Org.mp3</td>\n",
       "      <td>0.046300</td>\n",
       "      <td>0.098314</td>\n",
       "      <td>0.139899</td>\n",
       "      <td>Cluster 1</td>\n",
       "    </tr>\n",
       "    <tr>\n",
       "      <td>13</td>\n",
       "      <td>21</td>\n",
       "      <td>21.jorge-ben-taj-mahal_Org.mp3</td>\n",
       "      <td>21.rod-stewart-da-ya-think-i-m-sexy_Cpy.mp3</td>\n",
       "      <td>0.041033</td>\n",
       "      <td>0.078814</td>\n",
       "      <td>0.108062</td>\n",
       "      <td>Cluster 1</td>\n",
       "    </tr>\n",
       "    <tr>\n",
       "      <td>14</td>\n",
       "      <td>22</td>\n",
       "      <td>22.eddy-and-danny-van-passel-if-we-can-start-a...</td>\n",
       "      <td>22.michael-jackson-you-are-not-alone_Cpy.mp3</td>\n",
       "      <td>0.072061</td>\n",
       "      <td>0.222642</td>\n",
       "      <td>0.094110</td>\n",
       "      <td>Cluster 1</td>\n",
       "    </tr>\n",
       "    <tr>\n",
       "      <td>15</td>\n",
       "      <td>23</td>\n",
       "      <td>23.jamie-rivera-my-life-is-in-your-hands_Cpy.mp3</td>\n",
       "      <td>23.kathy-troccoli-my-life-is-in-your-hands_Org...</td>\n",
       "      <td>0.024341</td>\n",
       "      <td>0.091477</td>\n",
       "      <td>0.087491</td>\n",
       "      <td>Cluster 1</td>\n",
       "    </tr>\n",
       "    <tr>\n",
       "      <td>16</td>\n",
       "      <td>24</td>\n",
       "      <td>24.cat-stevens-father-and-son_Org.mp3</td>\n",
       "      <td>24.the-flaming-lips-fight-test_Cpy.mp3</td>\n",
       "      <td>0.037643</td>\n",
       "      <td>0.105667</td>\n",
       "      <td>0.185776</td>\n",
       "      <td>Cluster 0</td>\n",
       "    </tr>\n",
       "    <tr>\n",
       "      <td>17</td>\n",
       "      <td>25</td>\n",
       "      <td>25.eminem-kill-you_Cpy.mp3</td>\n",
       "      <td>25.jacques-loussier-pulsion_Org.mp3</td>\n",
       "      <td>0.029214</td>\n",
       "      <td>0.113305</td>\n",
       "      <td>0.170041</td>\n",
       "      <td>Cluster 0</td>\n",
       "    </tr>\n",
       "    <tr>\n",
       "      <td>18</td>\n",
       "      <td>26</td>\n",
       "      <td>26.robert-johnson-stop-breakin-39-down-blues_O...</td>\n",
       "      <td>26.the-rolling-stones-stop-breaking-down_Cpy.mp3</td>\n",
       "      <td>0.138556</td>\n",
       "      <td>0.205454</td>\n",
       "      <td>0.097894</td>\n",
       "      <td>Cluster 3</td>\n",
       "    </tr>\n",
       "    <tr>\n",
       "      <td>19</td>\n",
       "      <td>27</td>\n",
       "      <td>27.robert-johnson-love-is-vain_Org.mp3</td>\n",
       "      <td>27.the-rolling-stones-love-in-vain_Cpy.mp3</td>\n",
       "      <td>0.084758</td>\n",
       "      <td>0.618582</td>\n",
       "      <td>0.103751</td>\n",
       "      <td>Cluster 3</td>\n",
       "    </tr>\n",
       "    <tr>\n",
       "      <td>20</td>\n",
       "      <td>28</td>\n",
       "      <td>28.kraftwerk-metal-on-metal_Org.mp3</td>\n",
       "      <td>28.sabrina-setlur-nur-mir-1997_Cpy.mp3</td>\n",
       "      <td>0.051568</td>\n",
       "      <td>0.050659</td>\n",
       "      <td>0.075787</td>\n",
       "      <td>Cluster 0</td>\n",
       "    </tr>\n",
       "    <tr>\n",
       "      <td>21</td>\n",
       "      <td>29</td>\n",
       "      <td>29.the-rolling-stones-the-last-time_Org.mp3</td>\n",
       "      <td>29.the-verve-bitter-sweet_Cpy.mp3</td>\n",
       "      <td>0.064863</td>\n",
       "      <td>0.092363</td>\n",
       "      <td>0.128293</td>\n",
       "      <td>Cluster 0</td>\n",
       "    </tr>\n",
       "    <tr>\n",
       "      <td>22</td>\n",
       "      <td>30</td>\n",
       "      <td>30.des-39-ree-feel-so-high_Org.mp3</td>\n",
       "      <td>30.janet-jackson-got-til-its-gone_Cpy.mp3</td>\n",
       "      <td>0.041057</td>\n",
       "      <td>0.101362</td>\n",
       "      <td>0.132605</td>\n",
       "      <td>Cluster 0</td>\n",
       "    </tr>\n",
       "    <tr>\n",
       "      <td>23</td>\n",
       "      <td>31</td>\n",
       "      <td>31.glen-miller-in-the-mood_Org.mp3</td>\n",
       "      <td>31.the-beatles-all-you-need-is-love__Cpy.mp3</td>\n",
       "      <td>0.047406</td>\n",
       "      <td>0.100121</td>\n",
       "      <td>0.089826</td>\n",
       "      <td>Cluster 0</td>\n",
       "    </tr>\n",
       "    <tr>\n",
       "      <td>24</td>\n",
       "      <td>32</td>\n",
       "      <td>32.the-doors-hello-i-love-you_Cpy.mp3</td>\n",
       "      <td>32.the-kinks-all-day-and-all-of-the-night_Org.mp3</td>\n",
       "      <td>0.050701</td>\n",
       "      <td>0.243485</td>\n",
       "      <td>0.219229</td>\n",
       "      <td>Cluster 0</td>\n",
       "    </tr>\n",
       "    <tr>\n",
       "      <td>25</td>\n",
       "      <td>33</td>\n",
       "      <td>33.chuck-berry-you-cant-catch-me_Org.mp3</td>\n",
       "      <td>33.the-beatles-come-together_Cpy.mp3</td>\n",
       "      <td>0.064355</td>\n",
       "      <td>0.097394</td>\n",
       "      <td>0.143406</td>\n",
       "      <td>Cluster 0</td>\n",
       "    </tr>\n",
       "    <tr>\n",
       "      <td>26</td>\n",
       "      <td>34</td>\n",
       "      <td>34.howlin-wolf-killing-floor_Org.mp3</td>\n",
       "      <td>34.led-zeppelin-the-lemon-song_Cpy.mp3</td>\n",
       "      <td>0.070365</td>\n",
       "      <td>0.116180</td>\n",
       "      <td>0.146340</td>\n",
       "      <td>Cluster 0</td>\n",
       "    </tr>\n",
       "    <tr>\n",
       "      <td>27</td>\n",
       "      <td>35</td>\n",
       "      <td>35.huey-lewis-the-news-i-want-a-new-drug_Org.mp3</td>\n",
       "      <td>35.ray-parker-jr-ghostbusters_Cpy.mp3</td>\n",
       "      <td>0.037237</td>\n",
       "      <td>0.121742</td>\n",
       "      <td>0.112414</td>\n",
       "      <td>Cluster 0</td>\n",
       "    </tr>\n",
       "    <tr>\n",
       "      <td>28</td>\n",
       "      <td>36</td>\n",
       "      <td>36.led-zeppelin-whole-lotta-love_Cpy.mp3</td>\n",
       "      <td>36.muddy-waters-you-need-love_Org.mp3</td>\n",
       "      <td>0.047917</td>\n",
       "      <td>0.085593</td>\n",
       "      <td>0.103283</td>\n",
       "      <td>Cluster 0</td>\n",
       "    </tr>\n",
       "    <tr>\n",
       "      <td>29</td>\n",
       "      <td>37</td>\n",
       "      <td>37.am-harris-sugar-don-39-t-bite_Org.mp3</td>\n",
       "      <td>37.creedence-clearwater-revival-run-through-th...</td>\n",
       "      <td>0.062138</td>\n",
       "      <td>0.106157</td>\n",
       "      <td>0.149592</td>\n",
       "      <td>Cluster 0</td>\n",
       "    </tr>\n",
       "    <tr>\n",
       "      <td>30</td>\n",
       "      <td>37</td>\n",
       "      <td>37.am-harris-sugar-don-39-t-bite_Org.mp3</td>\n",
       "      <td>37.madonna-papa-dont-preach_Cpy.mp3</td>\n",
       "      <td>0.038002</td>\n",
       "      <td>0.106157</td>\n",
       "      <td>0.087290</td>\n",
       "      <td>Cluster 0</td>\n",
       "    </tr>\n",
       "    <tr>\n",
       "      <td>31</td>\n",
       "      <td>37</td>\n",
       "      <td>37.john-fogerty-the-old-man-down-the-road_Org.mp3</td>\n",
       "      <td>37.am-harris-sugar-don-39-t-bite_Org.mp3</td>\n",
       "      <td>0.060739</td>\n",
       "      <td>0.149788</td>\n",
       "      <td>0.106157</td>\n",
       "      <td>Cluster 0</td>\n",
       "    </tr>\n",
       "    <tr>\n",
       "      <td>32</td>\n",
       "      <td>38</td>\n",
       "      <td>38.the-turtles-you-showed-me_Org.mp3</td>\n",
       "      <td>38.de-la-soul-transmitting-live-from-mars_Cpy.mp3</td>\n",
       "      <td>0.164638</td>\n",
       "      <td>0.180217</td>\n",
       "      <td>0.495402</td>\n",
       "      <td>Cluster 2</td>\n",
       "    </tr>\n",
       "    <tr>\n",
       "      <td>33</td>\n",
       "      <td>39</td>\n",
       "      <td>39.steve-winwood-roll-with-it_Cpy.mp3</td>\n",
       "      <td>39.jr-walker-amp-the-all-stars-i-39-m-a-roadru...</td>\n",
       "      <td>0.051167</td>\n",
       "      <td>0.116535</td>\n",
       "      <td>0.124660</td>\n",
       "      <td>Cluster 0</td>\n",
       "    </tr>\n",
       "    <tr>\n",
       "      <td>34</td>\n",
       "      <td>4</td>\n",
       "      <td>4.thinking-out-loud-ed-sheeran_Cpy.mp3</td>\n",
       "      <td>4.marvin-gaye-let-s-get-it-on-marvin-gaye_Org.mp3</td>\n",
       "      <td>0.034470</td>\n",
       "      <td>0.110568</td>\n",
       "      <td>0.089685</td>\n",
       "      <td>Cluster 1</td>\n",
       "    </tr>\n",
       "    <tr>\n",
       "      <td>35</td>\n",
       "      <td>40</td>\n",
       "      <td>40.queen-under-pressure-queen-david-bowie_Cpy.mp3</td>\n",
       "      <td>40.ice-ice-baby-vanilla-ice_Cpy.mp3</td>\n",
       "      <td>0.056610</td>\n",
       "      <td>0.120461</td>\n",
       "      <td>0.084145</td>\n",
       "      <td>Cluster 0</td>\n",
       "    </tr>\n",
       "    <tr>\n",
       "      <td>36</td>\n",
       "      <td>41</td>\n",
       "      <td>41.creep-radiohead_Cpy.mp3</td>\n",
       "      <td>41.albert-hammond-the-air-that-i-breathe_Org.mp3</td>\n",
       "      <td>0.072469</td>\n",
       "      <td>0.171314</td>\n",
       "      <td>0.145410</td>\n",
       "      <td>Cluster 0</td>\n",
       "    </tr>\n",
       "    <tr>\n",
       "      <td>37</td>\n",
       "      <td>42</td>\n",
       "      <td>42.oasis-whatever_Cpy.mp3</td>\n",
       "      <td>42.neil-innes-how-sweet-to-be-an-idiot_Org.mp3</td>\n",
       "      <td>0.049104</td>\n",
       "      <td>0.101542</td>\n",
       "      <td>0.148044</td>\n",
       "      <td>Cluster 0</td>\n",
       "    </tr>\n",
       "    <tr>\n",
       "      <td>38</td>\n",
       "      <td>43</td>\n",
       "      <td>43.the-isley-brothers-love-is-a-wonderful-thin...</td>\n",
       "      <td>43.michael-bolton-love-is-a-wonderful-thing_Cp...</td>\n",
       "      <td>0.073762</td>\n",
       "      <td>0.142690</td>\n",
       "      <td>0.147852</td>\n",
       "      <td>Cluster 0</td>\n",
       "    </tr>\n",
       "    <tr>\n",
       "      <td>39</td>\n",
       "      <td>44</td>\n",
       "      <td>44.stevie-wonder-uptight-uk-nme-top40-3-02-66_...</td>\n",
       "      <td>44.oasis-step-outremastered_Cpy.mp3</td>\n",
       "      <td>0.137884</td>\n",
       "      <td>0.404374</td>\n",
       "      <td>0.078436</td>\n",
       "      <td>Cluster 3</td>\n",
       "    </tr>\n",
       "    <tr>\n",
       "      <td>40</td>\n",
       "      <td>45</td>\n",
       "      <td>45.the-new-seekers-i-39-d-like-to-teach-the-wo...</td>\n",
       "      <td>45.oasis-shakermaker_Cpy.mp3</td>\n",
       "      <td>0.079863</td>\n",
       "      <td>0.157195</td>\n",
       "      <td>0.075189</td>\n",
       "      <td>Cluster 0</td>\n",
       "    </tr>\n",
       "    <tr>\n",
       "      <td>41</td>\n",
       "      <td>46</td>\n",
       "      <td>46.the-police-every-breath-you-take_Org.mp3</td>\n",
       "      <td>46.p-diddy-ill-be-missing-you-p-diddy-ill-be-m...</td>\n",
       "      <td>0.035339</td>\n",
       "      <td>0.088097</td>\n",
       "      <td>0.107252</td>\n",
       "      <td>Cluster 0</td>\n",
       "    </tr>\n",
       "    <tr>\n",
       "      <td>42</td>\n",
       "      <td>47</td>\n",
       "      <td>47.the-rolling-stones-anybody-seen-my-baby_Cpy...</td>\n",
       "      <td>47.kd-lang-constant-craving_Org.mp3</td>\n",
       "      <td>0.039095</td>\n",
       "      <td>0.102912</td>\n",
       "      <td>0.196291</td>\n",
       "      <td>Cluster 0</td>\n",
       "    </tr>\n",
       "    <tr>\n",
       "      <td>43</td>\n",
       "      <td>5</td>\n",
       "      <td>5.jasmine-rae-when-i-found-you_Org.mp3</td>\n",
       "      <td>5.faith-hill-tim-mcgraw-the-rest-of-our-life_C...</td>\n",
       "      <td>0.039578</td>\n",
       "      <td>0.164422</td>\n",
       "      <td>0.117493</td>\n",
       "      <td>Cluster 1</td>\n",
       "    </tr>\n",
       "    <tr>\n",
       "      <td>44</td>\n",
       "      <td>6</td>\n",
       "      <td>6.the-white-stripers-seven-nation-army_Org.mp3</td>\n",
       "      <td>6.netta-toy-toy_Cpy.mp3</td>\n",
       "      <td>0.051335</td>\n",
       "      <td>0.096899</td>\n",
       "      <td>0.162323</td>\n",
       "      <td>Cluster 1</td>\n",
       "    </tr>\n",
       "    <tr>\n",
       "      <td>45</td>\n",
       "      <td>7</td>\n",
       "      <td>7.tlc-no-scrubs_Org.mp3</td>\n",
       "      <td>7.shape-of-you-ed-sheeran_Cpy.mp3</td>\n",
       "      <td>0.036110</td>\n",
       "      <td>0.090393</td>\n",
       "      <td>0.111756</td>\n",
       "      <td>Cluster 1</td>\n",
       "    </tr>\n",
       "    <tr>\n",
       "      <td>46</td>\n",
       "      <td>8</td>\n",
       "      <td>8.matt-cardle-amazing_Org.mp3</td>\n",
       "      <td>8.ed-sheeran-photograph-photograph_Cpy.mp3</td>\n",
       "      <td>0.040431</td>\n",
       "      <td>0.127436</td>\n",
       "      <td>0.135429</td>\n",
       "      <td>Cluster 1</td>\n",
       "    </tr>\n",
       "    <tr>\n",
       "      <td>47</td>\n",
       "      <td>9</td>\n",
       "      <td>9.spirit-taurus_Org.mp3</td>\n",
       "      <td>9.led-zeppeling-stairway-to-heaven_Cpy.mp3</td>\n",
       "      <td>0.093516</td>\n",
       "      <td>0.174448</td>\n",
       "      <td>0.065693</td>\n",
       "      <td>Cluster 1</td>\n",
       "    </tr>\n",
       "    <tr>\n",
       "      <td>48</td>\n",
       "      <td>0</td>\n",
       "      <td>9.spirit-taurus_Org.mp3</td>\n",
       "      <td>9.led-zeppeling-stairway-to-heaven_Cpy.mp3</td>\n",
       "      <td>0.014843</td>\n",
       "      <td>0.014843</td>\n",
       "      <td>0.014843</td>\n",
       "      <td>Cluster 1</td>\n",
       "    </tr>\n",
       "  </tbody>\n",
       "</table>\n",
       "</div>"
      ],
      "text/plain": [
       "    pair                                             song_1  \\\n",
       "0      1                1.Juice WRLD - Lucid Dreams_Cpy.mp3   \n",
       "1     10                  10.bruno-mars-uptown-funk_Cpy.mp3   \n",
       "2     11              11.drake-who-do-you-love-feat_Cpy.mp3   \n",
       "3     12              12.the-doors-hello-i-love-you_Cpy.mp3   \n",
       "4     13           13.marvin-gaye-got-to-give-it-up_Org.mp3   \n",
       "5     14                 14.breakbot-baby-i-m-yours_Org.mp3   \n",
       "6     15          15.jake-holmes-dazed-and-confused_Org.mp3   \n",
       "7     16  16.calvin-harris-calvin-harris-im-not-alone_Or...   \n",
       "8     17  17.guns-n-39-roses-riad-n-39-the-bedouins_Cpy.mp3   \n",
       "9     18                   18.coldplay-viva-la-vida_Cpy.mp3   \n",
       "10    19                    19.adam-freeland-mancry_Org.mp3   \n",
       "11     2                    2.lana-del-rey-get-free_Cpy.mp3   \n",
       "12    20                  20.avril-lavin-girlfriend_Cpy.mp3   \n",
       "13    21                     21.jorge-ben-taj-mahal_Org.mp3   \n",
       "14    22  22.eddy-and-danny-van-passel-if-we-can-start-a...   \n",
       "15    23   23.jamie-rivera-my-life-is-in-your-hands_Cpy.mp3   \n",
       "16    24              24.cat-stevens-father-and-son_Org.mp3   \n",
       "17    25                         25.eminem-kill-you_Cpy.mp3   \n",
       "18    26  26.robert-johnson-stop-breakin-39-down-blues_O...   \n",
       "19    27             27.robert-johnson-love-is-vain_Org.mp3   \n",
       "20    28                28.kraftwerk-metal-on-metal_Org.mp3   \n",
       "21    29        29.the-rolling-stones-the-last-time_Org.mp3   \n",
       "22    30                 30.des-39-ree-feel-so-high_Org.mp3   \n",
       "23    31                 31.glen-miller-in-the-mood_Org.mp3   \n",
       "24    32              32.the-doors-hello-i-love-you_Cpy.mp3   \n",
       "25    33           33.chuck-berry-you-cant-catch-me_Org.mp3   \n",
       "26    34               34.howlin-wolf-killing-floor_Org.mp3   \n",
       "27    35   35.huey-lewis-the-news-i-want-a-new-drug_Org.mp3   \n",
       "28    36           36.led-zeppelin-whole-lotta-love_Cpy.mp3   \n",
       "29    37           37.am-harris-sugar-don-39-t-bite_Org.mp3   \n",
       "30    37           37.am-harris-sugar-don-39-t-bite_Org.mp3   \n",
       "31    37  37.john-fogerty-the-old-man-down-the-road_Org.mp3   \n",
       "32    38               38.the-turtles-you-showed-me_Org.mp3   \n",
       "33    39              39.steve-winwood-roll-with-it_Cpy.mp3   \n",
       "34     4             4.thinking-out-loud-ed-sheeran_Cpy.mp3   \n",
       "35    40  40.queen-under-pressure-queen-david-bowie_Cpy.mp3   \n",
       "36    41                         41.creep-radiohead_Cpy.mp3   \n",
       "37    42                          42.oasis-whatever_Cpy.mp3   \n",
       "38    43  43.the-isley-brothers-love-is-a-wonderful-thin...   \n",
       "39    44  44.stevie-wonder-uptight-uk-nme-top40-3-02-66_...   \n",
       "40    45  45.the-new-seekers-i-39-d-like-to-teach-the-wo...   \n",
       "41    46        46.the-police-every-breath-you-take_Org.mp3   \n",
       "42    47  47.the-rolling-stones-anybody-seen-my-baby_Cpy...   \n",
       "43     5             5.jasmine-rae-when-i-found-you_Org.mp3   \n",
       "44     6     6.the-white-stripers-seven-nation-army_Org.mp3   \n",
       "45     7                            7.tlc-no-scrubs_Org.mp3   \n",
       "46     8                      8.matt-cardle-amazing_Org.mp3   \n",
       "47     9                            9.spirit-taurus_Org.mp3   \n",
       "48     0                            9.spirit-taurus_Org.mp3   \n",
       "\n",
       "                                               song_2  distance  \\\n",
       "0                1.yellowcard-holly-wood-died_Org.mp3  0.049629   \n",
       "1      10.the-gap-band-oops-up-side-your-head_Org.mp3  0.043613   \n",
       "2                 11.rappin-4-tay-playaz-club_Org.mp3  0.044297   \n",
       "3   12.the-kinks-all-day-and-all-of-the-night_Org.mp3  0.052039   \n",
       "4                13.robin-thick-blurred-lines_Cpy.mp3       inf   \n",
       "5                      14.bruno-mars-treasure_Cpy.mp3  0.037541   \n",
       "6   15.led-zeppelin-1969-i-dazed-and-confused_Cpy.mp3  0.050295   \n",
       "7                      16.chris-brown-yeah-3x_Cpy.mp3       inf   \n",
       "8         17.ulrich-schnauss-wherever-you-are_Org.mp3  0.072692   \n",
       "9              18.joe-satriani-if-i-could-fly_Org.mp3  0.055675   \n",
       "10  19.the-black-eyed-peas-party-all-the-time_Cpy.mp3  0.040693   \n",
       "11                         2.radioheard-creep_Org.mp3  0.032623   \n",
       "12  20.the-rubinoos-i-wanna-be-your-boyfriend_Org.mp3  0.046300   \n",
       "13        21.rod-stewart-da-ya-think-i-m-sexy_Cpy.mp3  0.041033   \n",
       "14       22.michael-jackson-you-are-not-alone_Cpy.mp3  0.072061   \n",
       "15  23.kathy-troccoli-my-life-is-in-your-hands_Org...  0.024341   \n",
       "16             24.the-flaming-lips-fight-test_Cpy.mp3  0.037643   \n",
       "17                25.jacques-loussier-pulsion_Org.mp3  0.029214   \n",
       "18   26.the-rolling-stones-stop-breaking-down_Cpy.mp3  0.138556   \n",
       "19         27.the-rolling-stones-love-in-vain_Cpy.mp3  0.084758   \n",
       "20             28.sabrina-setlur-nur-mir-1997_Cpy.mp3  0.051568   \n",
       "21                  29.the-verve-bitter-sweet_Cpy.mp3  0.064863   \n",
       "22          30.janet-jackson-got-til-its-gone_Cpy.mp3  0.041057   \n",
       "23       31.the-beatles-all-you-need-is-love__Cpy.mp3  0.047406   \n",
       "24  32.the-kinks-all-day-and-all-of-the-night_Org.mp3  0.050701   \n",
       "25               33.the-beatles-come-together_Cpy.mp3  0.064355   \n",
       "26             34.led-zeppelin-the-lemon-song_Cpy.mp3  0.070365   \n",
       "27              35.ray-parker-jr-ghostbusters_Cpy.mp3  0.037237   \n",
       "28              36.muddy-waters-you-need-love_Org.mp3  0.047917   \n",
       "29  37.creedence-clearwater-revival-run-through-th...  0.062138   \n",
       "30                37.madonna-papa-dont-preach_Cpy.mp3  0.038002   \n",
       "31           37.am-harris-sugar-don-39-t-bite_Org.mp3  0.060739   \n",
       "32  38.de-la-soul-transmitting-live-from-mars_Cpy.mp3  0.164638   \n",
       "33  39.jr-walker-amp-the-all-stars-i-39-m-a-roadru...  0.051167   \n",
       "34  4.marvin-gaye-let-s-get-it-on-marvin-gaye_Org.mp3  0.034470   \n",
       "35                40.ice-ice-baby-vanilla-ice_Cpy.mp3  0.056610   \n",
       "36   41.albert-hammond-the-air-that-i-breathe_Org.mp3  0.072469   \n",
       "37     42.neil-innes-how-sweet-to-be-an-idiot_Org.mp3  0.049104   \n",
       "38  43.michael-bolton-love-is-a-wonderful-thing_Cp...  0.073762   \n",
       "39                44.oasis-step-outremastered_Cpy.mp3  0.137884   \n",
       "40                       45.oasis-shakermaker_Cpy.mp3  0.079863   \n",
       "41  46.p-diddy-ill-be-missing-you-p-diddy-ill-be-m...  0.035339   \n",
       "42                47.kd-lang-constant-craving_Org.mp3  0.039095   \n",
       "43  5.faith-hill-tim-mcgraw-the-rest-of-our-life_C...  0.039578   \n",
       "44                            6.netta-toy-toy_Cpy.mp3  0.051335   \n",
       "45                  7.shape-of-you-ed-sheeran_Cpy.mp3  0.036110   \n",
       "46         8.ed-sheeran-photograph-photograph_Cpy.mp3  0.040431   \n",
       "47         9.led-zeppeling-stairway-to-heaven_Cpy.mp3  0.093516   \n",
       "48         9.led-zeppeling-stairway-to-heaven_Cpy.mp3  0.014843   \n",
       "\n",
       "    song_1_distance_to_baseline  song_2_distance_to_baseline    Cluster  \n",
       "0                      0.110355                     0.085593  Cluster 1  \n",
       "1                      0.097727                     0.102543  Cluster 1  \n",
       "2                      0.101904                     0.065693  Cluster 1  \n",
       "3                      0.179089                     0.133533  Cluster 1  \n",
       "4                           inf                     0.117734  Cluster 1  \n",
       "5                      0.103846                     0.156336  Cluster 1  \n",
       "6                      0.181072                     0.074698  Cluster 1  \n",
       "7                      0.129748                          inf  Cluster 1  \n",
       "8                      0.089057                     0.080989  Cluster 1  \n",
       "9                      0.121355                     0.095285  Cluster 1  \n",
       "10                     0.264290                     0.205086  Cluster 1  \n",
       "11                     0.141631                     0.109931  Cluster 1  \n",
       "12                     0.098314                     0.139899  Cluster 1  \n",
       "13                     0.078814                     0.108062  Cluster 1  \n",
       "14                     0.222642                     0.094110  Cluster 1  \n",
       "15                     0.091477                     0.087491  Cluster 1  \n",
       "16                     0.105667                     0.185776  Cluster 0  \n",
       "17                     0.113305                     0.170041  Cluster 0  \n",
       "18                     0.205454                     0.097894  Cluster 3  \n",
       "19                     0.618582                     0.103751  Cluster 3  \n",
       "20                     0.050659                     0.075787  Cluster 0  \n",
       "21                     0.092363                     0.128293  Cluster 0  \n",
       "22                     0.101362                     0.132605  Cluster 0  \n",
       "23                     0.100121                     0.089826  Cluster 0  \n",
       "24                     0.243485                     0.219229  Cluster 0  \n",
       "25                     0.097394                     0.143406  Cluster 0  \n",
       "26                     0.116180                     0.146340  Cluster 0  \n",
       "27                     0.121742                     0.112414  Cluster 0  \n",
       "28                     0.085593                     0.103283  Cluster 0  \n",
       "29                     0.106157                     0.149592  Cluster 0  \n",
       "30                     0.106157                     0.087290  Cluster 0  \n",
       "31                     0.149788                     0.106157  Cluster 0  \n",
       "32                     0.180217                     0.495402  Cluster 2  \n",
       "33                     0.116535                     0.124660  Cluster 0  \n",
       "34                     0.110568                     0.089685  Cluster 1  \n",
       "35                     0.120461                     0.084145  Cluster 0  \n",
       "36                     0.171314                     0.145410  Cluster 0  \n",
       "37                     0.101542                     0.148044  Cluster 0  \n",
       "38                     0.142690                     0.147852  Cluster 0  \n",
       "39                     0.404374                     0.078436  Cluster 3  \n",
       "40                     0.157195                     0.075189  Cluster 0  \n",
       "41                     0.088097                     0.107252  Cluster 0  \n",
       "42                     0.102912                     0.196291  Cluster 0  \n",
       "43                     0.164422                     0.117493  Cluster 1  \n",
       "44                     0.096899                     0.162323  Cluster 1  \n",
       "45                     0.090393                     0.111756  Cluster 1  \n",
       "46                     0.127436                     0.135429  Cluster 1  \n",
       "47                     0.174448                     0.065693  Cluster 1  \n",
       "48                     0.014843                     0.014843  Cluster 1  "
      ]
     },
     "execution_count": 3,
     "metadata": {},
     "output_type": "execute_result"
    }
   ],
   "source": [
    "kmeans = create_model('kmeans')\n",
    "kmean_results = assign_model(kmeans)\n",
    "kmean_results"
   ]
  },
  {
   "cell_type": "code",
   "execution_count": 5,
   "metadata": {},
   "outputs": [
    {
     "data": {
      "text/html": [
       "        <script type=\"text/javascript\">\n",
       "        window.PlotlyConfig = {MathJaxConfig: 'local'};\n",
       "        if (window.MathJax) {MathJax.Hub.Config({SVG: {font: \"STIX-Web\"}});}\n",
       "        if (typeof require !== 'undefined') {\n",
       "        require.undef(\"plotly\");\n",
       "        requirejs.config({\n",
       "            paths: {\n",
       "                'plotly': ['https://cdn.plot.ly/plotly-latest.min']\n",
       "            }\n",
       "        });\n",
       "        require(['plotly'], function(Plotly) {\n",
       "            window._Plotly = Plotly;\n",
       "        });\n",
       "        }\n",
       "        </script>\n",
       "        "
      ]
     },
     "metadata": {},
     "output_type": "display_data"
    },
    {
     "data": {
      "application/vnd.plotly.v1+json": {
       "config": {
        "plotlyServerURL": "https://plot.ly"
       },
       "data": [
        {
         "alignmentgroup": "True",
         "bingroup": "x",
         "hoverlabel": {
          "namelength": 0
         },
         "hovertemplate": "Cluster=%{x}<br>count=%{y}",
         "legendgroup": "Cluster=Cluster 0",
         "marker": {
          "color": "#636efa",
          "opacity": 0.7
         },
         "name": "Cluster=Cluster 0",
         "offsetgroup": "Cluster=Cluster 0",
         "orientation": "v",
         "showlegend": true,
         "type": "histogram",
         "x": [
          "Cluster 0",
          "Cluster 0",
          "Cluster 0",
          "Cluster 0",
          "Cluster 0",
          "Cluster 0",
          "Cluster 0",
          "Cluster 0",
          "Cluster 0",
          "Cluster 0",
          "Cluster 0",
          "Cluster 0",
          "Cluster 0",
          "Cluster 0",
          "Cluster 0",
          "Cluster 0",
          "Cluster 0",
          "Cluster 0",
          "Cluster 0",
          "Cluster 0",
          "Cluster 0",
          "Cluster 0"
         ],
         "xaxis": "x",
         "yaxis": "y"
        },
        {
         "alignmentgroup": "True",
         "customdata": [
          [
           32,
           "32.the-doors-hello-i-love-you_Cpy.mp3",
           "32.the-kinks-all-day-and-all-of-the-night_Org.mp3",
           0.050700977444648736,
           0.2434845864772797,
           0.2192294150590897,
           "Cluster 0"
          ],
          [
           35,
           "35.huey-lewis-the-news-i-want-a-new-drug_Org.mp3",
           "35.ray-parker-jr-ghostbusters_Cpy.mp3",
           0.037237104028463364,
           0.12174229323863985,
           0.11241430044174194,
           "Cluster 0"
          ],
          [
           31,
           "31.glen-miller-in-the-mood_Org.mp3",
           "31.the-beatles-all-you-need-is-love__Cpy.mp3",
           0.047405563294887536,
           0.10012052208185196,
           0.08982555568218231,
           "Cluster 0"
          ],
          [
           30,
           "30.des-39-ree-feel-so-high_Org.mp3",
           "30.janet-jackson-got-til-its-gone_Cpy.mp3",
           0.0410572849214077,
           0.10136204957962036,
           0.13260458409786224,
           "Cluster 0"
          ],
          [
           29,
           "29.the-rolling-stones-the-last-time_Org.mp3",
           "29.the-verve-bitter-sweet_Cpy.mp3",
           0.06486313790082933,
           0.09236299991607666,
           0.1282934546470642,
           "Cluster 0"
          ],
          [
           28,
           "28.kraftwerk-metal-on-metal_Org.mp3",
           "28.sabrina-setlur-nur-mir-1997_Cpy.mp3",
           0.051568269729614265,
           0.050658591091632836,
           0.07578659057617188,
           "Cluster 0"
          ],
          [
           36,
           "36.led-zeppelin-whole-lotta-love_Cpy.mp3",
           "36.muddy-waters-you-need-love_Org.mp3",
           0.047917265444993966,
           0.08559293299913406,
           0.10328317433595656,
           "Cluster 0"
          ],
          [
           37,
           "37.am-harris-sugar-don-39-t-bite_Org.mp3",
           "37.creedence-clearwater-revival-run-through-the-jungle_Org.mp3",
           0.06213817372918129,
           0.10615747421979904,
           0.1495918333530426,
           "Cluster 0"
          ],
          [
           25,
           "25.eminem-kill-you_Cpy.mp3",
           "25.jacques-loussier-pulsion_Org.mp3",
           0.029213577508926388,
           0.11330471187829973,
           0.1700412482023239,
           "Cluster 0"
          ],
          [
           24,
           "24.cat-stevens-father-and-son_Org.mp3",
           "24.the-flaming-lips-fight-test_Cpy.mp3",
           0.03764323890209198,
           0.1056673675775528,
           0.1857755780220032,
           "Cluster 0"
          ],
          [
           37,
           "37.am-harris-sugar-don-39-t-bite_Org.mp3",
           "37.madonna-papa-dont-preach_Cpy.mp3",
           0.03800179809331894,
           0.10615747421979904,
           0.08729042857885361,
           "Cluster 0"
          ],
          [
           37,
           "37.john-fogerty-the-old-man-down-the-road_Org.mp3",
           "37.am-harris-sugar-don-39-t-bite_Org.mp3",
           0.060738734900951385,
           0.14978763461112976,
           0.10615747421979904,
           "Cluster 0"
          ],
          [
           33,
           "33.chuck-berry-you-cant-catch-me_Org.mp3",
           "33.the-beatles-come-together_Cpy.mp3",
           0.06435468047857285,
           0.09739383310079576,
           0.1434057056903839,
           "Cluster 0"
          ],
          [
           39,
           "39.steve-winwood-roll-with-it_Cpy.mp3",
           "39.jr-walker-amp-the-all-stars-i-39-m-a-roadrunner_Org.mp3",
           0.0511666052043438,
           0.11653539538383485,
           0.12465986609458925,
           "Cluster 0"
          ],
          [
           40,
           "40.queen-under-pressure-queen-david-bowie_Cpy.mp3",
           "40.ice-ice-baby-vanilla-ice_Cpy.mp3",
           0.05661027878522872,
           0.12046079337596892,
           0.08414541184902191,
           "Cluster 0"
          ],
          [
           41,
           "41.creep-radiohead_Cpy.mp3",
           "41.albert-hammond-the-air-that-i-breathe_Org.mp3",
           0.07246924936771393,
           0.17131400108337402,
           0.14541010558605194,
           "Cluster 0"
          ],
          [
           42,
           "42.oasis-whatever_Cpy.mp3",
           "42.neil-innes-how-sweet-to-be-an-idiot_Org.mp3",
           0.049104444682598114,
           0.1015419289469719,
           0.1480436623096466,
           "Cluster 0"
          ],
          [
           43,
           "43.the-isley-brothers-love-is-a-wonderful-thing_Org.mp3",
           "43.michael-bolton-love-is-a-wonderful-thing_Cpy.mp3",
           0.07376223057508469,
           0.14269046485424042,
           0.14785239100456238,
           "Cluster 0"
          ],
          [
           45,
           "45.the-new-seekers-i-39-d-like-to-teach-the-world-to-sing-in-perfect-harmony_Cpy.mp3",
           "45.oasis-shakermaker_Cpy.mp3",
           0.07986341416835785,
           0.15719471871852875,
           0.07518906146287918,
           "Cluster 0"
          ],
          [
           46,
           "46.the-police-every-breath-you-take_Org.mp3",
           "46.p-diddy-ill-be-missing-you-p-diddy-ill-be-missing-yo_Cpy.mp3",
           0.03533896431326866,
           0.08809681236743927,
           0.1072518825531006,
           "Cluster 0"
          ],
          [
           47,
           "47.the-rolling-stones-anybody-seen-my-baby_Cpy.mp3",
           "47.kd-lang-constant-craving_Org.mp3",
           0.039094612002372735,
           0.10291165113449097,
           0.19629117846488955,
           "Cluster 0"
          ],
          [
           34,
           "34.howlin-wolf-killing-floor_Org.mp3",
           "34.led-zeppelin-the-lemon-song_Cpy.mp3",
           0.07036525011062622,
           0.11618046462535858,
           0.14633984863758087,
           "Cluster 0"
          ]
         ],
         "hoverlabel": {
          "namelength": 0
         },
         "hovertemplate": "Cluster=%{customdata[6]}<br>pair=%{customdata[0]}<br>song_1=%{customdata[1]}<br>song_2=%{customdata[2]}<br>distance=%{customdata[3]}<br>song_1_distance_to_baseline=%{customdata[4]}<br>song_2_distance_to_baseline=%{customdata[5]}",
         "legendgroup": "Cluster=Cluster 0",
         "marker": {
          "color": "#636efa"
         },
         "name": "Cluster=Cluster 0",
         "notched": true,
         "offsetgroup": "Cluster=Cluster 0",
         "showlegend": false,
         "type": "box",
         "x": [
          "Cluster 0",
          "Cluster 0",
          "Cluster 0",
          "Cluster 0",
          "Cluster 0",
          "Cluster 0",
          "Cluster 0",
          "Cluster 0",
          "Cluster 0",
          "Cluster 0",
          "Cluster 0",
          "Cluster 0",
          "Cluster 0",
          "Cluster 0",
          "Cluster 0",
          "Cluster 0",
          "Cluster 0",
          "Cluster 0",
          "Cluster 0",
          "Cluster 0",
          "Cluster 0",
          "Cluster 0"
         ],
         "xaxis": "x2",
         "yaxis": "y2"
        },
        {
         "alignmentgroup": "True",
         "bingroup": "x",
         "hoverlabel": {
          "namelength": 0
         },
         "hovertemplate": "Cluster=%{x}<br>count=%{y}",
         "legendgroup": "Cluster=Cluster 1",
         "marker": {
          "color": "#EF553B",
          "opacity": 0.7
         },
         "name": "Cluster=Cluster 1",
         "offsetgroup": "Cluster=Cluster 1",
         "orientation": "v",
         "showlegend": true,
         "type": "histogram",
         "x": [
          "Cluster 1",
          "Cluster 1",
          "Cluster 1",
          "Cluster 1",
          "Cluster 1",
          "Cluster 1",
          "Cluster 1",
          "Cluster 1",
          "Cluster 1",
          "Cluster 1",
          "Cluster 1",
          "Cluster 1",
          "Cluster 1",
          "Cluster 1",
          "Cluster 1",
          "Cluster 1",
          "Cluster 1",
          "Cluster 1",
          "Cluster 1",
          "Cluster 1",
          "Cluster 1",
          "Cluster 1",
          "Cluster 1"
         ],
         "xaxis": "x",
         "yaxis": "y"
        },
        {
         "alignmentgroup": "True",
         "customdata": [
          [
           5,
           "5.jasmine-rae-when-i-found-you_Org.mp3",
           "5.faith-hill-tim-mcgraw-the-rest-of-our-life_Cpy.mp3",
           0.03957809135317802,
           0.16442206501960754,
           0.11749256402254105,
           "Cluster 1"
          ],
          [
           6,
           "6.the-white-stripers-seven-nation-army_Org.mp3",
           "6.netta-toy-toy_Cpy.mp3",
           0.051335178315639496,
           0.09689903259277344,
           0.16232305765151978,
           "Cluster 1"
          ],
          [
           7,
           "7.tlc-no-scrubs_Org.mp3",
           "7.shape-of-you-ed-sheeran_Cpy.mp3",
           0.03610996901988983,
           0.09039317071437836,
           0.1117556244134903,
           "Cluster 1"
          ],
          [
           8,
           "8.matt-cardle-amazing_Org.mp3",
           "8.ed-sheeran-photograph-photograph_Cpy.mp3",
           0.04043122753500938,
           0.12743625044822693,
           0.1354292929172516,
           "Cluster 1"
          ],
          [
           4,
           "4.thinking-out-loud-ed-sheeran_Cpy.mp3",
           "4.marvin-gaye-let-s-get-it-on-marvin-gaye_Org.mp3",
           0.03446970134973526,
           0.11056788265705107,
           0.08968476206064224,
           "Cluster 1"
          ],
          [
           1,
           "1.Juice WRLD - Lucid Dreams_Cpy.mp3",
           "1.yellowcard-holly-wood-died_Org.mp3",
           0.049629110842943185,
           0.11035463213920592,
           0.08559293299913406,
           "Cluster 1"
          ],
          [
           17,
           "17.guns-n-39-roses-riad-n-39-the-bedouins_Cpy.mp3",
           "17.ulrich-schnauss-wherever-you-are_Org.mp3",
           0.07269168645143509,
           0.08905661851167679,
           0.08098921179771422,
           "Cluster 1"
          ],
          [
           10,
           "10.bruno-mars-uptown-funk_Cpy.mp3",
           "10.the-gap-band-oops-up-side-your-head_Org.mp3",
           0.043612908571958535,
           0.0977265238761902,
           0.10254279524087906,
           "Cluster 1"
          ],
          [
           11,
           "11.drake-who-do-you-love-feat_Cpy.mp3",
           "11.rappin-4-tay-playaz-club_Org.mp3",
           0.04429658502340317,
           0.10190360993146896,
           0.06569331884384155,
           "Cluster 1"
          ],
          [
           12,
           "12.the-doors-hello-i-love-you_Cpy.mp3",
           "12.the-kinks-all-day-and-all-of-the-night_Org.mp3",
           0.05203891545534134,
           0.17908881604671478,
           0.13353297114372253,
           "Cluster 1"
          ],
          [
           13,
           "13.marvin-gaye-got-to-give-it-up_Org.mp3",
           "13.robin-thick-blurred-lines_Cpy.mp3",
           null,
           null,
           0.11773432046175004,
           "Cluster 1"
          ],
          [
           14,
           "14.breakbot-baby-i-m-yours_Org.mp3",
           "14.bruno-mars-treasure_Cpy.mp3",
           0.03754057362675667,
           0.10384551435709,
           0.1563357263803482,
           "Cluster 1"
          ],
          [
           15,
           "15.jake-holmes-dazed-and-confused_Org.mp3",
           "15.led-zeppelin-1969-i-dazed-and-confused_Cpy.mp3",
           0.05029534175992012,
           0.181072399020195,
           0.07469827681779861,
           "Cluster 1"
          ],
          [
           16,
           "16.calvin-harris-calvin-harris-im-not-alone_Org.mp3",
           "16.chris-brown-yeah-3x_Cpy.mp3",
           null,
           0.12974801659584045,
           null,
           "Cluster 1"
          ],
          [
           9,
           "9.spirit-taurus_Org.mp3",
           "9.led-zeppeling-stairway-to-heaven_Cpy.mp3",
           0.09351640194654463,
           0.17444780468940735,
           0.06569331884384155,
           "Cluster 1"
          ],
          [
           0,
           "9.spirit-taurus_Org.mp3",
           "9.led-zeppeling-stairway-to-heaven_Cpy.mp3",
           0.014842770062386991,
           0.014842770062386991,
           0.014842770062386991,
           "Cluster 1"
          ],
          [
           19,
           "19.adam-freeland-mancry_Org.mp3",
           "19.the-black-eyed-peas-party-all-the-time_Cpy.mp3",
           0.04069327563047409,
           0.2642904222011566,
           0.20508559048175806,
           "Cluster 1"
          ],
          [
           2,
           "2.lana-del-rey-get-free_Cpy.mp3",
           "2.radioheard-creep_Org.mp3",
           0.032622843980789185,
           0.1416308879852295,
           0.1099306046962738,
           "Cluster 1"
          ],
          [
           20,
           "20.avril-lavin-girlfriend_Cpy.mp3",
           "20.the-rubinoos-i-wanna-be-your-boyfriend_Org.mp3",
           0.04630039632320404,
           0.09831422567367554,
           0.13989946246147156,
           "Cluster 1"
          ],
          [
           21,
           "21.jorge-ben-taj-mahal_Org.mp3",
           "21.rod-stewart-da-ya-think-i-m-sexy_Cpy.mp3",
           0.04103261977434158,
           0.07881388068199158,
           0.10806209594011308,
           "Cluster 1"
          ],
          [
           22,
           "22.eddy-and-danny-van-passel-if-we-can-start-all-over_Org.mp3",
           "22.michael-jackson-you-are-not-alone_Cpy.mp3",
           0.0720611959695816,
           0.22264154255390167,
           0.09410999715328217,
           "Cluster 1"
          ],
          [
           23,
           "23.jamie-rivera-my-life-is-in-your-hands_Cpy.mp3",
           "23.kathy-troccoli-my-life-is-in-your-hands_Org.mp3",
           0.02434083446860313,
           0.09147702157497406,
           0.08749064058065414,
           "Cluster 1"
          ],
          [
           18,
           "18.coldplay-viva-la-vida_Cpy.mp3",
           "18.joe-satriani-if-i-could-fly_Org.mp3",
           0.055674541741609566,
           0.12135498970746995,
           0.09528539329767227,
           "Cluster 1"
          ]
         ],
         "hoverlabel": {
          "namelength": 0
         },
         "hovertemplate": "Cluster=%{customdata[6]}<br>pair=%{customdata[0]}<br>song_1=%{customdata[1]}<br>song_2=%{customdata[2]}<br>distance=%{customdata[3]}<br>song_1_distance_to_baseline=%{customdata[4]}<br>song_2_distance_to_baseline=%{customdata[5]}",
         "legendgroup": "Cluster=Cluster 1",
         "marker": {
          "color": "#EF553B"
         },
         "name": "Cluster=Cluster 1",
         "notched": true,
         "offsetgroup": "Cluster=Cluster 1",
         "showlegend": false,
         "type": "box",
         "x": [
          "Cluster 1",
          "Cluster 1",
          "Cluster 1",
          "Cluster 1",
          "Cluster 1",
          "Cluster 1",
          "Cluster 1",
          "Cluster 1",
          "Cluster 1",
          "Cluster 1",
          "Cluster 1",
          "Cluster 1",
          "Cluster 1",
          "Cluster 1",
          "Cluster 1",
          "Cluster 1",
          "Cluster 1",
          "Cluster 1",
          "Cluster 1",
          "Cluster 1",
          "Cluster 1",
          "Cluster 1",
          "Cluster 1"
         ],
         "xaxis": "x2",
         "yaxis": "y2"
        },
        {
         "alignmentgroup": "True",
         "bingroup": "x",
         "hoverlabel": {
          "namelength": 0
         },
         "hovertemplate": "Cluster=%{x}<br>count=%{y}",
         "legendgroup": "Cluster=Cluster 2",
         "marker": {
          "color": "#00cc96",
          "opacity": 0.7
         },
         "name": "Cluster=Cluster 2",
         "offsetgroup": "Cluster=Cluster 2",
         "orientation": "v",
         "showlegend": true,
         "type": "histogram",
         "x": [
          "Cluster 2"
         ],
         "xaxis": "x",
         "yaxis": "y"
        },
        {
         "alignmentgroup": "True",
         "customdata": [
          [
           38,
           "38.the-turtles-you-showed-me_Org.mp3",
           "38.de-la-soul-transmitting-live-from-mars_Cpy.mp3",
           0.16463817656040192,
           0.1802169382572174,
           0.495401531457901,
           "Cluster 2"
          ]
         ],
         "hoverlabel": {
          "namelength": 0
         },
         "hovertemplate": "Cluster=%{customdata[6]}<br>pair=%{customdata[0]}<br>song_1=%{customdata[1]}<br>song_2=%{customdata[2]}<br>distance=%{customdata[3]}<br>song_1_distance_to_baseline=%{customdata[4]}<br>song_2_distance_to_baseline=%{customdata[5]}",
         "legendgroup": "Cluster=Cluster 2",
         "marker": {
          "color": "#00cc96"
         },
         "name": "Cluster=Cluster 2",
         "notched": true,
         "offsetgroup": "Cluster=Cluster 2",
         "showlegend": false,
         "type": "box",
         "x": [
          "Cluster 2"
         ],
         "xaxis": "x2",
         "yaxis": "y2"
        },
        {
         "alignmentgroup": "True",
         "bingroup": "x",
         "hoverlabel": {
          "namelength": 0
         },
         "hovertemplate": "Cluster=%{x}<br>count=%{y}",
         "legendgroup": "Cluster=Cluster 3",
         "marker": {
          "color": "#ab63fa",
          "opacity": 0.7
         },
         "name": "Cluster=Cluster 3",
         "offsetgroup": "Cluster=Cluster 3",
         "orientation": "v",
         "showlegend": true,
         "type": "histogram",
         "x": [
          "Cluster 3",
          "Cluster 3",
          "Cluster 3"
         ],
         "xaxis": "x",
         "yaxis": "y"
        },
        {
         "alignmentgroup": "True",
         "customdata": [
          [
           44,
           "44.stevie-wonder-uptight-uk-nme-top40-3-02-66_Org.mp3",
           "44.oasis-step-outremastered_Cpy.mp3",
           0.13788425922393802,
           0.4043737053871155,
           0.0784357488155365,
           "Cluster 3"
          ],
          [
           26,
           "26.robert-johnson-stop-breakin-39-down-blues_Org.mp3",
           "26.the-rolling-stones-stop-breaking-down_Cpy.mp3",
           0.13855566084384918,
           0.2054537832736969,
           0.09789371490478516,
           "Cluster 3"
          ],
          [
           27,
           "27.robert-johnson-love-is-vain_Org.mp3",
           "27.the-rolling-stones-love-in-vain_Cpy.mp3",
           0.08475848287343979,
           0.6185824871063232,
           0.10375136882066728,
           "Cluster 3"
          ]
         ],
         "hoverlabel": {
          "namelength": 0
         },
         "hovertemplate": "Cluster=%{customdata[6]}<br>pair=%{customdata[0]}<br>song_1=%{customdata[1]}<br>song_2=%{customdata[2]}<br>distance=%{customdata[3]}<br>song_1_distance_to_baseline=%{customdata[4]}<br>song_2_distance_to_baseline=%{customdata[5]}",
         "legendgroup": "Cluster=Cluster 3",
         "marker": {
          "color": "#ab63fa"
         },
         "name": "Cluster=Cluster 3",
         "notched": true,
         "offsetgroup": "Cluster=Cluster 3",
         "showlegend": false,
         "type": "box",
         "x": [
          "Cluster 3",
          "Cluster 3",
          "Cluster 3"
         ],
         "xaxis": "x2",
         "yaxis": "y2"
        }
       ],
       "layout": {
        "barmode": "relative",
        "legend": {
         "tracegroupgap": 0
        },
        "margin": {
         "t": 60
        },
        "template": {
         "data": {
          "bar": [
           {
            "error_x": {
             "color": "#2a3f5f"
            },
            "error_y": {
             "color": "#2a3f5f"
            },
            "marker": {
             "line": {
              "color": "#E5ECF6",
              "width": 0.5
             }
            },
            "type": "bar"
           }
          ],
          "barpolar": [
           {
            "marker": {
             "line": {
              "color": "#E5ECF6",
              "width": 0.5
             }
            },
            "type": "barpolar"
           }
          ],
          "carpet": [
           {
            "aaxis": {
             "endlinecolor": "#2a3f5f",
             "gridcolor": "white",
             "linecolor": "white",
             "minorgridcolor": "white",
             "startlinecolor": "#2a3f5f"
            },
            "baxis": {
             "endlinecolor": "#2a3f5f",
             "gridcolor": "white",
             "linecolor": "white",
             "minorgridcolor": "white",
             "startlinecolor": "#2a3f5f"
            },
            "type": "carpet"
           }
          ],
          "choropleth": [
           {
            "colorbar": {
             "outlinewidth": 0,
             "ticks": ""
            },
            "type": "choropleth"
           }
          ],
          "contour": [
           {
            "colorbar": {
             "outlinewidth": 0,
             "ticks": ""
            },
            "colorscale": [
             [
              0,
              "#0d0887"
             ],
             [
              0.1111111111111111,
              "#46039f"
             ],
             [
              0.2222222222222222,
              "#7201a8"
             ],
             [
              0.3333333333333333,
              "#9c179e"
             ],
             [
              0.4444444444444444,
              "#bd3786"
             ],
             [
              0.5555555555555556,
              "#d8576b"
             ],
             [
              0.6666666666666666,
              "#ed7953"
             ],
             [
              0.7777777777777778,
              "#fb9f3a"
             ],
             [
              0.8888888888888888,
              "#fdca26"
             ],
             [
              1,
              "#f0f921"
             ]
            ],
            "type": "contour"
           }
          ],
          "contourcarpet": [
           {
            "colorbar": {
             "outlinewidth": 0,
             "ticks": ""
            },
            "type": "contourcarpet"
           }
          ],
          "heatmap": [
           {
            "colorbar": {
             "outlinewidth": 0,
             "ticks": ""
            },
            "colorscale": [
             [
              0,
              "#0d0887"
             ],
             [
              0.1111111111111111,
              "#46039f"
             ],
             [
              0.2222222222222222,
              "#7201a8"
             ],
             [
              0.3333333333333333,
              "#9c179e"
             ],
             [
              0.4444444444444444,
              "#bd3786"
             ],
             [
              0.5555555555555556,
              "#d8576b"
             ],
             [
              0.6666666666666666,
              "#ed7953"
             ],
             [
              0.7777777777777778,
              "#fb9f3a"
             ],
             [
              0.8888888888888888,
              "#fdca26"
             ],
             [
              1,
              "#f0f921"
             ]
            ],
            "type": "heatmap"
           }
          ],
          "heatmapgl": [
           {
            "colorbar": {
             "outlinewidth": 0,
             "ticks": ""
            },
            "colorscale": [
             [
              0,
              "#0d0887"
             ],
             [
              0.1111111111111111,
              "#46039f"
             ],
             [
              0.2222222222222222,
              "#7201a8"
             ],
             [
              0.3333333333333333,
              "#9c179e"
             ],
             [
              0.4444444444444444,
              "#bd3786"
             ],
             [
              0.5555555555555556,
              "#d8576b"
             ],
             [
              0.6666666666666666,
              "#ed7953"
             ],
             [
              0.7777777777777778,
              "#fb9f3a"
             ],
             [
              0.8888888888888888,
              "#fdca26"
             ],
             [
              1,
              "#f0f921"
             ]
            ],
            "type": "heatmapgl"
           }
          ],
          "histogram": [
           {
            "marker": {
             "colorbar": {
              "outlinewidth": 0,
              "ticks": ""
             }
            },
            "type": "histogram"
           }
          ],
          "histogram2d": [
           {
            "colorbar": {
             "outlinewidth": 0,
             "ticks": ""
            },
            "colorscale": [
             [
              0,
              "#0d0887"
             ],
             [
              0.1111111111111111,
              "#46039f"
             ],
             [
              0.2222222222222222,
              "#7201a8"
             ],
             [
              0.3333333333333333,
              "#9c179e"
             ],
             [
              0.4444444444444444,
              "#bd3786"
             ],
             [
              0.5555555555555556,
              "#d8576b"
             ],
             [
              0.6666666666666666,
              "#ed7953"
             ],
             [
              0.7777777777777778,
              "#fb9f3a"
             ],
             [
              0.8888888888888888,
              "#fdca26"
             ],
             [
              1,
              "#f0f921"
             ]
            ],
            "type": "histogram2d"
           }
          ],
          "histogram2dcontour": [
           {
            "colorbar": {
             "outlinewidth": 0,
             "ticks": ""
            },
            "colorscale": [
             [
              0,
              "#0d0887"
             ],
             [
              0.1111111111111111,
              "#46039f"
             ],
             [
              0.2222222222222222,
              "#7201a8"
             ],
             [
              0.3333333333333333,
              "#9c179e"
             ],
             [
              0.4444444444444444,
              "#bd3786"
             ],
             [
              0.5555555555555556,
              "#d8576b"
             ],
             [
              0.6666666666666666,
              "#ed7953"
             ],
             [
              0.7777777777777778,
              "#fb9f3a"
             ],
             [
              0.8888888888888888,
              "#fdca26"
             ],
             [
              1,
              "#f0f921"
             ]
            ],
            "type": "histogram2dcontour"
           }
          ],
          "mesh3d": [
           {
            "colorbar": {
             "outlinewidth": 0,
             "ticks": ""
            },
            "type": "mesh3d"
           }
          ],
          "parcoords": [
           {
            "line": {
             "colorbar": {
              "outlinewidth": 0,
              "ticks": ""
             }
            },
            "type": "parcoords"
           }
          ],
          "pie": [
           {
            "automargin": true,
            "type": "pie"
           }
          ],
          "scatter": [
           {
            "marker": {
             "colorbar": {
              "outlinewidth": 0,
              "ticks": ""
             }
            },
            "type": "scatter"
           }
          ],
          "scatter3d": [
           {
            "line": {
             "colorbar": {
              "outlinewidth": 0,
              "ticks": ""
             }
            },
            "marker": {
             "colorbar": {
              "outlinewidth": 0,
              "ticks": ""
             }
            },
            "type": "scatter3d"
           }
          ],
          "scattercarpet": [
           {
            "marker": {
             "colorbar": {
              "outlinewidth": 0,
              "ticks": ""
             }
            },
            "type": "scattercarpet"
           }
          ],
          "scattergeo": [
           {
            "marker": {
             "colorbar": {
              "outlinewidth": 0,
              "ticks": ""
             }
            },
            "type": "scattergeo"
           }
          ],
          "scattergl": [
           {
            "marker": {
             "colorbar": {
              "outlinewidth": 0,
              "ticks": ""
             }
            },
            "type": "scattergl"
           }
          ],
          "scattermapbox": [
           {
            "marker": {
             "colorbar": {
              "outlinewidth": 0,
              "ticks": ""
             }
            },
            "type": "scattermapbox"
           }
          ],
          "scatterpolar": [
           {
            "marker": {
             "colorbar": {
              "outlinewidth": 0,
              "ticks": ""
             }
            },
            "type": "scatterpolar"
           }
          ],
          "scatterpolargl": [
           {
            "marker": {
             "colorbar": {
              "outlinewidth": 0,
              "ticks": ""
             }
            },
            "type": "scatterpolargl"
           }
          ],
          "scatterternary": [
           {
            "marker": {
             "colorbar": {
              "outlinewidth": 0,
              "ticks": ""
             }
            },
            "type": "scatterternary"
           }
          ],
          "surface": [
           {
            "colorbar": {
             "outlinewidth": 0,
             "ticks": ""
            },
            "colorscale": [
             [
              0,
              "#0d0887"
             ],
             [
              0.1111111111111111,
              "#46039f"
             ],
             [
              0.2222222222222222,
              "#7201a8"
             ],
             [
              0.3333333333333333,
              "#9c179e"
             ],
             [
              0.4444444444444444,
              "#bd3786"
             ],
             [
              0.5555555555555556,
              "#d8576b"
             ],
             [
              0.6666666666666666,
              "#ed7953"
             ],
             [
              0.7777777777777778,
              "#fb9f3a"
             ],
             [
              0.8888888888888888,
              "#fdca26"
             ],
             [
              1,
              "#f0f921"
             ]
            ],
            "type": "surface"
           }
          ],
          "table": [
           {
            "cells": {
             "fill": {
              "color": "#EBF0F8"
             },
             "line": {
              "color": "white"
             }
            },
            "header": {
             "fill": {
              "color": "#C8D4E3"
             },
             "line": {
              "color": "white"
             }
            },
            "type": "table"
           }
          ]
         },
         "layout": {
          "annotationdefaults": {
           "arrowcolor": "#2a3f5f",
           "arrowhead": 0,
           "arrowwidth": 1
          },
          "coloraxis": {
           "colorbar": {
            "outlinewidth": 0,
            "ticks": ""
           }
          },
          "colorscale": {
           "diverging": [
            [
             0,
             "#8e0152"
            ],
            [
             0.1,
             "#c51b7d"
            ],
            [
             0.2,
             "#de77ae"
            ],
            [
             0.3,
             "#f1b6da"
            ],
            [
             0.4,
             "#fde0ef"
            ],
            [
             0.5,
             "#f7f7f7"
            ],
            [
             0.6,
             "#e6f5d0"
            ],
            [
             0.7,
             "#b8e186"
            ],
            [
             0.8,
             "#7fbc41"
            ],
            [
             0.9,
             "#4d9221"
            ],
            [
             1,
             "#276419"
            ]
           ],
           "sequential": [
            [
             0,
             "#0d0887"
            ],
            [
             0.1111111111111111,
             "#46039f"
            ],
            [
             0.2222222222222222,
             "#7201a8"
            ],
            [
             0.3333333333333333,
             "#9c179e"
            ],
            [
             0.4444444444444444,
             "#bd3786"
            ],
            [
             0.5555555555555556,
             "#d8576b"
            ],
            [
             0.6666666666666666,
             "#ed7953"
            ],
            [
             0.7777777777777778,
             "#fb9f3a"
            ],
            [
             0.8888888888888888,
             "#fdca26"
            ],
            [
             1,
             "#f0f921"
            ]
           ],
           "sequentialminus": [
            [
             0,
             "#0d0887"
            ],
            [
             0.1111111111111111,
             "#46039f"
            ],
            [
             0.2222222222222222,
             "#7201a8"
            ],
            [
             0.3333333333333333,
             "#9c179e"
            ],
            [
             0.4444444444444444,
             "#bd3786"
            ],
            [
             0.5555555555555556,
             "#d8576b"
            ],
            [
             0.6666666666666666,
             "#ed7953"
            ],
            [
             0.7777777777777778,
             "#fb9f3a"
            ],
            [
             0.8888888888888888,
             "#fdca26"
            ],
            [
             1,
             "#f0f921"
            ]
           ]
          },
          "colorway": [
           "#636efa",
           "#EF553B",
           "#00cc96",
           "#ab63fa",
           "#FFA15A",
           "#19d3f3",
           "#FF6692",
           "#B6E880",
           "#FF97FF",
           "#FECB52"
          ],
          "font": {
           "color": "#2a3f5f"
          },
          "geo": {
           "bgcolor": "white",
           "lakecolor": "white",
           "landcolor": "#E5ECF6",
           "showlakes": true,
           "showland": true,
           "subunitcolor": "white"
          },
          "hoverlabel": {
           "align": "left"
          },
          "hovermode": "closest",
          "mapbox": {
           "style": "light"
          },
          "paper_bgcolor": "white",
          "plot_bgcolor": "#E5ECF6",
          "polar": {
           "angularaxis": {
            "gridcolor": "white",
            "linecolor": "white",
            "ticks": ""
           },
           "bgcolor": "#E5ECF6",
           "radialaxis": {
            "gridcolor": "white",
            "linecolor": "white",
            "ticks": ""
           }
          },
          "scene": {
           "xaxis": {
            "backgroundcolor": "#E5ECF6",
            "gridcolor": "white",
            "gridwidth": 2,
            "linecolor": "white",
            "showbackground": true,
            "ticks": "",
            "zerolinecolor": "white"
           },
           "yaxis": {
            "backgroundcolor": "#E5ECF6",
            "gridcolor": "white",
            "gridwidth": 2,
            "linecolor": "white",
            "showbackground": true,
            "ticks": "",
            "zerolinecolor": "white"
           },
           "zaxis": {
            "backgroundcolor": "#E5ECF6",
            "gridcolor": "white",
            "gridwidth": 2,
            "linecolor": "white",
            "showbackground": true,
            "ticks": "",
            "zerolinecolor": "white"
           }
          },
          "shapedefaults": {
           "line": {
            "color": "#2a3f5f"
           }
          },
          "ternary": {
           "aaxis": {
            "gridcolor": "white",
            "linecolor": "white",
            "ticks": ""
           },
           "baxis": {
            "gridcolor": "white",
            "linecolor": "white",
            "ticks": ""
           },
           "bgcolor": "#E5ECF6",
           "caxis": {
            "gridcolor": "white",
            "linecolor": "white",
            "ticks": ""
           }
          },
          "title": {
           "x": 0.05
          },
          "xaxis": {
           "automargin": true,
           "gridcolor": "white",
           "linecolor": "white",
           "ticks": "",
           "title": {
            "standoff": 15
           },
           "zerolinecolor": "white",
           "zerolinewidth": 2
          },
          "yaxis": {
           "automargin": true,
           "gridcolor": "white",
           "linecolor": "white",
           "ticks": "",
           "title": {
            "standoff": 15
           },
           "zerolinecolor": "white",
           "zerolinewidth": 2
          }
         }
        },
        "xaxis": {
         "anchor": "y",
         "categoryarray": [
          "Cluster 0",
          "Cluster 1",
          "Cluster 2",
          "Cluster 3"
         ],
         "categoryorder": "array",
         "domain": [
          0,
          1
         ],
         "title": {
          "text": "Cluster"
         }
        },
        "xaxis2": {
         "anchor": "y2",
         "domain": [
          0,
          1
         ],
         "matches": "x",
         "showgrid": true,
         "showticklabels": false
        },
        "yaxis": {
         "anchor": "x",
         "domain": [
          0,
          0.7326
         ],
         "title": {
          "text": "count"
         }
        },
        "yaxis2": {
         "anchor": "x2",
         "domain": [
          0.7426,
          1
         ],
         "matches": "y2",
         "showgrid": false,
         "showline": false,
         "showticklabels": false,
         "ticks": ""
        }
       }
      },
      "text/html": [
       "<div>\n",
       "        \n",
       "        \n",
       "            <div id=\"e484cf48-5fc3-40b1-ad22-af9abcb95789\" class=\"plotly-graph-div\" style=\"height:525px; width:100%;\"></div>\n",
       "            <script type=\"text/javascript\">\n",
       "                require([\"plotly\"], function(Plotly) {\n",
       "                    window.PLOTLYENV=window.PLOTLYENV || {};\n",
       "                    \n",
       "                if (document.getElementById(\"e484cf48-5fc3-40b1-ad22-af9abcb95789\")) {\n",
       "                    Plotly.newPlot(\n",
       "                        'e484cf48-5fc3-40b1-ad22-af9abcb95789',\n",
       "                        [{\"alignmentgroup\": \"True\", \"bingroup\": \"x\", \"hoverlabel\": {\"namelength\": 0}, \"hovertemplate\": \"Cluster=%{x}<br>count=%{y}\", \"legendgroup\": \"Cluster=Cluster 0\", \"marker\": {\"color\": \"#636efa\", \"opacity\": 0.7}, \"name\": \"Cluster=Cluster 0\", \"offsetgroup\": \"Cluster=Cluster 0\", \"orientation\": \"v\", \"showlegend\": true, \"type\": \"histogram\", \"x\": [\"Cluster 0\", \"Cluster 0\", \"Cluster 0\", \"Cluster 0\", \"Cluster 0\", \"Cluster 0\", \"Cluster 0\", \"Cluster 0\", \"Cluster 0\", \"Cluster 0\", \"Cluster 0\", \"Cluster 0\", \"Cluster 0\", \"Cluster 0\", \"Cluster 0\", \"Cluster 0\", \"Cluster 0\", \"Cluster 0\", \"Cluster 0\", \"Cluster 0\", \"Cluster 0\", \"Cluster 0\"], \"xaxis\": \"x\", \"yaxis\": \"y\"}, {\"alignmentgroup\": \"True\", \"customdata\": [[32, \"32.the-doors-hello-i-love-you_Cpy.mp3\", \"32.the-kinks-all-day-and-all-of-the-night_Org.mp3\", 0.050700977444648736, 0.2434845864772797, 0.2192294150590897, \"Cluster 0\"], [35, \"35.huey-lewis-the-news-i-want-a-new-drug_Org.mp3\", \"35.ray-parker-jr-ghostbusters_Cpy.mp3\", 0.037237104028463364, 0.12174229323863985, 0.11241430044174194, \"Cluster 0\"], [31, \"31.glen-miller-in-the-mood_Org.mp3\", \"31.the-beatles-all-you-need-is-love__Cpy.mp3\", 0.047405563294887536, 0.10012052208185196, 0.08982555568218231, \"Cluster 0\"], [30, \"30.des-39-ree-feel-so-high_Org.mp3\", \"30.janet-jackson-got-til-its-gone_Cpy.mp3\", 0.0410572849214077, 0.10136204957962036, 0.13260458409786224, \"Cluster 0\"], [29, \"29.the-rolling-stones-the-last-time_Org.mp3\", \"29.the-verve-bitter-sweet_Cpy.mp3\", 0.06486313790082933, 0.09236299991607666, 0.1282934546470642, \"Cluster 0\"], [28, \"28.kraftwerk-metal-on-metal_Org.mp3\", \"28.sabrina-setlur-nur-mir-1997_Cpy.mp3\", 0.051568269729614265, 0.050658591091632836, 0.07578659057617188, \"Cluster 0\"], [36, \"36.led-zeppelin-whole-lotta-love_Cpy.mp3\", \"36.muddy-waters-you-need-love_Org.mp3\", 0.047917265444993966, 0.08559293299913406, 0.10328317433595656, \"Cluster 0\"], [37, \"37.am-harris-sugar-don-39-t-bite_Org.mp3\", \"37.creedence-clearwater-revival-run-through-the-jungle_Org.mp3\", 0.06213817372918129, 0.10615747421979904, 0.1495918333530426, \"Cluster 0\"], [25, \"25.eminem-kill-you_Cpy.mp3\", \"25.jacques-loussier-pulsion_Org.mp3\", 0.029213577508926388, 0.11330471187829973, 0.1700412482023239, \"Cluster 0\"], [24, \"24.cat-stevens-father-and-son_Org.mp3\", \"24.the-flaming-lips-fight-test_Cpy.mp3\", 0.03764323890209198, 0.1056673675775528, 0.1857755780220032, \"Cluster 0\"], [37, \"37.am-harris-sugar-don-39-t-bite_Org.mp3\", \"37.madonna-papa-dont-preach_Cpy.mp3\", 0.03800179809331894, 0.10615747421979904, 0.08729042857885361, \"Cluster 0\"], [37, \"37.john-fogerty-the-old-man-down-the-road_Org.mp3\", \"37.am-harris-sugar-don-39-t-bite_Org.mp3\", 0.060738734900951385, 0.14978763461112976, 0.10615747421979904, \"Cluster 0\"], [33, \"33.chuck-berry-you-cant-catch-me_Org.mp3\", \"33.the-beatles-come-together_Cpy.mp3\", 0.06435468047857285, 0.09739383310079576, 0.1434057056903839, \"Cluster 0\"], [39, \"39.steve-winwood-roll-with-it_Cpy.mp3\", \"39.jr-walker-amp-the-all-stars-i-39-m-a-roadrunner_Org.mp3\", 0.0511666052043438, 0.11653539538383485, 0.12465986609458925, \"Cluster 0\"], [40, \"40.queen-under-pressure-queen-david-bowie_Cpy.mp3\", \"40.ice-ice-baby-vanilla-ice_Cpy.mp3\", 0.05661027878522872, 0.12046079337596892, 0.08414541184902191, \"Cluster 0\"], [41, \"41.creep-radiohead_Cpy.mp3\", \"41.albert-hammond-the-air-that-i-breathe_Org.mp3\", 0.07246924936771393, 0.17131400108337402, 0.14541010558605194, \"Cluster 0\"], [42, \"42.oasis-whatever_Cpy.mp3\", \"42.neil-innes-how-sweet-to-be-an-idiot_Org.mp3\", 0.049104444682598114, 0.1015419289469719, 0.1480436623096466, \"Cluster 0\"], [43, \"43.the-isley-brothers-love-is-a-wonderful-thing_Org.mp3\", \"43.michael-bolton-love-is-a-wonderful-thing_Cpy.mp3\", 0.07376223057508469, 0.14269046485424042, 0.14785239100456238, \"Cluster 0\"], [45, \"45.the-new-seekers-i-39-d-like-to-teach-the-world-to-sing-in-perfect-harmony_Cpy.mp3\", \"45.oasis-shakermaker_Cpy.mp3\", 0.07986341416835785, 0.15719471871852875, 0.07518906146287918, \"Cluster 0\"], [46, \"46.the-police-every-breath-you-take_Org.mp3\", \"46.p-diddy-ill-be-missing-you-p-diddy-ill-be-missing-yo_Cpy.mp3\", 0.03533896431326866, 0.08809681236743927, 0.1072518825531006, \"Cluster 0\"], [47, \"47.the-rolling-stones-anybody-seen-my-baby_Cpy.mp3\", \"47.kd-lang-constant-craving_Org.mp3\", 0.039094612002372735, 0.10291165113449097, 0.19629117846488955, \"Cluster 0\"], [34, \"34.howlin-wolf-killing-floor_Org.mp3\", \"34.led-zeppelin-the-lemon-song_Cpy.mp3\", 0.07036525011062622, 0.11618046462535858, 0.14633984863758087, \"Cluster 0\"]], \"hoverlabel\": {\"namelength\": 0}, \"hovertemplate\": \"Cluster=%{customdata[6]}<br>pair=%{customdata[0]}<br>song_1=%{customdata[1]}<br>song_2=%{customdata[2]}<br>distance=%{customdata[3]}<br>song_1_distance_to_baseline=%{customdata[4]}<br>song_2_distance_to_baseline=%{customdata[5]}\", \"legendgroup\": \"Cluster=Cluster 0\", \"marker\": {\"color\": \"#636efa\"}, \"name\": \"Cluster=Cluster 0\", \"notched\": true, \"offsetgroup\": \"Cluster=Cluster 0\", \"showlegend\": false, \"type\": \"box\", \"x\": [\"Cluster 0\", \"Cluster 0\", \"Cluster 0\", \"Cluster 0\", \"Cluster 0\", \"Cluster 0\", \"Cluster 0\", \"Cluster 0\", \"Cluster 0\", \"Cluster 0\", \"Cluster 0\", \"Cluster 0\", \"Cluster 0\", \"Cluster 0\", \"Cluster 0\", \"Cluster 0\", \"Cluster 0\", \"Cluster 0\", \"Cluster 0\", \"Cluster 0\", \"Cluster 0\", \"Cluster 0\"], \"xaxis\": \"x2\", \"yaxis\": \"y2\"}, {\"alignmentgroup\": \"True\", \"bingroup\": \"x\", \"hoverlabel\": {\"namelength\": 0}, \"hovertemplate\": \"Cluster=%{x}<br>count=%{y}\", \"legendgroup\": \"Cluster=Cluster 1\", \"marker\": {\"color\": \"#EF553B\", \"opacity\": 0.7}, \"name\": \"Cluster=Cluster 1\", \"offsetgroup\": \"Cluster=Cluster 1\", \"orientation\": \"v\", \"showlegend\": true, \"type\": \"histogram\", \"x\": [\"Cluster 1\", \"Cluster 1\", \"Cluster 1\", \"Cluster 1\", \"Cluster 1\", \"Cluster 1\", \"Cluster 1\", \"Cluster 1\", \"Cluster 1\", \"Cluster 1\", \"Cluster 1\", \"Cluster 1\", \"Cluster 1\", \"Cluster 1\", \"Cluster 1\", \"Cluster 1\", \"Cluster 1\", \"Cluster 1\", \"Cluster 1\", \"Cluster 1\", \"Cluster 1\", \"Cluster 1\", \"Cluster 1\"], \"xaxis\": \"x\", \"yaxis\": \"y\"}, {\"alignmentgroup\": \"True\", \"customdata\": [[5, \"5.jasmine-rae-when-i-found-you_Org.mp3\", \"5.faith-hill-tim-mcgraw-the-rest-of-our-life_Cpy.mp3\", 0.03957809135317802, 0.16442206501960754, 0.11749256402254105, \"Cluster 1\"], [6, \"6.the-white-stripers-seven-nation-army_Org.mp3\", \"6.netta-toy-toy_Cpy.mp3\", 0.051335178315639496, 0.09689903259277344, 0.16232305765151978, \"Cluster 1\"], [7, \"7.tlc-no-scrubs_Org.mp3\", \"7.shape-of-you-ed-sheeran_Cpy.mp3\", 0.03610996901988983, 0.09039317071437836, 0.1117556244134903, \"Cluster 1\"], [8, \"8.matt-cardle-amazing_Org.mp3\", \"8.ed-sheeran-photograph-photograph_Cpy.mp3\", 0.04043122753500938, 0.12743625044822693, 0.1354292929172516, \"Cluster 1\"], [4, \"4.thinking-out-loud-ed-sheeran_Cpy.mp3\", \"4.marvin-gaye-let-s-get-it-on-marvin-gaye_Org.mp3\", 0.03446970134973526, 0.11056788265705107, 0.08968476206064224, \"Cluster 1\"], [1, \"1.Juice WRLD - Lucid Dreams_Cpy.mp3\", \"1.yellowcard-holly-wood-died_Org.mp3\", 0.049629110842943185, 0.11035463213920592, 0.08559293299913406, \"Cluster 1\"], [17, \"17.guns-n-39-roses-riad-n-39-the-bedouins_Cpy.mp3\", \"17.ulrich-schnauss-wherever-you-are_Org.mp3\", 0.07269168645143509, 0.08905661851167679, 0.08098921179771422, \"Cluster 1\"], [10, \"10.bruno-mars-uptown-funk_Cpy.mp3\", \"10.the-gap-band-oops-up-side-your-head_Org.mp3\", 0.043612908571958535, 0.0977265238761902, 0.10254279524087906, \"Cluster 1\"], [11, \"11.drake-who-do-you-love-feat_Cpy.mp3\", \"11.rappin-4-tay-playaz-club_Org.mp3\", 0.04429658502340317, 0.10190360993146896, 0.06569331884384155, \"Cluster 1\"], [12, \"12.the-doors-hello-i-love-you_Cpy.mp3\", \"12.the-kinks-all-day-and-all-of-the-night_Org.mp3\", 0.05203891545534134, 0.17908881604671478, 0.13353297114372253, \"Cluster 1\"], [13, \"13.marvin-gaye-got-to-give-it-up_Org.mp3\", \"13.robin-thick-blurred-lines_Cpy.mp3\", null, null, 0.11773432046175004, \"Cluster 1\"], [14, \"14.breakbot-baby-i-m-yours_Org.mp3\", \"14.bruno-mars-treasure_Cpy.mp3\", 0.03754057362675667, 0.10384551435709, 0.1563357263803482, \"Cluster 1\"], [15, \"15.jake-holmes-dazed-and-confused_Org.mp3\", \"15.led-zeppelin-1969-i-dazed-and-confused_Cpy.mp3\", 0.05029534175992012, 0.181072399020195, 0.07469827681779861, \"Cluster 1\"], [16, \"16.calvin-harris-calvin-harris-im-not-alone_Org.mp3\", \"16.chris-brown-yeah-3x_Cpy.mp3\", null, 0.12974801659584045, null, \"Cluster 1\"], [9, \"9.spirit-taurus_Org.mp3\", \"9.led-zeppeling-stairway-to-heaven_Cpy.mp3\", 0.09351640194654463, 0.17444780468940735, 0.06569331884384155, \"Cluster 1\"], [0, \"9.spirit-taurus_Org.mp3\", \"9.led-zeppeling-stairway-to-heaven_Cpy.mp3\", 0.014842770062386991, 0.014842770062386991, 0.014842770062386991, \"Cluster 1\"], [19, \"19.adam-freeland-mancry_Org.mp3\", \"19.the-black-eyed-peas-party-all-the-time_Cpy.mp3\", 0.04069327563047409, 0.2642904222011566, 0.20508559048175806, \"Cluster 1\"], [2, \"2.lana-del-rey-get-free_Cpy.mp3\", \"2.radioheard-creep_Org.mp3\", 0.032622843980789185, 0.1416308879852295, 0.1099306046962738, \"Cluster 1\"], [20, \"20.avril-lavin-girlfriend_Cpy.mp3\", \"20.the-rubinoos-i-wanna-be-your-boyfriend_Org.mp3\", 0.04630039632320404, 0.09831422567367554, 0.13989946246147156, \"Cluster 1\"], [21, \"21.jorge-ben-taj-mahal_Org.mp3\", \"21.rod-stewart-da-ya-think-i-m-sexy_Cpy.mp3\", 0.04103261977434158, 0.07881388068199158, 0.10806209594011308, \"Cluster 1\"], [22, \"22.eddy-and-danny-van-passel-if-we-can-start-all-over_Org.mp3\", \"22.michael-jackson-you-are-not-alone_Cpy.mp3\", 0.0720611959695816, 0.22264154255390167, 0.09410999715328217, \"Cluster 1\"], [23, \"23.jamie-rivera-my-life-is-in-your-hands_Cpy.mp3\", \"23.kathy-troccoli-my-life-is-in-your-hands_Org.mp3\", 0.02434083446860313, 0.09147702157497406, 0.08749064058065414, \"Cluster 1\"], [18, \"18.coldplay-viva-la-vida_Cpy.mp3\", \"18.joe-satriani-if-i-could-fly_Org.mp3\", 0.055674541741609566, 0.12135498970746995, 0.09528539329767227, \"Cluster 1\"]], \"hoverlabel\": {\"namelength\": 0}, \"hovertemplate\": \"Cluster=%{customdata[6]}<br>pair=%{customdata[0]}<br>song_1=%{customdata[1]}<br>song_2=%{customdata[2]}<br>distance=%{customdata[3]}<br>song_1_distance_to_baseline=%{customdata[4]}<br>song_2_distance_to_baseline=%{customdata[5]}\", \"legendgroup\": \"Cluster=Cluster 1\", \"marker\": {\"color\": \"#EF553B\"}, \"name\": \"Cluster=Cluster 1\", \"notched\": true, \"offsetgroup\": \"Cluster=Cluster 1\", \"showlegend\": false, \"type\": \"box\", \"x\": [\"Cluster 1\", \"Cluster 1\", \"Cluster 1\", \"Cluster 1\", \"Cluster 1\", \"Cluster 1\", \"Cluster 1\", \"Cluster 1\", \"Cluster 1\", \"Cluster 1\", \"Cluster 1\", \"Cluster 1\", \"Cluster 1\", \"Cluster 1\", \"Cluster 1\", \"Cluster 1\", \"Cluster 1\", \"Cluster 1\", \"Cluster 1\", \"Cluster 1\", \"Cluster 1\", \"Cluster 1\", \"Cluster 1\"], \"xaxis\": \"x2\", \"yaxis\": \"y2\"}, {\"alignmentgroup\": \"True\", \"bingroup\": \"x\", \"hoverlabel\": {\"namelength\": 0}, \"hovertemplate\": \"Cluster=%{x}<br>count=%{y}\", \"legendgroup\": \"Cluster=Cluster 2\", \"marker\": {\"color\": \"#00cc96\", \"opacity\": 0.7}, \"name\": \"Cluster=Cluster 2\", \"offsetgroup\": \"Cluster=Cluster 2\", \"orientation\": \"v\", \"showlegend\": true, \"type\": \"histogram\", \"x\": [\"Cluster 2\"], \"xaxis\": \"x\", \"yaxis\": \"y\"}, {\"alignmentgroup\": \"True\", \"customdata\": [[38, \"38.the-turtles-you-showed-me_Org.mp3\", \"38.de-la-soul-transmitting-live-from-mars_Cpy.mp3\", 0.16463817656040192, 0.1802169382572174, 0.495401531457901, \"Cluster 2\"]], \"hoverlabel\": {\"namelength\": 0}, \"hovertemplate\": \"Cluster=%{customdata[6]}<br>pair=%{customdata[0]}<br>song_1=%{customdata[1]}<br>song_2=%{customdata[2]}<br>distance=%{customdata[3]}<br>song_1_distance_to_baseline=%{customdata[4]}<br>song_2_distance_to_baseline=%{customdata[5]}\", \"legendgroup\": \"Cluster=Cluster 2\", \"marker\": {\"color\": \"#00cc96\"}, \"name\": \"Cluster=Cluster 2\", \"notched\": true, \"offsetgroup\": \"Cluster=Cluster 2\", \"showlegend\": false, \"type\": \"box\", \"x\": [\"Cluster 2\"], \"xaxis\": \"x2\", \"yaxis\": \"y2\"}, {\"alignmentgroup\": \"True\", \"bingroup\": \"x\", \"hoverlabel\": {\"namelength\": 0}, \"hovertemplate\": \"Cluster=%{x}<br>count=%{y}\", \"legendgroup\": \"Cluster=Cluster 3\", \"marker\": {\"color\": \"#ab63fa\", \"opacity\": 0.7}, \"name\": \"Cluster=Cluster 3\", \"offsetgroup\": \"Cluster=Cluster 3\", \"orientation\": \"v\", \"showlegend\": true, \"type\": \"histogram\", \"x\": [\"Cluster 3\", \"Cluster 3\", \"Cluster 3\"], \"xaxis\": \"x\", \"yaxis\": \"y\"}, {\"alignmentgroup\": \"True\", \"customdata\": [[44, \"44.stevie-wonder-uptight-uk-nme-top40-3-02-66_Org.mp3\", \"44.oasis-step-outremastered_Cpy.mp3\", 0.13788425922393802, 0.4043737053871155, 0.0784357488155365, \"Cluster 3\"], [26, \"26.robert-johnson-stop-breakin-39-down-blues_Org.mp3\", \"26.the-rolling-stones-stop-breaking-down_Cpy.mp3\", 0.13855566084384918, 0.2054537832736969, 0.09789371490478516, \"Cluster 3\"], [27, \"27.robert-johnson-love-is-vain_Org.mp3\", \"27.the-rolling-stones-love-in-vain_Cpy.mp3\", 0.08475848287343979, 0.6185824871063232, 0.10375136882066728, \"Cluster 3\"]], \"hoverlabel\": {\"namelength\": 0}, \"hovertemplate\": \"Cluster=%{customdata[6]}<br>pair=%{customdata[0]}<br>song_1=%{customdata[1]}<br>song_2=%{customdata[2]}<br>distance=%{customdata[3]}<br>song_1_distance_to_baseline=%{customdata[4]}<br>song_2_distance_to_baseline=%{customdata[5]}\", \"legendgroup\": \"Cluster=Cluster 3\", \"marker\": {\"color\": \"#ab63fa\"}, \"name\": \"Cluster=Cluster 3\", \"notched\": true, \"offsetgroup\": \"Cluster=Cluster 3\", \"showlegend\": false, \"type\": \"box\", \"x\": [\"Cluster 3\", \"Cluster 3\", \"Cluster 3\"], \"xaxis\": \"x2\", \"yaxis\": \"y2\"}],\n",
       "                        {\"barmode\": \"relative\", \"legend\": {\"tracegroupgap\": 0}, \"margin\": {\"t\": 60}, \"template\": {\"data\": {\"bar\": [{\"error_x\": {\"color\": \"#2a3f5f\"}, \"error_y\": {\"color\": \"#2a3f5f\"}, \"marker\": {\"line\": {\"color\": \"#E5ECF6\", \"width\": 0.5}}, \"type\": \"bar\"}], \"barpolar\": [{\"marker\": {\"line\": {\"color\": \"#E5ECF6\", \"width\": 0.5}}, \"type\": \"barpolar\"}], \"carpet\": [{\"aaxis\": {\"endlinecolor\": \"#2a3f5f\", \"gridcolor\": \"white\", \"linecolor\": \"white\", \"minorgridcolor\": \"white\", \"startlinecolor\": \"#2a3f5f\"}, \"baxis\": {\"endlinecolor\": \"#2a3f5f\", \"gridcolor\": \"white\", \"linecolor\": \"white\", \"minorgridcolor\": \"white\", \"startlinecolor\": \"#2a3f5f\"}, \"type\": \"carpet\"}], \"choropleth\": [{\"colorbar\": {\"outlinewidth\": 0, \"ticks\": \"\"}, \"type\": \"choropleth\"}], \"contour\": [{\"colorbar\": {\"outlinewidth\": 0, \"ticks\": \"\"}, \"colorscale\": [[0.0, \"#0d0887\"], [0.1111111111111111, \"#46039f\"], [0.2222222222222222, \"#7201a8\"], [0.3333333333333333, \"#9c179e\"], [0.4444444444444444, \"#bd3786\"], [0.5555555555555556, \"#d8576b\"], [0.6666666666666666, \"#ed7953\"], [0.7777777777777778, \"#fb9f3a\"], [0.8888888888888888, \"#fdca26\"], [1.0, \"#f0f921\"]], \"type\": \"contour\"}], \"contourcarpet\": [{\"colorbar\": {\"outlinewidth\": 0, \"ticks\": \"\"}, \"type\": \"contourcarpet\"}], \"heatmap\": [{\"colorbar\": {\"outlinewidth\": 0, \"ticks\": \"\"}, \"colorscale\": [[0.0, \"#0d0887\"], [0.1111111111111111, \"#46039f\"], [0.2222222222222222, \"#7201a8\"], [0.3333333333333333, \"#9c179e\"], [0.4444444444444444, \"#bd3786\"], [0.5555555555555556, \"#d8576b\"], [0.6666666666666666, \"#ed7953\"], [0.7777777777777778, \"#fb9f3a\"], [0.8888888888888888, \"#fdca26\"], [1.0, \"#f0f921\"]], \"type\": \"heatmap\"}], \"heatmapgl\": [{\"colorbar\": {\"outlinewidth\": 0, \"ticks\": \"\"}, \"colorscale\": [[0.0, \"#0d0887\"], [0.1111111111111111, \"#46039f\"], [0.2222222222222222, \"#7201a8\"], [0.3333333333333333, \"#9c179e\"], [0.4444444444444444, \"#bd3786\"], [0.5555555555555556, \"#d8576b\"], [0.6666666666666666, \"#ed7953\"], [0.7777777777777778, \"#fb9f3a\"], [0.8888888888888888, \"#fdca26\"], [1.0, \"#f0f921\"]], \"type\": \"heatmapgl\"}], \"histogram\": [{\"marker\": {\"colorbar\": {\"outlinewidth\": 0, \"ticks\": \"\"}}, \"type\": \"histogram\"}], \"histogram2d\": [{\"colorbar\": {\"outlinewidth\": 0, \"ticks\": \"\"}, \"colorscale\": [[0.0, \"#0d0887\"], [0.1111111111111111, \"#46039f\"], [0.2222222222222222, \"#7201a8\"], [0.3333333333333333, \"#9c179e\"], [0.4444444444444444, \"#bd3786\"], [0.5555555555555556, \"#d8576b\"], [0.6666666666666666, \"#ed7953\"], [0.7777777777777778, \"#fb9f3a\"], [0.8888888888888888, \"#fdca26\"], [1.0, \"#f0f921\"]], \"type\": \"histogram2d\"}], \"histogram2dcontour\": [{\"colorbar\": {\"outlinewidth\": 0, \"ticks\": \"\"}, \"colorscale\": [[0.0, \"#0d0887\"], [0.1111111111111111, \"#46039f\"], [0.2222222222222222, \"#7201a8\"], [0.3333333333333333, \"#9c179e\"], [0.4444444444444444, \"#bd3786\"], [0.5555555555555556, \"#d8576b\"], [0.6666666666666666, \"#ed7953\"], [0.7777777777777778, \"#fb9f3a\"], [0.8888888888888888, \"#fdca26\"], [1.0, \"#f0f921\"]], \"type\": \"histogram2dcontour\"}], \"mesh3d\": [{\"colorbar\": {\"outlinewidth\": 0, \"ticks\": \"\"}, \"type\": \"mesh3d\"}], \"parcoords\": [{\"line\": {\"colorbar\": {\"outlinewidth\": 0, \"ticks\": \"\"}}, \"type\": \"parcoords\"}], \"pie\": [{\"automargin\": true, \"type\": \"pie\"}], \"scatter\": [{\"marker\": {\"colorbar\": {\"outlinewidth\": 0, \"ticks\": \"\"}}, \"type\": \"scatter\"}], \"scatter3d\": [{\"line\": {\"colorbar\": {\"outlinewidth\": 0, \"ticks\": \"\"}}, \"marker\": {\"colorbar\": {\"outlinewidth\": 0, \"ticks\": \"\"}}, \"type\": \"scatter3d\"}], \"scattercarpet\": [{\"marker\": {\"colorbar\": {\"outlinewidth\": 0, \"ticks\": \"\"}}, \"type\": \"scattercarpet\"}], \"scattergeo\": [{\"marker\": {\"colorbar\": {\"outlinewidth\": 0, \"ticks\": \"\"}}, \"type\": \"scattergeo\"}], \"scattergl\": [{\"marker\": {\"colorbar\": {\"outlinewidth\": 0, \"ticks\": \"\"}}, \"type\": \"scattergl\"}], \"scattermapbox\": [{\"marker\": {\"colorbar\": {\"outlinewidth\": 0, \"ticks\": \"\"}}, \"type\": \"scattermapbox\"}], \"scatterpolar\": [{\"marker\": {\"colorbar\": {\"outlinewidth\": 0, \"ticks\": \"\"}}, \"type\": \"scatterpolar\"}], \"scatterpolargl\": [{\"marker\": {\"colorbar\": {\"outlinewidth\": 0, \"ticks\": \"\"}}, \"type\": \"scatterpolargl\"}], \"scatterternary\": [{\"marker\": {\"colorbar\": {\"outlinewidth\": 0, \"ticks\": \"\"}}, \"type\": \"scatterternary\"}], \"surface\": [{\"colorbar\": {\"outlinewidth\": 0, \"ticks\": \"\"}, \"colorscale\": [[0.0, \"#0d0887\"], [0.1111111111111111, \"#46039f\"], [0.2222222222222222, \"#7201a8\"], [0.3333333333333333, \"#9c179e\"], [0.4444444444444444, \"#bd3786\"], [0.5555555555555556, \"#d8576b\"], [0.6666666666666666, \"#ed7953\"], [0.7777777777777778, \"#fb9f3a\"], [0.8888888888888888, \"#fdca26\"], [1.0, \"#f0f921\"]], \"type\": \"surface\"}], \"table\": [{\"cells\": {\"fill\": {\"color\": \"#EBF0F8\"}, \"line\": {\"color\": \"white\"}}, \"header\": {\"fill\": {\"color\": \"#C8D4E3\"}, \"line\": {\"color\": \"white\"}}, \"type\": \"table\"}]}, \"layout\": {\"annotationdefaults\": {\"arrowcolor\": \"#2a3f5f\", \"arrowhead\": 0, \"arrowwidth\": 1}, \"coloraxis\": {\"colorbar\": {\"outlinewidth\": 0, \"ticks\": \"\"}}, \"colorscale\": {\"diverging\": [[0, \"#8e0152\"], [0.1, \"#c51b7d\"], [0.2, \"#de77ae\"], [0.3, \"#f1b6da\"], [0.4, \"#fde0ef\"], [0.5, \"#f7f7f7\"], [0.6, \"#e6f5d0\"], [0.7, \"#b8e186\"], [0.8, \"#7fbc41\"], [0.9, \"#4d9221\"], [1, \"#276419\"]], \"sequential\": [[0.0, \"#0d0887\"], [0.1111111111111111, \"#46039f\"], [0.2222222222222222, \"#7201a8\"], [0.3333333333333333, \"#9c179e\"], [0.4444444444444444, \"#bd3786\"], [0.5555555555555556, \"#d8576b\"], [0.6666666666666666, \"#ed7953\"], [0.7777777777777778, \"#fb9f3a\"], [0.8888888888888888, \"#fdca26\"], [1.0, \"#f0f921\"]], \"sequentialminus\": [[0.0, \"#0d0887\"], [0.1111111111111111, \"#46039f\"], [0.2222222222222222, \"#7201a8\"], [0.3333333333333333, \"#9c179e\"], [0.4444444444444444, \"#bd3786\"], [0.5555555555555556, \"#d8576b\"], [0.6666666666666666, \"#ed7953\"], [0.7777777777777778, \"#fb9f3a\"], [0.8888888888888888, \"#fdca26\"], [1.0, \"#f0f921\"]]}, \"colorway\": [\"#636efa\", \"#EF553B\", \"#00cc96\", \"#ab63fa\", \"#FFA15A\", \"#19d3f3\", \"#FF6692\", \"#B6E880\", \"#FF97FF\", \"#FECB52\"], \"font\": {\"color\": \"#2a3f5f\"}, \"geo\": {\"bgcolor\": \"white\", \"lakecolor\": \"white\", \"landcolor\": \"#E5ECF6\", \"showlakes\": true, \"showland\": true, \"subunitcolor\": \"white\"}, \"hoverlabel\": {\"align\": \"left\"}, \"hovermode\": \"closest\", \"mapbox\": {\"style\": \"light\"}, \"paper_bgcolor\": \"white\", \"plot_bgcolor\": \"#E5ECF6\", \"polar\": {\"angularaxis\": {\"gridcolor\": \"white\", \"linecolor\": \"white\", \"ticks\": \"\"}, \"bgcolor\": \"#E5ECF6\", \"radialaxis\": {\"gridcolor\": \"white\", \"linecolor\": \"white\", \"ticks\": \"\"}}, \"scene\": {\"xaxis\": {\"backgroundcolor\": \"#E5ECF6\", \"gridcolor\": \"white\", \"gridwidth\": 2, \"linecolor\": \"white\", \"showbackground\": true, \"ticks\": \"\", \"zerolinecolor\": \"white\"}, \"yaxis\": {\"backgroundcolor\": \"#E5ECF6\", \"gridcolor\": \"white\", \"gridwidth\": 2, \"linecolor\": \"white\", \"showbackground\": true, \"ticks\": \"\", \"zerolinecolor\": \"white\"}, \"zaxis\": {\"backgroundcolor\": \"#E5ECF6\", \"gridcolor\": \"white\", \"gridwidth\": 2, \"linecolor\": \"white\", \"showbackground\": true, \"ticks\": \"\", \"zerolinecolor\": \"white\"}}, \"shapedefaults\": {\"line\": {\"color\": \"#2a3f5f\"}}, \"ternary\": {\"aaxis\": {\"gridcolor\": \"white\", \"linecolor\": \"white\", \"ticks\": \"\"}, \"baxis\": {\"gridcolor\": \"white\", \"linecolor\": \"white\", \"ticks\": \"\"}, \"bgcolor\": \"#E5ECF6\", \"caxis\": {\"gridcolor\": \"white\", \"linecolor\": \"white\", \"ticks\": \"\"}}, \"title\": {\"x\": 0.05}, \"xaxis\": {\"automargin\": true, \"gridcolor\": \"white\", \"linecolor\": \"white\", \"ticks\": \"\", \"title\": {\"standoff\": 15}, \"zerolinecolor\": \"white\", \"zerolinewidth\": 2}, \"yaxis\": {\"automargin\": true, \"gridcolor\": \"white\", \"linecolor\": \"white\", \"ticks\": \"\", \"title\": {\"standoff\": 15}, \"zerolinecolor\": \"white\", \"zerolinewidth\": 2}}}, \"xaxis\": {\"anchor\": \"y\", \"categoryarray\": [\"Cluster 0\", \"Cluster 1\", \"Cluster 2\", \"Cluster 3\"], \"categoryorder\": \"array\", \"domain\": [0.0, 1.0], \"title\": {\"text\": \"Cluster\"}}, \"xaxis2\": {\"anchor\": \"y2\", \"domain\": [0.0, 1.0], \"matches\": \"x\", \"showgrid\": true, \"showticklabels\": false}, \"yaxis\": {\"anchor\": \"x\", \"domain\": [0.0, 0.7326], \"title\": {\"text\": \"count\"}}, \"yaxis2\": {\"anchor\": \"x2\", \"domain\": [0.7426, 1.0], \"matches\": \"y2\", \"showgrid\": false, \"showline\": false, \"showticklabels\": false, \"ticks\": \"\"}},\n",
       "                        {\"responsive\": true}\n",
       "                    ).then(function(){\n",
       "                            \n",
       "var gd = document.getElementById('e484cf48-5fc3-40b1-ad22-af9abcb95789');\n",
       "var x = new MutationObserver(function (mutations, observer) {{\n",
       "        var display = window.getComputedStyle(gd).display;\n",
       "        if (!display || display === 'none') {{\n",
       "            console.log([gd, 'removed!']);\n",
       "            Plotly.purge(gd);\n",
       "            observer.disconnect();\n",
       "        }}\n",
       "}});\n",
       "\n",
       "// Listen for the removal of the full notebook cells\n",
       "var notebookContainer = gd.closest('#notebook-container');\n",
       "if (notebookContainer) {{\n",
       "    x.observe(notebookContainer, {childList: true});\n",
       "}}\n",
       "\n",
       "// Listen for the clearing of the current output cell\n",
       "var outputEl = gd.closest('.output');\n",
       "if (outputEl) {{\n",
       "    x.observe(outputEl, {childList: true});\n",
       "}}\n",
       "\n",
       "                        })\n",
       "                };\n",
       "                });\n",
       "            </script>\n",
       "        </div>"
      ]
     },
     "metadata": {},
     "output_type": "display_data"
    }
   ],
   "source": [
    "plot_model(kmeans, plot = 'distribution')"
   ]
  },
  {
   "cell_type": "code",
   "execution_count": null,
   "metadata": {},
   "outputs": [],
   "source": []
  }
 ],
 "metadata": {
  "kernelspec": {
   "display_name": "Python 3",
   "language": "python",
   "name": "python3"
  },
  "language_info": {
   "codemirror_mode": {
    "name": "ipython",
    "version": 3
   },
   "file_extension": ".py",
   "mimetype": "text/x-python",
   "name": "python",
   "nbconvert_exporter": "python",
   "pygments_lexer": "ipython3",
   "version": "3.7.4"
  }
 },
 "nbformat": 4,
 "nbformat_minor": 4
}
